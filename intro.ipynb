{
 "cells": [
  {
   "cell_type": "markdown",
   "metadata": {},
   "source": [
    "# Shifted Linear Systems:\n",
    "\n",
    "\\begin{equation}\n",
    "(\\boldsymbol A + \\sigma_i \\boldsymbol I) \\boldsymbol x(\\sigma_i) = \\boldsymbol b(\\sigma_i)\n",
    "\\end{equation}\n",
    "\n",
    "where\n",
    "\n",
    "$\\boldsymbol A \\in \\mathbb C^{n \\times n}$\n",
    "\n",
    "$i = 1, 2, ..., L$\n",
    "\n",
    "$\\{\\sigma_i\\}_{i=1}^L \\subset \\mathbb C$ "
   ]
  },
  {
   "cell_type": "markdown",
   "metadata": {},
   "source": [
    "\n",
    "### Applications:\n",
    "Tikhonov–Phillips regularization, lattice quantum chromodynamics, rational Krylov subspaces, diﬀuse optical tomography, etc"
   ]
  },
  {
   "cell_type": "markdown",
   "metadata": {},
   "source": [
    "### Possible Solution:\n",
    "When $\\boldsymbol A$ is *large* and *sparse*, matrix-free iterative methods are of interest, including **Krylov** subspace methods."
   ]
  },
  {
   "cell_type": "markdown",
   "metadata": {},
   "source": [
    "#### Why Krylov? \n",
    "The Krylov subspace ($\\mathcal{K}_j$) is *invariant* (does not change) under $\\boldsymbol A + \\sigma_i \\boldsymbol I$ (scalar shift of the coeﬃcient matrix).\n",
    "\n",
    "\\begin{equation}\n",
    "\\mathcal{K}_j(\\boldsymbol A + {\\sigma_i}_1 \\boldsymbol I , \\boldsymbol u) = \\mathcal{K}_j(\\boldsymbol A + {\\sigma_i}_2 \\boldsymbol I , \\widetilde{\\boldsymbol u}) \\leftarrow Shift \\, Invariance\n",
    "\\end{equation}\n",
    "\n",
    "where\n",
    "\n",
    "$\\widetilde{\\boldsymbol u} = \\beta \\boldsymbol u$ ($\\beta \\neq 0$) $\\leftarrow Collinearity \\, Requirement$\n",
    "\n",
    "#### Obstacles:\n",
    "\n",
    "Unrelated RHSs (${\\boldsymbol b(\\sigma_i)}_{i=1}^L$ not collinear) $\\rightarrow$ can't exploit the *shift invariance* property of Krylov subspace\n",
    "\n",
    "[22] $\\rightarrow$ for GMRES-type methods, we cannot simultaneously minimize all residuals while maintaining collinearity (ToDo)\n",
    "\n",
    "[22] $\\rightarrow$ the collinearity requirement causes great difficulty when incorporating shifted system solvers into the subspace recycling framework (?)\n"
   ]
  },
  {
   "cell_type": "markdown",
   "metadata": {},
   "source": [
    "#### Soodhalter's proposal\n",
    "\n",
    "Use Krylov subspace:\n",
    "* shift invariance $\\checkmark$\n",
    "* Collinearity restriction $\\times$ \n",
    "\n",
    "But how? Multiple shifted systems is equivalent to a Sylvester equation, therefore the procedure for solving Sylvester equations is exploited [46].\n",
    "\n",
    "Sylvester operator [17, 46, 55, 53] $\\rightarrow$ build bKrylov (block Krylov subspace) $\\rightarrow$ shift invariance\n",
    "\n",
    "[48, 50, 44, 11, 32, 40, 45]\n"
   ]
  },
  {
   "cell_type": "markdown",
   "metadata": {},
   "source": [
    "Note!\n",
    "This paper is not an extension of shifted GMRES [22] or shifted FOM (full orthogonalization method) [54] to bKrylov with multiple RHSs. These extensions already exists [12, 66]. These methods require that the columns of the block residual span the same subspace-hence not applicable to the case of unrelated RHSs."
   ]
  },
  {
   "cell_type": "markdown",
   "metadata": {},
   "source": []
  }
 ],
 "metadata": {
  "kernelspec": {
   "display_name": "Julia 1.6.2",
   "language": "julia",
   "name": "julia-1.6"
  },
  "language_info": {
   "file_extension": ".jl",
   "mimetype": "application/julia",
   "name": "julia",
   "version": "1.6.2"
  },
  "orig_nbformat": 4,
  "vscode": {
   "interpreter": {
    "hash": "916dbcbb3f70747c44a77c7bcd40155683ae19c65e1c03b4aa3499c5328201f1"
   }
  }
 },
 "nbformat": 4,
 "nbformat_minor": 2
}
