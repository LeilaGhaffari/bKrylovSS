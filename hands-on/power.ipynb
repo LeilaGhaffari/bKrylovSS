{
 "cells": [
  {
   "cell_type": "code",
   "execution_count": 80,
   "metadata": {},
   "outputs": [],
   "source": [
    "using LinearAlgebra\n",
    "#using SparseArrays\n",
    "#using UnicodePlots\n",
    "using Arpack"
   ]
  },
  {
   "cell_type": "code",
   "execution_count": 81,
   "metadata": {},
   "outputs": [
    {
     "data": {
      "text/plain": [
       "5×1 Matrix{Float64}:\n",
       " 0.7448151277034165\n",
       " 0.7050130187012926\n",
       " 0.5593989475431629\n",
       " 0.7214521110638226\n",
       " 0.5606322862524342"
      ]
     },
     "execution_count": 81,
     "metadata": {},
     "output_type": "execute_result"
    }
   ],
   "source": [
    "n = 5\n",
    "iter = 20\n",
    "x = rand(n, 1)"
   ]
  },
  {
   "cell_type": "code",
   "execution_count": 82,
   "metadata": {},
   "outputs": [
    {
     "data": {
      "text/plain": [
       "5×5 Matrix{Float64}:\n",
       " 0.2615  0.3692  0.0154  0.1231  0.2308\n",
       " 0.3538  0.0769  0.1077  0.2154  0.2462\n",
       " 0.0615  0.0923  0.2     0.3077  0.3385\n",
       " 0.1538  0.1846  0.2923  0.3231  0.0462\n",
       " 0.1692  0.2769  0.3846  0.0308  0.1385"
      ]
     },
     "execution_count": 82,
     "metadata": {},
     "output_type": "execute_result"
    }
   ],
   "source": [
    "A =[\n",
    "    0.2615    0.3692    0.0154    0.1231    0.2308;\n",
    "    0.3538    0.0769    0.1077    0.2154    0.2462;\n",
    "    0.0615    0.0923    0.2000    0.3077    0.3385;\n",
    "    0.1538    0.1846    0.2923    0.3231    0.0462;\n",
    "    0.1692    0.2769    0.3846    0.0308    0.1385\n",
    "]"
   ]
  },
  {
   "cell_type": "code",
   "execution_count": 83,
   "metadata": {},
   "outputs": [],
   "source": [
    "for i in 1:iter\n",
    "    x = A*x\n",
    "end"
   ]
  },
  {
   "cell_type": "code",
   "execution_count": 84,
   "metadata": {},
   "outputs": [
    {
     "data": {
      "text/plain": [
       "5×1 Matrix{Float64}:\n",
       " 0.6582526551165024\n",
       " 0.6582526551112673\n",
       " 0.6582526550987751\n",
       " 0.6582526551022747\n",
       " 0.6582526551061648"
      ]
     },
     "execution_count": 84,
     "metadata": {},
     "output_type": "execute_result"
    }
   ],
   "source": [
    "x"
   ]
  },
  {
   "cell_type": "code",
   "execution_count": 85,
   "metadata": {},
   "outputs": [
    {
     "data": {
      "text/plain": [
       "5×1 Matrix{Float64}:\n",
       " 0.6582526551101593\n",
       " 0.6582526551085809\n",
       " 0.6582526551045966\n",
       " 0.6582526551052797\n",
       " 0.6582526551063649"
      ]
     },
     "execution_count": 85,
     "metadata": {},
     "output_type": "execute_result"
    }
   ],
   "source": [
    "A*x"
   ]
  },
  {
   "cell_type": "code",
   "execution_count": 86,
   "metadata": {},
   "outputs": [
    {
     "name": "stderr",
     "output_type": "stream",
     "text": [
      "┌ Warning: Adjusting nev from 6 to 3\n",
      "└ @ Arpack /home/leila/.julia/packages/Arpack/pLziT/src/Arpack.jl:92\n"
     ]
    },
    {
     "data": {
      "text/plain": [
       "3-element Vector{ComplexF64}:\n",
       "                  1.0 + 0.0im\n",
       " -0.32732159246273823 + 0.0im\n",
       "  0.32732159246273773 + 0.0im"
      ]
     },
     "execution_count": 86,
     "metadata": {},
     "output_type": "execute_result"
    }
   ],
   "source": [
    "a, b = eigs(A)\n",
    "a"
   ]
  },
  {
   "cell_type": "code",
   "execution_count": 87,
   "metadata": {},
   "outputs": [
    {
     "data": {
      "text/plain": [
       "5×3 Matrix{ComplexF64}:\n",
       " -0.447214+0.0im  -0.0976218+0.0im  -0.678073+0.0im\n",
       " -0.447214+0.0im   -0.352626+0.0im  -0.322336+0.0im\n",
       " -0.447214+0.0im   -0.550129+0.0im   0.550029+0.0im\n",
       " -0.447214+0.0im    0.322236+0.0im   0.352526+0.0im\n",
       " -0.447214+0.0im    0.677973+0.0im  0.0975221+0.0im"
      ]
     },
     "execution_count": 87,
     "metadata": {},
     "output_type": "execute_result"
    }
   ],
   "source": [
    "b"
   ]
  },
  {
   "cell_type": "code",
   "execution_count": 88,
   "metadata": {},
   "outputs": [],
   "source": [
    "X = rand(n, 1)\n",
    "B = rand(Float64, (n, n));"
   ]
  },
  {
   "cell_type": "code",
   "execution_count": 89,
   "metadata": {},
   "outputs": [],
   "source": [
    "for i in 1:iter\n",
    "    x = B*X\n",
    "end"
   ]
  },
  {
   "cell_type": "code",
   "execution_count": 90,
   "metadata": {},
   "outputs": [
    {
     "data": {
      "text/plain": [
       "5×1 Matrix{Float64}:\n",
       " 0.45377639286618554\n",
       " 0.06808348513414941\n",
       " 0.6040210081970452\n",
       " 0.3710426221006333\n",
       " 0.8635599775822709"
      ]
     },
     "execution_count": 90,
     "metadata": {},
     "output_type": "execute_result"
    }
   ],
   "source": [
    "X"
   ]
  },
  {
   "cell_type": "code",
   "execution_count": 91,
   "metadata": {},
   "outputs": [
    {
     "data": {
      "text/plain": [
       "5×1 Matrix{Float64}:\n",
       " 0.8655609975964706\n",
       " 1.2779835367896784\n",
       " 0.5844083388429492\n",
       " 1.0079331996374328\n",
       " 1.0649502338906212"
      ]
     },
     "execution_count": 91,
     "metadata": {},
     "output_type": "execute_result"
    }
   ],
   "source": [
    "B*X"
   ]
  },
  {
   "cell_type": "code",
   "execution_count": 92,
   "metadata": {},
   "outputs": [
    {
     "name": "stderr",
     "output_type": "stream",
     "text": [
      "┌ Warning: Adjusting nev from 6 to 3\n",
      "└ @ Arpack /home/leila/.julia/packages/Arpack/pLziT/src/Arpack.jl:92\n"
     ]
    },
    {
     "data": {
      "text/plain": [
       "3-element Vector{ComplexF64}:\n",
       "   2.3242670253076745 + 0.0im\n",
       "   0.8425077392558435 + 0.0im\n",
       " -0.22984417041979632 + 0.6957230866934604im"
      ]
     },
     "execution_count": 92,
     "metadata": {},
     "output_type": "execute_result"
    }
   ],
   "source": [
    "c, d = eigs(B);\n",
    "c"
   ]
  },
  {
   "cell_type": "code",
   "execution_count": null,
   "metadata": {},
   "outputs": [],
   "source": []
  }
 ],
 "metadata": {
  "kernelspec": {
   "display_name": "Julia 1.6.2",
   "language": "julia",
   "name": "julia-1.6"
  },
  "language_info": {
   "file_extension": ".jl",
   "mimetype": "application/julia",
   "name": "julia",
   "version": "1.6.2"
  },
  "orig_nbformat": 4,
  "vscode": {
   "interpreter": {
    "hash": "916dbcbb3f70747c44a77c7bcd40155683ae19c65e1c03b4aa3499c5328201f1"
   }
  }
 },
 "nbformat": 4,
 "nbformat_minor": 2
}
