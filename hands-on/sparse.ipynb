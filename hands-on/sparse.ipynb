{
 "cells": [
  {
   "cell_type": "code",
   "execution_count": 185,
   "metadata": {},
   "outputs": [],
   "source": [
    "using LinearAlgebra\n",
    "using SparseArrays\n",
    "using UnicodePlots\n",
    "using Arpack"
   ]
  },
  {
   "cell_type": "code",
   "execution_count": 186,
   "metadata": {},
   "outputs": [],
   "source": [
    "n = 200\n",
    "x = rand(n, 1);"
   ]
  },
  {
   "cell_type": "code",
   "execution_count": 187,
   "metadata": {},
   "outputs": [],
   "source": [
    "A = Matrix(rand([1,2,3], n, n));\n",
    "A3 = Tridiagonal(A)\n",
    "A3sp = sparse(A3)\n",
    "A3no0 = dropzeros(A3sp);"
   ]
  },
  {
   "cell_type": "code",
   "execution_count": 188,
   "metadata": {},
   "outputs": [],
   "source": [
    "L, U = factorize(A);"
   ]
  },
  {
   "cell_type": "code",
   "execution_count": 189,
   "metadata": {},
   "outputs": [],
   "source": [
    "λ_A, ϕ_A = eigvals(A), eigvecs(A);"
   ]
  },
  {
   "cell_type": "code",
   "execution_count": 190,
   "metadata": {},
   "outputs": [
    {
     "data": {
      "text/plain": [
       "5×4 SparseMatrixCSC{Int64, Int64} with 4 stored entries:\n",
       " ⋅   ⋅  ⋅  1\n",
       " ⋅   ⋅  ⋅  ⋅\n",
       " ⋅  -5  ⋅  ⋅\n",
       " 2   ⋅  ⋅  ⋅\n",
       " ⋅   ⋅  ⋅  3"
      ]
     },
     "execution_count": 190,
     "metadata": {},
     "output_type": "execute_result"
    }
   ],
   "source": [
    "# Create a better sparse matrix manually\n",
    "I = [1, 4, 3, 5]; J = [4, 1, 2, 4]; V = [1, 2, -5, 3];\n",
    "S = sparse(I, J, V)"
   ]
  },
  {
   "cell_type": "code",
   "execution_count": 191,
   "metadata": {},
   "outputs": [],
   "source": [
    "# spdiagm\n",
    "nhalf = Int(n/2)\n",
    "B = spdiagm(0=>1:n, -1=>n-1:-1:1, 1=>2:n, -nhalf=>n-1:-1:nhalf, nhalf=>2:nhalf);\n",
    "C = spdiagm(0=>1:n, -1=>2:n,      1=>2:n, -nhalf=>n-1:-1:nhalf, nhalf=>n-1:-1:nhalf);"
   ]
  },
  {
   "cell_type": "code",
   "execution_count": 192,
   "metadata": {},
   "outputs": [
    {
     "name": "stdout",
     "output_type": "stream",
     "text": [
      "  0.111960 seconds (46.27 k allocations: 3.110 MiB, 98.76% compilation time)\n"
     ]
    }
   ],
   "source": [
    "@time [C*x for i in 1:200];"
   ]
  },
  {
   "cell_type": "code",
   "execution_count": 193,
   "metadata": {},
   "outputs": [
    {
     "name": "stdout",
     "output_type": "stream",
     "text": [
      "  0.142748 seconds (46.27 k allocations: 3.110 MiB, 24.59% gc time, 99.20% compilation time)\n"
     ]
    }
   ],
   "source": [
    "@time [B*x for i in 1:200];"
   ]
  },
  {
   "cell_type": "code",
   "execution_count": 194,
   "metadata": {},
   "outputs": [],
   "source": [
    "B_lu = lu(B);\n",
    "B_sym_lu = lu(C);"
   ]
  },
  {
   "cell_type": "code",
   "execution_count": 195,
   "metadata": {},
   "outputs": [
    {
     "name": "stderr",
     "output_type": "stream",
     "text": [
      "┌ Warning: Adjusting nev from 200 to 199\n",
      "└ @ Arpack /home/leila/.julia/packages/Arpack/pLziT/src/Arpack.jl:92\n"
     ]
    }
   ],
   "source": [
    "λ, ϕ = eigs(C, nev=Int(n));"
   ]
  },
  {
   "cell_type": "code",
   "execution_count": 196,
   "metadata": {},
   "outputs": [],
   "source": [
    "M_list = [A, B, C];"
   ]
  },
  {
   "cell_type": "code",
   "execution_count": 197,
   "metadata": {},
   "outputs": [
    {
     "name": "stdout",
     "output_type": "stream",
     "text": [
      "  0.138758 seconds (55.43 k allocations: 3.769 MiB, 79.55% compilation time)\n",
      "  0.074039 seconds (66.29 k allocations: 4.616 MiB, 98.74% compilation time)\n",
      "  0.000544 seconds (412 allocations: 364.688 KiB)\n"
     ]
    }
   ],
   "source": [
    "for m in M_list\n",
    "    @time [m*x for i in 1:200]\n",
    "end"
   ]
  },
  {
   "cell_type": "code",
   "execution_count": 209,
   "metadata": {},
   "outputs": [
    {
     "name": "stderr",
     "output_type": "stream",
     "text": [
      "┌ Warning: Adjusting nev from 200 to 198\n",
      "└ @ Arpack /home/leila/.julia/packages/Arpack/pLziT/src/Arpack.jl:92\n"
     ]
    },
    {
     "name": "stdout",
     "output_type": "stream",
     "text": [
      "  0.241015 seconds (2.37 k allocations: 5.277 MiB)\n"
     ]
    },
    {
     "name": "stderr",
     "output_type": "stream",
     "text": [
      "┌ Warning: Adjusting nev from 200 to 198\n",
      "└ @ Arpack /home/leila/.julia/packages/Arpack/pLziT/src/Arpack.jl:92\n"
     ]
    },
    {
     "name": "stdout",
     "output_type": "stream",
     "text": [
      "  0.156083 seconds (2.31 k allocations: 4.816 MiB)\n"
     ]
    },
    {
     "name": "stderr",
     "output_type": "stream",
     "text": [
      "┌ Warning: Adjusting nev from 200 to 199\n",
      "└ @ Arpack /home/leila/.julia/packages/Arpack/pLziT/src/Arpack.jl:92\n"
     ]
    },
    {
     "name": "stdout",
     "output_type": "stream",
     "text": [
      "  0.099771 seconds (1.29 k allocations: 1.010 MiB)\n"
     ]
    }
   ],
   "source": [
    "# See how important symmetry is\n",
    "for m in M_list\n",
    "    @time eigs(m, nev=n)\n",
    "end"
   ]
  },
  {
   "cell_type": "code",
   "execution_count": null,
   "metadata": {},
   "outputs": [],
   "source": []
  }
 ],
 "metadata": {
  "kernelspec": {
   "display_name": "Julia 1.6.2",
   "language": "julia",
   "name": "julia-1.6"
  },
  "language_info": {
   "file_extension": ".jl",
   "mimetype": "application/julia",
   "name": "julia",
   "version": "1.6.2"
  },
  "orig_nbformat": 4,
  "vscode": {
   "interpreter": {
    "hash": "916dbcbb3f70747c44a77c7bcd40155683ae19c65e1c03b4aa3499c5328201f1"
   }
  }
 },
 "nbformat": 4,
 "nbformat_minor": 2
}
