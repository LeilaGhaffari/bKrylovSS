{
 "cells": [
  {
   "cell_type": "code",
   "execution_count": 16,
   "metadata": {},
   "outputs": [],
   "source": [
    "using LinearAlgebra\n",
    "using SparseArrays\n",
    "using Plots"
   ]
  },
  {
   "cell_type": "code",
   "execution_count": 17,
   "metadata": {},
   "outputs": [
    {
     "data": {
      "text/plain": [
       "arnoldi (generic function with 1 method)"
      ]
     },
     "execution_count": 17,
     "metadata": {},
     "output_type": "execute_result"
    }
   ],
   "source": [
    "# Arnoldi process\n",
    "function arnoldi(A, u, m)\n",
    "    n = size(A, 1)\n",
    "    Q = zeros(n, m+1)\n",
    "    H = zeros(m+1, m)\n",
    "    Q[:, 1] = u / norm(u)\n",
    "    for j in 1:m\n",
    "        v = A*Q[:, j]\n",
    "        for i in 1:j\n",
    "            H[i, j] = Q[:, i]' * v\n",
    "            v -= H[i, j] * Q[:, i]\n",
    "        end\n",
    "        H[j+1, j] = norm(v)\n",
    "        Q[:, j+1] = v / H[j+1, j]\n",
    "    end\n",
    "    Q, H\n",
    "end"
   ]
  },
  {
   "cell_type": "code",
   "execution_count": 18,
   "metadata": {},
   "outputs": [],
   "source": [
    "n = 1000\n",
    "M = 300\n",
    "L = 20\n",
    "#^^^^^^^^^^^^^^^^^^^^^^^#\n",
    "#  A*X_σ - X_σ * D = B  #\n",
    "#_______________________#\n",
    "# LHS\n",
    "#   A\n",
    "λ = [i+10 for i in 1:n]\n",
    "a = randn(n, n)\n",
    "A = UpperTriangular(a) - diagm(diag(a)) + diagm(λ)\n",
    "#   Shift\n",
    "σ = rand(1:9, L)\n",
    "D = diagm(σ) \n",
    "# RHS\n",
    "B = randn(n, L);"
   ]
  },
  {
   "cell_type": "code",
   "execution_count": 19,
   "metadata": {},
   "outputs": [],
   "source": [
    "# Initialize\n",
    "X_σ     = zeros(n, L) \n",
    "X_exact = zeros(n, L)\n",
    "Res     = zeros(M, L);"
   ]
  },
  {
   "cell_type": "code",
   "execution_count": 20,
   "metadata": {},
   "outputs": [
    {
     "data": {
      "text/plain": [
       "5.059904458542247e-14"
      ]
     },
     "execution_count": 20,
     "metadata": {},
     "output_type": "execute_result"
    }
   ],
   "source": [
    "for l=1:L\n",
    "    lhs = A - D[l, l]*I\n",
    "    b = B[:, l]\n",
    "    X_exact[:, l] = lhs \\ b\n",
    "    Q, H = arnoldi(lhs, b, M)\n",
    "    for m in 1:M\n",
    "        s = vcat(norm(b), zeros(m, 1))\n",
    "        z = H[1:m+1, 1:m] \\ s\n",
    "        x = Q[:, 1:m] * z\n",
    "        Res[m, l] = norm(b - lhs*x)\n",
    "        X_σ[:, l] = x\n",
    "    end\n",
    "end\n",
    "norm(X_exact - X_σ)"
   ]
  },
  {
   "cell_type": "code",
   "execution_count": null,
   "metadata": {},
   "outputs": [],
   "source": []
  }
 ],
 "metadata": {
  "kernelspec": {
   "display_name": "Julia 1.6.2",
   "language": "julia",
   "name": "julia-1.6"
  },
  "language_info": {
   "file_extension": ".jl",
   "mimetype": "application/julia",
   "name": "julia",
   "version": "1.6.2"
  },
  "orig_nbformat": 4,
  "vscode": {
   "interpreter": {
    "hash": "916dbcbb3f70747c44a77c7bcd40155683ae19c65e1c03b4aa3499c5328201f1"
   }
  }
 },
 "nbformat": 4,
 "nbformat_minor": 2
}
