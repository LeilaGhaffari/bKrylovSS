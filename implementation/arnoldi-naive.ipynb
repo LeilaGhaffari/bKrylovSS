{
 "cells": [
  {
   "cell_type": "code",
   "execution_count": 44,
   "metadata": {},
   "outputs": [
    {
     "data": {
      "text/plain": [
       "arnoldi (generic function with 1 method)"
      ]
     },
     "execution_count": 44,
     "metadata": {},
     "output_type": "execute_result"
    }
   ],
   "source": [
    "using LinearAlgebra\n",
    "using SparseArrays\n",
    "using Plots\n",
    "include(\"arnoldi.jl\")"
   ]
  },
  {
   "cell_type": "code",
   "execution_count": 45,
   "metadata": {},
   "outputs": [],
   "source": [
    "n = 100\n",
    "M = 30\n",
    "L = 4\n",
    "#^^^^^^^^^^^^^^^^^^^^^^^#\n",
    "#  A*X_σ - X_σ * D = B  #\n",
    "#_______________________#\n",
    "# LHS\n",
    "#   A\n",
    "λ = [i+10 for i in 1:n]\n",
    "a = randn(n, n)\n",
    "A = UpperTriangular(a) - diagm(diag(a)) + diagm(λ)\n",
    "#   Shift\n",
    "σ = rand(1:9, L)\n",
    "D = diagm(σ) \n",
    "# RHS\n",
    "B = randn(n, L);"
   ]
  },
  {
   "cell_type": "code",
   "execution_count": 46,
   "metadata": {},
   "outputs": [],
   "source": [
    "# Initialize\n",
    "X_σ     = zeros(n, L) \n",
    "X_exact = zeros(n, L)\n",
    "Res     = zeros(M, L);"
   ]
  },
  {
   "cell_type": "code",
   "execution_count": 47,
   "metadata": {},
   "outputs": [
    {
     "name": "stdout",
     "output_type": "stream",
     "text": [
      "norm(lhs * Q[:, 1:M] - Q * H) = 1.024259293270996e-13\n",
      "norm(lhs * Q[:, 1:M] - Q * H) = 1.0939229429435777e-13\n",
      "norm(lhs * Q[:, 1:M] - Q * H) = 1.1153827680532373e-13\n",
      "norm(lhs * Q[:, 1:M] - Q * H) = 1.0963209394621552e-13\n"
     ]
    },
    {
     "data": {
      "text/plain": [
       "5.557158435166617e-6"
      ]
     },
     "execution_count": 47,
     "metadata": {},
     "output_type": "execute_result"
    }
   ],
   "source": [
    "# [A](nxn) x = b\n",
    "# [Q](n x m+1) = [q1 q2 ... q(m+1)], q1 = normalized b\n",
    "# [H](m+1 x m): upper Hessenberg\n",
    "# A Q_m = Q H , [Q_m](nxm) = [q1 q2 ... qm]\n",
    "# x = Q_m z\n",
    "# A Q_m z = b = Q H z\n",
    "# Q' b = Q' Q H z => H z = Q' b = s => z = H \\ s => x = Q_m z\n",
    "for l=1:L\n",
    "    lhs = A - D[l, l]*I\n",
    "    b = B[:, l]\n",
    "    X_exact[:, l] = lhs \\ b\n",
    "    Q, H = arnoldi(lhs, b, M)\n",
    "    @show norm(lhs*Q[:, 1:M] - Q*H)\n",
    "    for m in 1:M\n",
    "        s = vcat(norm(b), zeros(m, 1)) # s = Q' b\n",
    "        z = H[1:m+1, 1:m] \\ s          # z = H \\ s\n",
    "        x = Q[:, 1:m] * z              # x = Q_m z\n",
    "        # Populate results\n",
    "        Res[m, l] = norm(b - lhs*x)\n",
    "        X_σ[:, l] = x\n",
    "    end\n",
    "end\n",
    "norm(X_exact - X_σ)"
   ]
  },
  {
   "cell_type": "code",
   "execution_count": null,
   "metadata": {},
   "outputs": [],
   "source": []
  }
 ],
 "metadata": {
  "kernelspec": {
   "display_name": "Julia 1.8.0",
   "language": "julia",
   "name": "julia-1.8"
  },
  "language_info": {
   "file_extension": ".jl",
   "mimetype": "application/julia",
   "name": "julia",
   "version": "1.8.0"
  },
  "orig_nbformat": 4,
  "vscode": {
   "interpreter": {
    "hash": "916dbcbb3f70747c44a77c7bcd40155683ae19c65e1c03b4aa3499c5328201f1"
   }
  }
 },
 "nbformat": 4,
 "nbformat_minor": 2
}
