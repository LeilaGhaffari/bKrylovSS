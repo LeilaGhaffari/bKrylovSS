{
 "cells": [
  {
   "cell_type": "code",
   "execution_count": 1,
   "metadata": {},
   "outputs": [],
   "source": [
    "using LinearAlgebra\n",
    "using SparseArrays\n",
    "using Plots"
   ]
  },
  {
   "cell_type": "code",
   "execution_count": 2,
   "metadata": {},
   "outputs": [
    {
     "data": {
      "text/plain": [
       "arnoldi (generic function with 1 method)"
      ]
     },
     "execution_count": 2,
     "metadata": {},
     "output_type": "execute_result"
    }
   ],
   "source": [
    "# Arnoldi process\n",
    "function arnoldi(A, u, m)\n",
    "    n = size(A, 1)\n",
    "    Q = zeros(n, m+1)\n",
    "    H = zeros(m+1, m)\n",
    "    Q[:, 1] = u / norm(u)\n",
    "    for j in 1:m\n",
    "        v = A*Q[:, j]\n",
    "        for i in 1:j\n",
    "            H[i, j] = Q[:, i]' * v\n",
    "            v -= H[i, j] * Q[:, i]\n",
    "        end\n",
    "        H[j+1, j] = norm(v)\n",
    "        Q[:, j+1] = v / H[j+1, j]\n",
    "    end\n",
    "    Q, H\n",
    "end"
   ]
  },
  {
   "cell_type": "code",
   "execution_count": 9,
   "metadata": {},
   "outputs": [],
   "source": [
    "n = 100\n",
    "M = 30\n",
    "L = 4\n",
    "#^^^^^^^^^^^^^^^^^^^^^^^#\n",
    "#  A*X_σ - X_σ * D = B  #\n",
    "#_______________________#\n",
    "# LHS\n",
    "#   A\n",
    "λ = [i+10 for i in 1:n]\n",
    "a = randn(n, n)\n",
    "A = UpperTriangular(a) - diagm(diag(a)) + diagm(λ)\n",
    "#   Shift\n",
    "σ = rand(1:9, L)\n",
    "D = diagm(σ) \n",
    "# RHS\n",
    "B = randn(n, L);"
   ]
  },
  {
   "cell_type": "code",
   "execution_count": 15,
   "metadata": {},
   "outputs": [],
   "source": [
    "# Initialize\n",
    "X_σ     = zeros(n, L) \n",
    "X_exact = zeros(n, L)\n",
    "Res     = zeros(M, L);"
   ]
  },
  {
   "cell_type": "code",
   "execution_count": 16,
   "metadata": {},
   "outputs": [
    {
     "name": "stdout",
     "output_type": "stream",
     "text": [
      "norm(lhs * Q[:, 1:M] - Q * H) = 1.1392399823726584e-13\n",
      "norm(lhs * Q[:, 1:M] - Q * H) = 9.924748973585697e-14\n",
      "norm(lhs * Q[:, 1:M] - Q * H) = 1.1883847619752125e-13\n",
      "norm(lhs * Q[:, 1:M] - Q * H) = 1.0636450446624943e-13\n"
     ]
    },
    {
     "data": {
      "text/plain": [
       "3.507996046372993e-5"
      ]
     },
     "execution_count": 16,
     "metadata": {},
     "output_type": "execute_result"
    }
   ],
   "source": [
    "for l=1:L\n",
    "    lhs = A - D[l, l]*I\n",
    "    b = B[:, l]\n",
    "    X_exact[:, l] = lhs \\ b\n",
    "    Q, H = arnoldi(lhs, b, M)\n",
    "    @show norm(lhs*Q[:, 1:M] - Q*H)\n",
    "    for m in 1:M\n",
    "        s = vcat(norm(b), zeros(m, 1))\n",
    "        z = H[1:m+1, 1:m] \\ s\n",
    "        x = Q[:, 1:m] * z\n",
    "        Res[m, l] = norm(b - lhs*x)\n",
    "        X_σ[:, l] = x\n",
    "    end\n",
    "end\n",
    "norm(X_exact - X_σ)"
   ]
  },
  {
   "cell_type": "code",
   "execution_count": null,
   "metadata": {},
   "outputs": [],
   "source": []
  }
 ],
 "metadata": {
  "kernelspec": {
   "display_name": "Julia 1.8.0",
   "language": "julia",
   "name": "julia-1.8"
  },
  "language_info": {
   "file_extension": ".jl",
   "mimetype": "application/julia",
   "name": "julia",
   "version": "1.8.0"
  },
  "orig_nbformat": 4,
  "vscode": {
   "interpreter": {
    "hash": "916dbcbb3f70747c44a77c7bcd40155683ae19c65e1c03b4aa3499c5328201f1"
   }
  }
 },
 "nbformat": 4,
 "nbformat_minor": 2
}
