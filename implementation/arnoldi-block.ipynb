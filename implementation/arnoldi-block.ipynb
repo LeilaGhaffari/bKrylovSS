{
 "cells": [
  {
   "cell_type": "code",
   "execution_count": 8,
   "metadata": {},
   "outputs": [],
   "source": [
    "using LinearAlgebra\n",
    "using SparseArrays"
   ]
  },
  {
   "cell_type": "code",
   "execution_count": 9,
   "metadata": {},
   "outputs": [],
   "source": [
    "n = 6\n",
    "M = 3\n",
    "L = 2\n",
    "#^^^^^^^^^^^^^^^^^^^^^^^#\n",
    "#  A*X_σ - X_σ * D = B  #\n",
    "#_______________________#\n",
    "# LHS\n",
    "#   A\n",
    "λ = [i+10 for i in 1:n]\n",
    "a = randn(n, n)\n",
    "A = UpperTriangular(a) - diagm(diag(a)) + diagm(λ)\n",
    "#   Shift\n",
    "σ = rand(1:9, L)\n",
    "D = diagm(σ) \n",
    "# RHS\n",
    "B = randn(n, L);"
   ]
  },
  {
   "cell_type": "code",
   "execution_count": 10,
   "metadata": {},
   "outputs": [],
   "source": [
    "# Initialize\n",
    "X_σ     = zeros(n, L) \n",
    "X_exact = zeros(n, L)\n",
    "Res     = zeros(M, L);"
   ]
  },
  {
   "cell_type": "code",
   "execution_count": 11,
   "metadata": {},
   "outputs": [
    {
     "data": {
      "text/plain": [
       "bArnoldi (generic function with 1 method)"
      ]
     },
     "execution_count": 11,
     "metadata": {},
     "output_type": "execute_result"
    }
   ],
   "source": [
    "iter(i, p) = (i-1)*p+1:i*p\n",
    "# Block Arnoldi based on \n",
    "#   Iterative Methods for Sparse Linear Systems, Yousef Saad\n",
    "function bArnoldi(A, X0, m, p)\n",
    "    n = size(A, 1)\n",
    "    U = zeros(n, p*(m+1))\n",
    "    H = zeros(p*(m+1), p*m)\n",
    "    for i=1:p\n",
    "        U[:, i] = X0[:, i] / norm(X0[:, i])\n",
    "    end\n",
    "    for j in 1:m\n",
    "        iterJ = iter(j, p)\n",
    "        W = A * U[:, iterJ]\n",
    "        for i in 1:j\n",
    "            iterI = iter(i, p)\n",
    "            H[iterI, iterJ] = U[:, iterI]' * W\n",
    "            W -= U[:, iterI] * H[iterI, iterJ]\n",
    "        end\n",
    "        iterJp1 = iter(j+1, p)\n",
    "        Q, R  = qr(W)\n",
    "        U[:, iterJp1] = Q[:, 1:p]\n",
    "        H[iterJp1, iterJ] = R\n",
    "    end\n",
    "    U, H\n",
    "end"
   ]
  },
  {
   "cell_type": "code",
   "execution_count": 12,
   "metadata": {},
   "outputs": [
    {
     "data": {
      "text/plain": [
       "([-0.7493558369292218 -0.0885312695187261 … -0.153728919508471 0.10851458369086342; -0.22182009918222256 0.13958406222142467 … 0.3807677309760626 -0.1809152467477373; … ; 0.3224606929934708 0.7069480844233842 … -0.348886069167206 0.5115670039388627; 0.2575658240294458 -0.6347564087477443 … 0.6086520899994038 0.4463937962003504], [10.939174015783495 2.3203391244088265 … 2.808034259803625 8.414895203403393; -0.1390424123675338 16.759187781407377 … 14.36227323589153 -1.5544989957850832; … ; 0.0 0.0 … 5.659942381411821 0.7144799350002932; 0.0 0.0 … 0.0 0.5677600294127558])"
      ]
     },
     "execution_count": 12,
     "metadata": {},
     "output_type": "execute_result"
    }
   ],
   "source": [
    "bArnoldi(A, B, M, L)"
   ]
  },
  {
   "cell_type": "code",
   "execution_count": null,
   "metadata": {},
   "outputs": [],
   "source": []
  }
 ],
 "metadata": {
  "kernelspec": {
   "display_name": "Julia 1.8.0",
   "language": "julia",
   "name": "julia-1.8"
  },
  "language_info": {
   "file_extension": ".jl",
   "mimetype": "application/julia",
   "name": "julia",
   "version": "1.8.0"
  },
  "orig_nbformat": 4,
  "vscode": {
   "interpreter": {
    "hash": "916dbcbb3f70747c44a77c7bcd40155683ae19c65e1c03b4aa3499c5328201f1"
   }
  }
 },
 "nbformat": 4,
 "nbformat_minor": 2
}
