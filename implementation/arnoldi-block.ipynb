{
 "cells": [
  {
   "cell_type": "code",
   "execution_count": 1,
   "metadata": {},
   "outputs": [],
   "source": [
    "using LinearAlgebra\n",
    "using SparseArrays\n",
    "using Plots"
   ]
  },
  {
   "cell_type": "code",
   "execution_count": 2,
   "metadata": {},
   "outputs": [],
   "source": [
    "n = 6\n",
    "M = 3\n",
    "L = 2\n",
    "#^^^^^^^^^^^^^^^^^^^^^^^#\n",
    "#  A*X_σ - X_σ * D = B  #\n",
    "#_______________________#\n",
    "# LHS\n",
    "#   A\n",
    "λ = [i+10 for i in 1:n]\n",
    "a = randn(n, n)\n",
    "A = UpperTriangular(a) - diagm(diag(a)) + diagm(λ)\n",
    "#   Shift\n",
    "σ = rand(1:9, L)\n",
    "D = diagm(σ) \n",
    "# RHS\n",
    "B = randn(n, L);"
   ]
  },
  {
   "cell_type": "code",
   "execution_count": 3,
   "metadata": {},
   "outputs": [],
   "source": [
    "# Initialize\n",
    "X_σ     = zeros(n, L) \n",
    "X_exact = zeros(n, L)\n",
    "Res     = zeros(M, L);"
   ]
  },
  {
   "cell_type": "code",
   "execution_count": 4,
   "metadata": {},
   "outputs": [
    {
     "data": {
      "text/plain": [
       "bArnoldi (generic function with 1 method)"
      ]
     },
     "execution_count": 4,
     "metadata": {},
     "output_type": "execute_result"
    }
   ],
   "source": [
    "iter(i, p) = (i-1)*p+1:i*p\n",
    "# Block Arnoldi based on \n",
    "#   Iterative Methods for Sparse Linear Systems, Yousef Saad\n",
    "function bArnoldi(A, X0, m, p)\n",
    "    n = size(A, 1)\n",
    "    U = zeros(n, p*(m+1))\n",
    "    H = zeros(p*(m+1), p*m)\n",
    "    for i=1:p\n",
    "        U[:, i] = X0[:, i] / norm(X0[:, i])\n",
    "    end\n",
    "    for j in 1:m\n",
    "        iterJ = iter(j, p)\n",
    "        W = A * U[:, iterJ]\n",
    "        for i in 1:j\n",
    "            iterI = iter(i, p)\n",
    "            H[iterI, iterJ] = U[:, iterI]' * W\n",
    "            W -= U[:, iterI] * H[iterI, iterJ]\n",
    "        end\n",
    "        iterJp1 = iter(j+1, p)\n",
    "        U[:, iterJp1], H[iterJp1, iterJ] = qr(W)\n",
    "    end\n",
    "    U, H\n",
    "end"
   ]
  },
  {
   "cell_type": "code",
   "execution_count": 5,
   "metadata": {},
   "outputs": [
    {
     "ename": "LoadError",
     "evalue": "DimensionMismatch(\"tried to assign 6×6 array to 6×2 destination\")",
     "output_type": "error",
     "traceback": [
      "DimensionMismatch(\"tried to assign 6×6 array to 6×2 destination\")",
      "",
      "Stacktrace:",
      " [1] throw_setindex_mismatch(X::LinearAlgebra.QRCompactWYQ{Float64, Matrix{Float64}}, I::Tuple{Int64, Int64})",
      "   @ Base ./indices.jl:193",
      " [2] setindex_shape_check",
      "   @ ./indices.jl:253 [inlined]",
      " [3] _unsafe_setindex!(::IndexLinear, ::Matrix{Float64}, ::LinearAlgebra.QRCompactWYQ{Float64, Matrix{Float64}}, ::Base.Slice{Base.OneTo{Int64}}, ::UnitRange{Int64})",
      "   @ Base ./multidimensional.jl:896",
      " [4] _setindex!",
      "   @ ./multidimensional.jl:887 [inlined]",
      " [5] setindex!",
      "   @ ./abstractarray.jl:1267 [inlined]",
      " [6] bArnoldi(A::Matrix{Float64}, X0::Matrix{Float64}, m::Int64, p::Int64)",
      "   @ Main ./In[4]:20",
      " [7] top-level scope",
      "   @ In[5]:1",
      " [8] eval",
      "   @ ./boot.jl:360 [inlined]",
      " [9] include_string(mapexpr::typeof(REPL.softscope), mod::Module, code::String, filename::String)",
      "   @ Base ./loading.jl:1116"
     ]
    }
   ],
   "source": [
    "bArnoldi(A, B, M, L)"
   ]
  },
  {
   "cell_type": "code",
   "execution_count": null,
   "metadata": {},
   "outputs": [],
   "source": []
  }
 ],
 "metadata": {
  "kernelspec": {
   "display_name": "Julia 1.6.2",
   "language": "julia",
   "name": "julia-1.6"
  },
  "language_info": {
   "file_extension": ".jl",
   "mimetype": "application/julia",
   "name": "julia",
   "version": "1.6.2"
  },
  "orig_nbformat": 4,
  "vscode": {
   "interpreter": {
    "hash": "916dbcbb3f70747c44a77c7bcd40155683ae19c65e1c03b4aa3499c5328201f1"
   }
  }
 },
 "nbformat": 4,
 "nbformat_minor": 2
}
