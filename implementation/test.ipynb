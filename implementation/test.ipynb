{
 "cells": [
  {
   "cell_type": "code",
   "execution_count": 2,
   "metadata": {},
   "outputs": [
    {
     "data": {
      "text/plain": [
       "bArnoldi (generic function with 1 method)"
      ]
     },
     "execution_count": 2,
     "metadata": {},
     "output_type": "execute_result"
    }
   ],
   "source": [
    "using LinearAlgebra\n",
    "using SparseArrays\n",
    "include(\"arnoldi.jl\")\n",
    "include(\"bArnoldi.jl\")"
   ]
  },
  {
   "cell_type": "code",
   "execution_count": 3,
   "metadata": {},
   "outputs": [],
   "source": [
    "n = 6\n",
    "M = 3\n",
    "L = 2\n",
    "#^^^^^^^^^^^^^^^^^^^^^^^#\n",
    "#  A*X_σ - X_σ * D = B  #\n",
    "#_______________________#\n",
    "# LHS\n",
    "#   A\n",
    "λ = [i+10 for i in 1:n]\n",
    "a = randn(n, n)\n",
    "A = UpperTriangular(a) - diagm(diag(a)) + diagm(λ)\n",
    "#   Shift\n",
    "σ = rand(1:9, L)\n",
    "D = diagm(σ) \n",
    "# RHS\n",
    "B = randn(n, L);"
   ]
  },
  {
   "cell_type": "code",
   "execution_count": 4,
   "metadata": {},
   "outputs": [],
   "source": [
    "# Initialize\n",
    "X_σ     = zeros(n, L) \n",
    "X_exact = zeros(n, L)\n",
    "Res     = zeros(M, L);"
   ]
  },
  {
   "cell_type": "code",
   "execution_count": 6,
   "metadata": {},
   "outputs": [],
   "source": [
    "bArnoldi(A, B, M, L);"
   ]
  },
  {
   "cell_type": "code",
   "execution_count": null,
   "metadata": {},
   "outputs": [],
   "source": []
  }
 ],
 "metadata": {
  "kernelspec": {
   "display_name": "Julia 1.8.0",
   "language": "julia",
   "name": "julia-1.8"
  },
  "language_info": {
   "file_extension": ".jl",
   "mimetype": "application/julia",
   "name": "julia",
   "version": "1.8.0"
  },
  "orig_nbformat": 4,
  "vscode": {
   "interpreter": {
    "hash": "916dbcbb3f70747c44a77c7bcd40155683ae19c65e1c03b4aa3499c5328201f1"
   }
  }
 },
 "nbformat": 4,
 "nbformat_minor": 2
}
