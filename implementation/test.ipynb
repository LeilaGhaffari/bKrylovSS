{
 "cells": [
  {
   "cell_type": "code",
   "execution_count": 2,
   "metadata": {},
   "outputs": [],
   "source": [
    "using LinearAlgebra\n",
    "using SparseArrays"
   ]
  },
  {
   "cell_type": "code",
   "execution_count": 3,
   "metadata": {},
   "outputs": [],
   "source": [
    "n = 6\n",
    "M = 3\n",
    "L = 2\n",
    "#^^^^^^^^^^^^^^^^^^^^^^^#\n",
    "#  A*X_σ - X_σ * D = B  #\n",
    "#_______________________#\n",
    "# LHS\n",
    "#   A\n",
    "λ = [i+10 for i in 1:n]\n",
    "a = randn(n, n)\n",
    "A = UpperTriangular(a) - diagm(diag(a)) + diagm(λ)\n",
    "#   Shift\n",
    "σ = rand(1:9, L)\n",
    "D = diagm(σ) \n",
    "Γ = .7\n",
    "# RHS\n",
    "B = randn(n, L);"
   ]
  },
  {
   "cell_type": "code",
   "execution_count": 4,
   "metadata": {},
   "outputs": [],
   "source": [
    "# Initialize\n",
    "X_σ     = zeros(n, L) \n",
    "X_exact = zeros(n, L)\n",
    "Res     = zeros(M, L);"
   ]
  },
  {
   "cell_type": "code",
   "execution_count": 5,
   "metadata": {},
   "outputs": [
    {
     "data": {
      "text/plain": [
       "0.0001357113382803524"
      ]
     },
     "execution_count": 5,
     "metadata": {},
     "output_type": "execute_result"
    }
   ],
   "source": [
    "include(\"arnoldi.jl\")\n",
    "for l=1:L\n",
    "    lhs = A - D[l, l]*I\n",
    "    b = B[:, l]\n",
    "    X_exact[:, l] = lhs \\ b\n",
    "    Q, H = arnoldi(lhs, b, M)\n",
    "    for m in 1:M\n",
    "        s = vcat(norm(b), zeros(m, 1))\n",
    "        z = H[1:m+1, 1:m] \\ s\n",
    "        x = Q[:, 1:m] * z\n",
    "        Res[m, l] = norm(b - lhs*x)\n",
    "        X_σ[:, l] = x\n",
    "    end\n",
    "end\n",
    "norm(X_exact - X_σ)"
   ]
  },
  {
   "cell_type": "code",
   "execution_count": 6,
   "metadata": {},
   "outputs": [],
   "source": [
    "include(\"bArnoldi.jl\")\n",
    "W, H = bArnoldi(A, B, M, L);"
   ]
  },
  {
   "cell_type": "code",
   "execution_count": 8,
   "metadata": {},
   "outputs": [],
   "source": [
    "H_σ = H + Γ * vcat(Matrix(I, L*M, L*M), zeros(L, L*M));"
   ]
  },
  {
   "cell_type": "code",
   "execution_count": null,
   "metadata": {},
   "outputs": [],
   "source": []
  }
 ],
 "metadata": {
  "kernelspec": {
   "display_name": "Julia 1.8.0",
   "language": "julia",
   "name": "julia-1.8"
  },
  "language_info": {
   "file_extension": ".jl",
   "mimetype": "application/julia",
   "name": "julia",
   "version": "1.8.0"
  },
  "orig_nbformat": 4,
  "vscode": {
   "interpreter": {
    "hash": "916dbcbb3f70747c44a77c7bcd40155683ae19c65e1c03b4aa3499c5328201f1"
   }
  }
 },
 "nbformat": 4,
 "nbformat_minor": 2
}
