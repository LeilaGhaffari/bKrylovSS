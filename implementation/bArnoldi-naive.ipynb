{
 "cells": [
  {
   "cell_type": "code",
   "execution_count": 35,
   "metadata": {},
   "outputs": [
    {
     "data": {
      "text/plain": [
       "arnoldi (generic function with 1 method)"
      ]
     },
     "metadata": {},
     "output_type": "display_data"
    }
   ],
   "source": [
    "using LinearAlgebra\n",
    "using SparseArrays\n",
    "include(\"arnoldi.jl\")"
   ]
  },
  {
   "cell_type": "code",
   "execution_count": 36,
   "metadata": {},
   "outputs": [
    {
     "data": {
      "text/plain": [
       "true"
      ]
     },
     "metadata": {},
     "output_type": "display_data"
    }
   ],
   "source": [
    "n = 100\n",
    "M = 40\n",
    "L = 2\n",
    "# We need this condition for now\n",
    "M * L <= n"
   ]
  },
  {
   "cell_type": "code",
   "execution_count": 37,
   "metadata": {},
   "outputs": [],
   "source": [
    "#^^^^^^^^^^^^^^^^^^^^^^^#\n",
    "#  A*X_σ - X_σ * D = B  #\n",
    "#_______________________#\n",
    "# LHS\n",
    "#   A\n",
    "λ = [i+10 for i in 1:n]\n",
    "a = randn(n, n)\n",
    "A = UpperTriangular(a) - diagm(diag(a)) + diagm(λ)\n",
    "#   Shift\n",
    "σ = rand(1:9, L)\n",
    "D = diagm(σ) \n",
    "Γ = .7\n",
    "# RHS\n",
    "B = randn(n, L);"
   ]
  },
  {
   "cell_type": "code",
   "execution_count": 38,
   "metadata": {},
   "outputs": [],
   "source": [
    "x_exact = zeros(n, L)\n",
    "for l=1:L\n",
    "    lhs = A - D[l, l]*I\n",
    "    b = B[:, l]\n",
    "    x_exact[:, l] = lhs \\ b\n",
    "end"
   ]
  },
  {
   "cell_type": "code",
   "execution_count": 39,
   "metadata": {},
   "outputs": [],
   "source": [
    "# Naive: Standard Arnoldi in a for-loop\n",
    "#   [A](nxn) x = b\n",
    "#   [Q](n x m+1) = [q1 q2 ... q(m+1)], q1 = normalized b\n",
    "#   [H](m+1 x m): upper Hessenberg\n",
    "#   A Q_m = Q H , [Q_m](nxm) = [q1 q2 ... qm]\n",
    "#   x = Q_m z\n",
    "#   A Q_m z = b = Q H z\n",
    "#   Q' b = Q' Q H z => H z = Q' b = s => z = H \\ s => x = Q_m z\n",
    "x_naive = zeros(n, L) \n",
    "for l=1:L\n",
    "    lhs = A - D[l, l]*I\n",
    "    b = B[:, l]\n",
    "    Q, H = arnoldi(lhs, b, M)\n",
    "    for m in 1:M # Changed the following to be consistent with bArnoldi and gives smaller norms\n",
    "        s = vcat(norm(b), zeros(m-1, 1)) #   size m+1 -> m\n",
    "        z = H[1:m, 1:m] \\ s              #   H[1:m+1, 1:m] -> H[1:m, 1:m]\n",
    "        x = Q[:, 1:m] * z\n",
    "        x_naive[:, l] = x\n",
    "    end\n",
    "end"
   ]
  },
  {
   "cell_type": "code",
   "execution_count": 40,
   "metadata": {},
   "outputs": [
    {
     "data": {
      "text/plain": [
       "1.0088272673390422e-8"
      ]
     },
     "metadata": {},
     "output_type": "display_data"
    }
   ],
   "source": [
    "norm(x_naive - x_exact)"
   ]
  },
  {
   "cell_type": "code",
   "execution_count": 41,
   "metadata": {},
   "outputs": [],
   "source": []
  }
 ],
 "metadata": {
  "kernelspec": {
   "display_name": "Julia 1.8.0",
   "language": "julia",
   "name": "julia-1.8"
  },
  "language_info": {
   "file_extension": ".jl",
   "mimetype": "application/julia",
   "name": "julia",
   "version": "1.8.0"
  },
  "orig_nbformat": 4,
  "vscode": {
   "interpreter": {
    "hash": "916dbcbb3f70747c44a77c7bcd40155683ae19c65e1c03b4aa3499c5328201f1"
   }
  }
 },
 "nbformat": 4,
 "nbformat_minor": 2
}
