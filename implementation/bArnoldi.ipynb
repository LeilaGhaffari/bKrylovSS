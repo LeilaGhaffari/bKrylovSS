{
 "cells": [
  {
   "cell_type": "code",
   "execution_count": 59,
   "metadata": {},
   "outputs": [
    {
     "data": {
      "text/plain": [
       "arnoldi (generic function with 1 method)"
      ]
     },
     "metadata": {},
     "output_type": "display_data"
    }
   ],
   "source": [
    "using LinearAlgebra\n",
    "using SparseArrays\n",
    "include(\"bArnoldi.jl\")\n",
    "include(\"arnoldi.jl\")"
   ]
  },
  {
   "cell_type": "code",
   "execution_count": 60,
   "metadata": {},
   "outputs": [],
   "source": [
    "n = 10\n",
    "M = 3\n",
    "L = 2\n",
    "#^^^^^^^^^^^^^^^^^^^^^^^#\n",
    "#  A*X_σ - X_σ * D = B  #\n",
    "#_______________________#\n",
    "# LHS\n",
    "#   A\n",
    "λ = [i+10 for i in 1:n]\n",
    "a = randn(n, n)\n",
    "A = UpperTriangular(a) - diagm(diag(a)) + diagm(λ)\n",
    "#   Shift\n",
    "σ = rand(1:9, L)\n",
    "D = diagm(σ) \n",
    "Γ = .7\n",
    "# RHS\n",
    "B = randn(n, L);"
   ]
  },
  {
   "cell_type": "code",
   "execution_count": 61,
   "metadata": {},
   "outputs": [],
   "source": [
    "X_exact = zeros(n, L)\n",
    "for l=1:L\n",
    "    lhs = A # - D[l, l]*I\n",
    "    b = B[:, l]\n",
    "    X_exact[:, l] = lhs \\ b\n",
    "end"
   ]
  },
  {
   "cell_type": "code",
   "execution_count": 62,
   "metadata": {},
   "outputs": [
    {
     "data": {
      "text/plain": [
       "0.0011250872790743098"
      ]
     },
     "metadata": {},
     "output_type": "display_data"
    }
   ],
   "source": [
    "# Naive: Standard Arnoldi in a for-loop\n",
    "X_σ_naive = zeros(n, L) \n",
    "for l=1:L\n",
    "    lhs = A # - D[l, l]*I\n",
    "    b = B[:, l]\n",
    "    Q, H = arnoldi(lhs, b, M)\n",
    "    for m in 1:M\n",
    "        s = vcat(norm(b), zeros(m, 1))\n",
    "        z = H[1:m+1, 1:m] \\ s\n",
    "        x = Q[:, 1:m] * z\n",
    "        X_σ_naive[:, l] = x\n",
    "    end\n",
    "end\n",
    "norm(X_exact - X_σ_naive)"
   ]
  },
  {
   "cell_type": "code",
   "execution_count": 63,
   "metadata": {},
   "outputs": [
    {
     "name": "stdout",
     "output_type": "stream",
     "text": [
      "norm(A * W[:, 1:M * L] - W * H) = 4.268339196329169e-15\n"
     ]
    },
    {
     "data": {
      "text/plain": [
       "4.268339196329169e-15"
      ]
     },
     "metadata": {},
     "output_type": "display_data"
    }
   ],
   "source": [
    "# Block Arnoldi\n",
    "X_σ = zeros(n, L) \n",
    "Res = zeros(n, L)\n",
    "W, H = bArnoldi(A, B, M)\n",
    "@show norm(A*W[:,1:M*L] - W*H)"
   ]
  },
  {
   "cell_type": "code",
   "execution_count": 64,
   "metadata": {},
   "outputs": [
    {
     "name": "stdout",
     "output_type": "stream",
     "text": [
      "\n",
      "1\n",
      "(size(H[1:L * m, 1:L * m]), size(z), size(s)) = ((2, 2), (2, 2), (2, 2))\n",
      "size(x) = (10, 2)\n",
      "\n",
      "2\n",
      "(size(H[1:L * m, 1:L * m]), size(z), size(s)) = ((4, 4), (4, 2), (4, 2))\n",
      "size(x) = (10, 2)\n",
      "\n",
      "3\n",
      "(size(H[1:L * m, 1:L * m]), size(z), size(s)) = ((6, 6), (6, 2), (6, 2))\n",
      "size(x) = (10, 2)\n"
     ]
    },
    {
     "data": {
      "text/plain": [
       "0.0008247865458325761"
      ]
     },
     "metadata": {},
     "output_type": "display_data"
    }
   ],
   "source": [
    "f = qr(B)\n",
    "for m in 1:M\n",
    "\n",
    "    print(\"\\n\")\n",
    "    print(m)\n",
    "    print(\"\\n\")\n",
    "\n",
    "    #s = vcat(f.Q[:, 1:m*L]' * B, zeros(m*L, L))            # s = Q' B\n",
    "    s = f.Q[:, 1:m*L]' * B\n",
    "    z = H[1:L*m, 1:L*m] \\ s      # z = H \\ s\n",
    "    x = W[:, 1:L*m] * z              # x = Q_m z\n",
    "\n",
    "    @show size(H[1:L*m, 1:L*m]), size(z), size(s)\n",
    "    @show size(x)\n",
    "    # Populate results\n",
    "    #Res[m, :] = norm(B - A*x)\n",
    "    \n",
    "    X_σ = x\n",
    "end\n",
    "norm(X_exact - X_σ)"
   ]
  },
  {
   "cell_type": "code",
   "execution_count": 69,
   "metadata": {},
   "outputs": [],
   "source": []
  }
 ],
 "metadata": {
  "kernelspec": {
   "display_name": "Julia 1.8.0",
   "language": "julia",
   "name": "julia-1.8"
  },
  "language_info": {
   "file_extension": ".jl",
   "mimetype": "application/julia",
   "name": "julia",
   "version": "1.8.0"
  },
  "orig_nbformat": 4,
  "vscode": {
   "interpreter": {
    "hash": "916dbcbb3f70747c44a77c7bcd40155683ae19c65e1c03b4aa3499c5328201f1"
   }
  }
 },
 "nbformat": 4,
 "nbformat_minor": 2
}
