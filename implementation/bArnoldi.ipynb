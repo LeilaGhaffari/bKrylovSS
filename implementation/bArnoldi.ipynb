{
 "cells": [
  {
   "cell_type": "code",
   "execution_count": 70,
   "metadata": {},
   "outputs": [
    {
     "data": {
      "text/plain": [
       "arnoldi (generic function with 1 method)"
      ]
     },
     "metadata": {},
     "output_type": "display_data"
    }
   ],
   "source": [
    "using LinearAlgebra\n",
    "using SparseArrays\n",
    "include(\"bArnoldi.jl\")\n",
    "include(\"arnoldi.jl\")"
   ]
  },
  {
   "cell_type": "code",
   "execution_count": 71,
   "metadata": {},
   "outputs": [
    {
     "data": {
      "text/plain": [
       "true"
      ]
     },
     "metadata": {},
     "output_type": "display_data"
    }
   ],
   "source": [
    "n = 100\n",
    "M = 30\n",
    "L = 3\n",
    "# We need this condition for now\n",
    "M * L <= n"
   ]
  },
  {
   "cell_type": "code",
   "execution_count": 72,
   "metadata": {},
   "outputs": [],
   "source": [
    "#^^^^^^^^^^^^^^^^^^^^^^^#\n",
    "#  A*X_σ - X_σ * D = B  #\n",
    "#_______________________#\n",
    "# LHS\n",
    "#   A\n",
    "λ = [i+10 for i in 1:n]\n",
    "a = randn(n, n)\n",
    "A = UpperTriangular(a) - diagm(diag(a)) + diagm(λ)\n",
    "#   Shift\n",
    "σ = rand(1:9, L)\n",
    "D = diagm(σ) \n",
    "Γ = .7\n",
    "# RHS\n",
    "B = randn(n, L);"
   ]
  },
  {
   "cell_type": "code",
   "execution_count": 73,
   "metadata": {},
   "outputs": [],
   "source": [
    "X_exact = zeros(n, L)\n",
    "for l=1:L\n",
    "    lhs = A # - D[l, l]*I\n",
    "    b = B[:, l]\n",
    "    X_exact[:, l] = lhs \\ b\n",
    "end"
   ]
  },
  {
   "cell_type": "code",
   "execution_count": 74,
   "metadata": {},
   "outputs": [
    {
     "name": "stdout",
     "output_type": "stream",
     "text": [
      "  0.068229 seconds (56.07 k allocations: 9.147 MiB, 93.02% compilation time)\n"
     ]
    }
   ],
   "source": [
    "# Naive: Standard Arnoldi in a for-loop\n",
    "X_σ_naive = zeros(n, L) \n",
    "@time begin\n",
    "    for l=1:L\n",
    "        #print(\"\\nsystem $l \\n\")\n",
    "        lhs = A # - D[l, l]*I\n",
    "        b = B[:, l]\n",
    "        Q, H = arnoldi(lhs, b, M)\n",
    "        for m in 1:M # Changed the following to be consistent with bArnoldi and gives smaller norms\n",
    "            #print(\"m$m\\t\")\n",
    "            s = vcat(norm(b), zeros(m-1, 1)) #   size m+1 -> m\n",
    "            z = H[1:m, 1:m] \\ s              #   H[1:m+1, 1:m] -> H[1:m, 1:m]\n",
    "            x = Q[:, 1:m] * z\n",
    "            X_σ_naive[:, l] = x\n",
    "        end\n",
    "        #print(\"\\n\\n\")\n",
    "    end\n",
    "end # time"
   ]
  },
  {
   "cell_type": "code",
   "execution_count": 75,
   "metadata": {},
   "outputs": [
    {
     "name": "stdout",
     "output_type": "stream",
     "text": [
      "norm(A * W[:, 1:M * L] - W * H) = 1.5636623172858418e-13\n"
     ]
    },
    {
     "data": {
      "text/plain": [
       "1.5636623172858418e-13"
      ]
     },
     "metadata": {},
     "output_type": "display_data"
    }
   ],
   "source": [
    "# Block Arnoldi\n",
    "X_σ = zeros(n, L) \n",
    "Res = zeros(n, L)\n",
    "W, H = bArnoldi(A, B, M);\n",
    "@show norm(A*W[:,1:M*L] - W*H)"
   ]
  },
  {
   "cell_type": "code",
   "execution_count": 76,
   "metadata": {},
   "outputs": [
    {
     "name": "stdout",
     "output_type": "stream",
     "text": [
      "  0.002228 seconds (803 allocations: 5.972 MiB)\n"
     ]
    }
   ],
   "source": [
    "@time begin\n",
    "    f = qr(B)\n",
    "    for m in 1:M\n",
    "        #print(\"m$m\\t\")\n",
    "        s = f.Q[:, 1:m*L]' * B   # s = Q' B\n",
    "        z = H[1:L*m, 1:L*m] \\ s  # z = H \\ s\n",
    "        x = W[:, 1:L*m] * z      # x = W_m z    \n",
    "        X_σ = x\n",
    "    end\n",
    "    #print(\"\\n\")\n",
    "end # time"
   ]
  },
  {
   "cell_type": "code",
   "execution_count": 77,
   "metadata": {},
   "outputs": [
    {
     "data": {
      "text/plain": [
       "(1.4644780241082843e-9, 3.085512983724735e-13, 1.4644803410641835e-9)"
      ]
     },
     "metadata": {},
     "output_type": "display_data"
    }
   ],
   "source": [
    "norm(X_σ - X_σ_naive), norm(X_exact - X_σ), norm(X_exact - X_σ_naive)"
   ]
  },
  {
   "cell_type": "code",
   "execution_count": 78,
   "metadata": {},
   "outputs": [],
   "source": []
  }
 ],
 "metadata": {
  "kernelspec": {
   "display_name": "Julia 1.8.0",
   "language": "julia",
   "name": "julia-1.8"
  },
  "language_info": {
   "file_extension": ".jl",
   "mimetype": "application/julia",
   "name": "julia",
   "version": "1.8.0"
  },
  "orig_nbformat": 4,
  "vscode": {
   "interpreter": {
    "hash": "916dbcbb3f70747c44a77c7bcd40155683ae19c65e1c03b4aa3499c5328201f1"
   }
  }
 },
 "nbformat": 4,
 "nbformat_minor": 2
}
