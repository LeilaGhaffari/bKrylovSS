{
 "cells": [
  {
   "cell_type": "code",
   "execution_count": 109,
   "metadata": {},
   "outputs": [
    {
     "data": {
      "text/plain": [
       "arnoldi (generic function with 1 method)"
      ]
     },
     "metadata": {},
     "output_type": "display_data"
    }
   ],
   "source": [
    "using LinearAlgebra\n",
    "using SparseArrays\n",
    "include(\"bArnoldi.jl\")\n",
    "include(\"arnoldi.jl\")"
   ]
  },
  {
   "cell_type": "code",
   "execution_count": 110,
   "metadata": {},
   "outputs": [
    {
     "data": {
      "text/plain": [
       "true"
      ]
     },
     "metadata": {},
     "output_type": "display_data"
    }
   ],
   "source": [
    "n = 100\n",
    "M = 30\n",
    "L = 3\n",
    "# We need this condition for now\n",
    "M * L <= n"
   ]
  },
  {
   "cell_type": "code",
   "execution_count": 111,
   "metadata": {},
   "outputs": [],
   "source": [
    "#^^^^^^^^^^^^^^^^^^^^^^^#\n",
    "#  A*X_σ - X_σ * D = B  #\n",
    "#_______________________#\n",
    "# LHS\n",
    "#   A\n",
    "λ = [i+10 for i in 1:n]\n",
    "a = randn(n, n)\n",
    "A = UpperTriangular(a) - diagm(diag(a)) + diagm(λ)\n",
    "#   Shift\n",
    "σ = rand(1:9, L)\n",
    "D = diagm(σ) \n",
    "Γ = .7\n",
    "# RHS\n",
    "B = randn(n, L);"
   ]
  },
  {
   "cell_type": "code",
   "execution_count": 112,
   "metadata": {},
   "outputs": [],
   "source": [
    "X_exact = zeros(n, L)\n",
    "for l=1:L\n",
    "    lhs = A # - D[l, l]*I\n",
    "    b = B[:, l]\n",
    "    X_exact[:, l] = lhs \\ b\n",
    "end"
   ]
  },
  {
   "cell_type": "code",
   "execution_count": 113,
   "metadata": {},
   "outputs": [],
   "source": [
    "# Naive: Standard Arnoldi in a for-loop\n",
    "X_σ_naive = zeros(n, L) \n",
    "for l=1:L\n",
    "    lhs = A # - D[l, l]*I\n",
    "    b = B[:, l]\n",
    "    Q, H = arnoldi(lhs, b, M)\n",
    "    for m in 1:M                         # Changed the following to be consistent with bArnoldi and gives smaller norms\n",
    "        s = vcat(norm(b), zeros(m-1, 1)) #   size m+1 -> m\n",
    "        z = H[1:m, 1:m] \\ s              #   H[1:m+1, 1:m] -> H[1:m, 1:m]\n",
    "        x = Q[:, 1:m] * z\n",
    "        X_σ_naive[:, l] = x\n",
    "    end\n",
    "end"
   ]
  },
  {
   "cell_type": "code",
   "execution_count": 114,
   "metadata": {},
   "outputs": [
    {
     "name": "stdout",
     "output_type": "stream",
     "text": [
      "norm(A * W[:, 1:M * L] - W * H) = 1.6296131988461574e-13\n"
     ]
    },
    {
     "data": {
      "text/plain": [
       "1.6296131988461574e-13"
      ]
     },
     "metadata": {},
     "output_type": "display_data"
    }
   ],
   "source": [
    "# Block Arnoldi\n",
    "X_σ = zeros(n, L) \n",
    "Res = zeros(n, L)\n",
    "W, H = bArnoldi(A, B, M);\n",
    "@show norm(A*W[:,1:M*L] - W*H)"
   ]
  },
  {
   "cell_type": "code",
   "execution_count": 115,
   "metadata": {},
   "outputs": [
    {
     "name": "stdout",
     "output_type": "stream",
     "text": [
      "step 1 \n",
      "step 2 \n",
      "step 3 \n",
      "step 4 \n",
      "step 5 \n",
      "step 6 \n",
      "step 7 \n",
      "step 8 \n",
      "step 9 \n",
      "step 10 \n",
      "step 11 \n",
      "step 12 \n",
      "step 13 \n",
      "step 14 \n",
      "step 15 \n",
      "step 16 \n",
      "step 17 \n",
      "step 18 \n",
      "step 19 \n",
      "step 20 \n",
      "step 21 \n",
      "step 22 \n",
      "step 23 \n",
      "step 24 \n",
      "step 25 \n",
      "step 26 \n",
      "step 27 \n",
      "step 28 \n",
      "step 29 \n",
      "step 30 \n"
     ]
    }
   ],
   "source": [
    "f = qr(B)\n",
    "for m in 1:M\n",
    "    print(\"step $m \\n\")\n",
    "    s = f.Q[:, 1:m*L]' * B   # s = Q' B\n",
    "    z = H[1:L*m, 1:L*m] \\ s  # z = H \\ s\n",
    "    x = W[:, 1:L*m] * z      # x = W_m z    \n",
    "    X_σ = x\n",
    "end\n"
   ]
  },
  {
   "cell_type": "code",
   "execution_count": 116,
   "metadata": {},
   "outputs": [
    {
     "data": {
      "text/plain": [
       "(1.6765580745931078e-9, 3.5324783623043346e-13, 1.676558546979575e-9)"
      ]
     },
     "metadata": {},
     "output_type": "display_data"
    }
   ],
   "source": [
    "norm(X_σ - X_σ_naive), norm(X_exact - X_σ), norm(X_exact - X_σ_naive)"
   ]
  },
  {
   "cell_type": "code",
   "execution_count": 117,
   "metadata": {},
   "outputs": [],
   "source": []
  },
  {
   "cell_type": "code",
   "execution_count": 118,
   "metadata": {},
   "outputs": [],
   "source": []
  }
 ],
 "metadata": {
  "kernelspec": {
   "display_name": "Julia 1.8.0",
   "language": "julia",
   "name": "julia-1.8"
  },
  "language_info": {
   "file_extension": ".jl",
   "mimetype": "application/julia",
   "name": "julia",
   "version": "1.8.0"
  },
  "orig_nbformat": 4,
  "vscode": {
   "interpreter": {
    "hash": "916dbcbb3f70747c44a77c7bcd40155683ae19c65e1c03b4aa3499c5328201f1"
   }
  }
 },
 "nbformat": 4,
 "nbformat_minor": 2
}
