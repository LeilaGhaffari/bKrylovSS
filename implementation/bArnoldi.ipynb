{
 "cells": [
  {
   "cell_type": "code",
   "execution_count": 87,
   "metadata": {},
   "outputs": [
    {
     "data": {
      "text/plain": [
       "arnoldi (generic function with 1 method)"
      ]
     },
     "metadata": {},
     "output_type": "display_data"
    }
   ],
   "source": [
    "using LinearAlgebra\n",
    "using SparseArrays\n",
    "include(\"bArnoldi.jl\")\n",
    "include(\"arnoldi.jl\")"
   ]
  },
  {
   "cell_type": "code",
   "execution_count": 88,
   "metadata": {},
   "outputs": [
    {
     "data": {
      "text/plain": [
       "true"
      ]
     },
     "metadata": {},
     "output_type": "display_data"
    }
   ],
   "source": [
    "n = 100\n",
    "M = 30\n",
    "L = 3\n",
    "# We need this condition for now\n",
    "M * L <= n"
   ]
  },
  {
   "cell_type": "code",
   "execution_count": 89,
   "metadata": {},
   "outputs": [],
   "source": [
    "#^^^^^^^^^^^^^^^^^^^^^^^#\n",
    "#  A*X_σ - X_σ * D = B  #\n",
    "#_______________________#\n",
    "# LHS\n",
    "#   A\n",
    "λ = [i+10 for i in 1:n]\n",
    "a = randn(n, n)\n",
    "A = UpperTriangular(a) - diagm(diag(a)) + diagm(λ)\n",
    "#   Shift\n",
    "σ = rand(1:9, L)\n",
    "D = diagm(σ) \n",
    "Γ = .7\n",
    "# RHS\n",
    "B = randn(n, L);"
   ]
  },
  {
   "cell_type": "code",
   "execution_count": 90,
   "metadata": {},
   "outputs": [],
   "source": [
    "X_exact = zeros(n, L)\n",
    "for l=1:L\n",
    "    lhs = A # - D[l, l]*I\n",
    "    b = B[:, l]\n",
    "    X_exact[:, l] = lhs \\ b\n",
    "end"
   ]
  },
  {
   "cell_type": "code",
   "execution_count": 91,
   "metadata": {},
   "outputs": [
    {
     "name": "stdout",
     "output_type": "stream",
     "text": [
      "  0.049560 seconds (56.07 k allocations: 9.147 MiB, 94.22% compilation time)\n"
     ]
    }
   ],
   "source": [
    "# Naive: Standard Arnoldi in a for-loop\n",
    "X_σ_naive = zeros(n, L) \n",
    "@time begin\n",
    "    for l=1:L\n",
    "        #print(\"\\nsystem $l \\n\")\n",
    "        lhs = A # - D[l, l]*I\n",
    "        b = B[:, l]\n",
    "        Q, H = arnoldi(lhs, b, M)\n",
    "        for m in 1:M # Changed the following to be consistent with bArnoldi and gives smaller norms\n",
    "            #print(\"m$m\\t\")\n",
    "            s = vcat(norm(b), zeros(m-1, 1)) #   size m+1 -> m\n",
    "            z = H[1:m, 1:m] \\ s              #   H[1:m+1, 1:m] -> H[1:m, 1:m]\n",
    "            x = Q[:, 1:m] * z\n",
    "            X_σ_naive[:, l] = x\n",
    "        end\n",
    "        #print(\"\\n\\n\")\n",
    "    end\n",
    "end # time"
   ]
  },
  {
   "cell_type": "code",
   "execution_count": 92,
   "metadata": {},
   "outputs": [
    {
     "name": "stdout",
     "output_type": "stream",
     "text": [
      "  0.056011 seconds (99.53 k allocations: 17.816 MiB, 91.07% compilation time)\n"
     ]
    }
   ],
   "source": [
    "# Block Arnoldi\n",
    "X_σ = zeros(n, L) \n",
    "Res = zeros(n, L)\n",
    "@time begin\n",
    "    W, H = bArnoldi(A, B, M)\n",
    "    f = qr(B)\n",
    "    for m in 1:M\n",
    "        #print(\"m$m\\t\")\n",
    "        s = f.Q[:, 1:m*L]' * B   # s = Q' B\n",
    "        z = H[1:L*m, 1:L*m] \\ s  # z = H \\ s\n",
    "        x = W[:, 1:L*m] * z      # x = W_m z    \n",
    "        X_σ = x\n",
    "    end\n",
    "    #print(\"\\n\")\n",
    "end # time"
   ]
  },
  {
   "cell_type": "code",
   "execution_count": 93,
   "metadata": {},
   "outputs": [
    {
     "data": {
      "text/plain": [
       "(1.8582760814184719e-9, 3.5752763904468557e-13, 1.8583020538270672e-9)"
      ]
     },
     "metadata": {},
     "output_type": "display_data"
    }
   ],
   "source": [
    "norm(X_σ - X_σ_naive), norm(X_exact - X_σ), norm(X_exact - X_σ_naive)"
   ]
  },
  {
   "cell_type": "code",
   "execution_count": 94,
   "metadata": {},
   "outputs": [],
   "source": []
  }
 ],
 "metadata": {
  "kernelspec": {
   "display_name": "Julia 1.8.0",
   "language": "julia",
   "name": "julia-1.8"
  },
  "language_info": {
   "file_extension": ".jl",
   "mimetype": "application/julia",
   "name": "julia",
   "version": "1.8.0"
  },
  "orig_nbformat": 4,
  "vscode": {
   "interpreter": {
    "hash": "916dbcbb3f70747c44a77c7bcd40155683ae19c65e1c03b4aa3499c5328201f1"
   }
  }
 },
 "nbformat": 4,
 "nbformat_minor": 2
}
