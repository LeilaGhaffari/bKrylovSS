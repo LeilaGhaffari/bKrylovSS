{
 "cells": [
  {
   "cell_type": "code",
   "execution_count": 18,
   "metadata": {},
   "outputs": [],
   "source": [
    "using LinearAlgebra\n",
    "using SparseArrays\n",
    "using UnicodePlots\n",
    "using Arpack"
   ]
  },
  {
   "cell_type": "code",
   "execution_count": 19,
   "metadata": {},
   "outputs": [],
   "source": [
    "n = 200\n",
    "x = rand(n, 1);"
   ]
  },
  {
   "cell_type": "code",
   "execution_count": 20,
   "metadata": {},
   "outputs": [],
   "source": [
    "A = Matrix(rand([1,2,3], n, n));\n",
    "A3 = Tridiagonal(A)\n",
    "A3sp = sparse(A3)\n",
    "A3no0 = dropzeros(A3sp);"
   ]
  },
  {
   "cell_type": "code",
   "execution_count": 21,
   "metadata": {},
   "outputs": [],
   "source": [
    "L, U = factorize(A);"
   ]
  },
  {
   "cell_type": "code",
   "execution_count": 22,
   "metadata": {},
   "outputs": [],
   "source": [
    "λ_A, ϕ_A = eigvals(A), eigvecs(A);"
   ]
  },
  {
   "cell_type": "code",
   "execution_count": 23,
   "metadata": {},
   "outputs": [
    {
     "data": {
      "text/plain": [
       "5×4 SparseMatrixCSC{Int64, Int64} with 4 stored entries:\n",
       " ⋅   ⋅  ⋅  1\n",
       " ⋅   ⋅  ⋅  ⋅\n",
       " ⋅  -5  ⋅  ⋅\n",
       " 2   ⋅  ⋅  ⋅\n",
       " ⋅   ⋅  ⋅  3"
      ]
     },
     "metadata": {},
     "output_type": "display_data"
    }
   ],
   "source": [
    "# Create a better sparse matrix manually\n",
    "I = [1, 4,  3, 5];  # the indices of the rows\n",
    "J = [4, 1,  2, 4];  # the indices of the columns\n",
    "V = [1, 2, -5, 3];  # the values\n",
    "S = sparse(I, J, V)"
   ]
  },
  {
   "cell_type": "code",
   "execution_count": 24,
   "metadata": {},
   "outputs": [],
   "source": [
    "# spdiagm\n",
    "nhalf = Int(n/2)\n",
    "B = spdiagm(0=>1:n, -1=>n-1:-1:1, 1=>2:n, -nhalf=>n-1:-1:nhalf, nhalf=>2:nhalf);\n",
    "C = spdiagm(0=>1:n, -1=>2:n,      1=>2:n, -nhalf=>n-1:-1:nhalf, nhalf=>n-1:-1:nhalf);"
   ]
  },
  {
   "cell_type": "code",
   "execution_count": 25,
   "metadata": {},
   "outputs": [
    {
     "name": "stdout",
     "output_type": "stream",
     "text": [
      "  0.040395 seconds (46.19 k allocations: 2.776 MiB, 97.59% compilation time)\n"
     ]
    }
   ],
   "source": [
    "@time [C*x for i in 1:200];"
   ]
  },
  {
   "cell_type": "code",
   "execution_count": 26,
   "metadata": {},
   "outputs": [
    {
     "name": "stdout",
     "output_type": "stream",
     "text": [
      "  0.048678 seconds (46.19 k allocations: 2.779 MiB, 97.95% compilation time)\n"
     ]
    }
   ],
   "source": [
    "@time [B*x for i in 1:200];"
   ]
  },
  {
   "cell_type": "code",
   "execution_count": 27,
   "metadata": {},
   "outputs": [],
   "source": [
    "B_lu = lu(B);\n",
    "B_sym_lu = lu(C);"
   ]
  },
  {
   "cell_type": "code",
   "execution_count": 28,
   "metadata": {},
   "outputs": [
    {
     "name": "stderr",
     "output_type": "stream",
     "text": [
      "┌ Warning: Adjusting nev from 200 to 199\n",
      "└ @ Arpack /home/leila/.julia/packages/Arpack/pLziT/src/Arpack.jl:92\n"
     ]
    }
   ],
   "source": [
    "λ, ϕ = eigs(C, nev=Int(n));"
   ]
  },
  {
   "cell_type": "code",
   "execution_count": 29,
   "metadata": {},
   "outputs": [],
   "source": [
    "M_list = [A, B, C];"
   ]
  },
  {
   "cell_type": "code",
   "execution_count": 30,
   "metadata": {},
   "outputs": [
    {
     "name": "stdout",
     "output_type": "stream",
     "text": [
      "  0.064588 seconds (56.56 k allocations: 9.430 MiB, 77.06% compilation time)\n",
      "  0.046275 seconds (67.81 k allocations: 4.331 MiB, 98.40% compilation time)\n",
      "  0.000498 seconds (415 allocations: 364.828 KiB)\n"
     ]
    }
   ],
   "source": [
    "for m in M_list\n",
    "    @time [m*x for i in 1:200]\n",
    "end"
   ]
  },
  {
   "cell_type": "code",
   "execution_count": 31,
   "metadata": {},
   "outputs": [
    {
     "name": "stderr",
     "output_type": "stream",
     "text": [
      "┌ Warning: Adjusting nev from 200 to 198\n",
      "└ @ Arpack /home/leila/.julia/packages/Arpack/pLziT/src/Arpack.jl:92\n"
     ]
    },
    {
     "name": "stdout",
     "output_type": "stream",
     "text": [
      "  1.949781 seconds (3.38 M allocations: 190.101 MiB, 5.52% gc time, 96.24% compilation time)\n"
     ]
    },
    {
     "name": "stderr",
     "output_type": "stream",
     "text": [
      "┌ Warning: Adjusting nev from 200 to 198\n",
      "└ @ Arpack /home/leila/.julia/packages/Arpack/pLziT/src/Arpack.jl:92\n"
     ]
    },
    {
     "name": "stdout",
     "output_type": "stream",
     "text": [
      "  0.123608 seconds (3.00 k allocations: 4.846 MiB, 17.63% compilation time)\n",
      "  0.042807 seconds (1.29 k allocations: 1.009 MiB)\n"
     ]
    },
    {
     "name": "stderr",
     "output_type": "stream",
     "text": [
      "┌ Warning: Adjusting nev from 200 to 199\n",
      "└ @ Arpack /home/leila/.julia/packages/Arpack/pLziT/src/Arpack.jl:92\n"
     ]
    }
   ],
   "source": [
    "# See how important symmetry is\n",
    "for m in M_list\n",
    "    @time eigs(m, nev=n)\n",
    "end"
   ]
  },
  {
   "cell_type": "code",
   "execution_count": 32,
   "metadata": {},
   "outputs": [],
   "source": []
  }
 ],
 "metadata": {
  "kernelspec": {
   "display_name": "Julia 1.8.0",
   "language": "julia",
   "name": "julia-1.8"
  },
  "language_info": {
   "file_extension": ".jl",
   "mimetype": "application/julia",
   "name": "julia",
   "version": "1.8.0"
  },
  "orig_nbformat": 4,
  "vscode": {
   "interpreter": {
    "hash": "916dbcbb3f70747c44a77c7bcd40155683ae19c65e1c03b4aa3499c5328201f1"
   }
  }
 },
 "nbformat": 4,
 "nbformat_minor": 2
}
