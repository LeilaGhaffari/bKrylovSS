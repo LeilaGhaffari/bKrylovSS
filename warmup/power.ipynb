{
 "cells": [
  {
   "cell_type": "code",
   "execution_count": 131,
   "metadata": {},
   "outputs": [],
   "source": [
    "using LinearAlgebra\n",
    "using Arpack\n",
    "using Plots"
   ]
  },
  {
   "cell_type": "code",
   "execution_count": 53,
   "metadata": {},
   "outputs": [
    {
     "data": {
      "text/plain": [
       "5×1 Matrix{Float64}:\n",
       " 0.29177993628195975\n",
       " 0.7426923112463464\n",
       " 0.36782037889313957\n",
       " 0.3952808827747971\n",
       " 0.22908870480784693"
      ]
     },
     "execution_count": 53,
     "metadata": {},
     "output_type": "execute_result"
    }
   ],
   "source": [
    "n = 5\n",
    "iter = 20\n",
    "x = rand(n, 1)"
   ]
  },
  {
   "cell_type": "code",
   "execution_count": 54,
   "metadata": {},
   "outputs": [
    {
     "data": {
      "text/plain": [
       "5×5 Matrix{Float64}:\n",
       " 0.2615  0.3692  0.0154  0.1231  0.2308\n",
       " 0.3538  0.0769  0.1077  0.2154  0.2462\n",
       " 0.0615  0.0923  0.2     0.3077  0.3385\n",
       " 0.1538  0.1846  0.2923  0.3231  0.0462\n",
       " 0.1692  0.2769  0.3846  0.0308  0.1385"
      ]
     },
     "execution_count": 54,
     "metadata": {},
     "output_type": "execute_result"
    }
   ],
   "source": [
    "A =[\n",
    "    0.2615    0.3692    0.0154    0.1231    0.2308;\n",
    "    0.3538    0.0769    0.1077    0.2154    0.2462;\n",
    "    0.0615    0.0923    0.2000    0.3077    0.3385;\n",
    "    0.1538    0.1846    0.2923    0.3231    0.0462;\n",
    "    0.1692    0.2769    0.3846    0.0308    0.1385\n",
    "]"
   ]
  },
  {
   "cell_type": "code",
   "execution_count": 55,
   "metadata": {},
   "outputs": [],
   "source": [
    "for i in 1:iter\n",
    "    x = A*x\n",
    "end"
   ]
  },
  {
   "cell_type": "code",
   "execution_count": 56,
   "metadata": {},
   "outputs": [
    {
     "data": {
      "text/plain": [
       "5×1 Matrix{Float64}:\n",
       " 0.4053226684117196\n",
       " 0.40532266842211867\n",
       " 0.40532266842226417\n",
       " 0.4053226683732162\n",
       " 0.4053226683555219"
      ]
     },
     "execution_count": 56,
     "metadata": {},
     "output_type": "execute_result"
    }
   ],
   "source": [
    "x"
   ]
  },
  {
   "cell_type": "code",
   "execution_count": 57,
   "metadata": {},
   "outputs": [
    {
     "data": {
      "text/plain": [
       "5×1 Matrix{Float64}:\n",
       " 0.40532266839801107\n",
       " 0.4053226683915254\n",
       " 0.4053226683839179\n",
       " 0.4053226684016846\n",
       " 0.4053226684096852"
      ]
     },
     "execution_count": 57,
     "metadata": {},
     "output_type": "execute_result"
    }
   ],
   "source": [
    "A*x"
   ]
  },
  {
   "cell_type": "code",
   "execution_count": 58,
   "metadata": {},
   "outputs": [
    {
     "name": "stderr",
     "output_type": "stream",
     "text": [
      "┌ Warning: Adjusting nev from 6 to 3\n",
      "└ @ Arpack /home/leila/.julia/packages/Arpack/pLziT/src/Arpack.jl:92\n"
     ]
    },
    {
     "data": {
      "text/plain": [
       "3-element Vector{ComplexF64}:\n",
       "  0.9999999999999993 + 0.0im\n",
       " -0.3273215924627377 + 0.0im\n",
       " 0.32732159246273757 + 0.0im"
      ]
     },
     "execution_count": 58,
     "metadata": {},
     "output_type": "execute_result"
    }
   ],
   "source": [
    "a, b = eigs(A)\n",
    "a"
   ]
  },
  {
   "cell_type": "code",
   "execution_count": 59,
   "metadata": {},
   "outputs": [
    {
     "data": {
      "text/plain": [
       "5×3 Matrix{ComplexF64}:\n",
       " 0.447214+0.0im  0.0976218+0.0im    0.678073+0.0im\n",
       " 0.447214+0.0im   0.352626+0.0im    0.322336+0.0im\n",
       " 0.447214+0.0im   0.550129+0.0im   -0.550029+0.0im\n",
       " 0.447214+0.0im  -0.322236+0.0im   -0.352526+0.0im\n",
       " 0.447214+0.0im  -0.677973+0.0im  -0.0975221+0.0im"
      ]
     },
     "execution_count": 59,
     "metadata": {},
     "output_type": "execute_result"
    }
   ],
   "source": [
    "b"
   ]
  },
  {
   "cell_type": "code",
   "execution_count": 60,
   "metadata": {},
   "outputs": [],
   "source": [
    "X = rand(n, 1)\n",
    "B = rand(Float64, (n, n));"
   ]
  },
  {
   "cell_type": "code",
   "execution_count": 61,
   "metadata": {},
   "outputs": [],
   "source": [
    "for i in 1:iter\n",
    "    x = B*X\n",
    "end"
   ]
  },
  {
   "cell_type": "code",
   "execution_count": 62,
   "metadata": {},
   "outputs": [
    {
     "data": {
      "text/plain": [
       "5×1 Matrix{Float64}:\n",
       " 0.9090200628517697\n",
       " 0.9814448004710259\n",
       " 0.4261439891124781\n",
       " 0.8115040039019115\n",
       " 0.2735064652240835"
      ]
     },
     "execution_count": 62,
     "metadata": {},
     "output_type": "execute_result"
    }
   ],
   "source": [
    "X"
   ]
  },
  {
   "cell_type": "code",
   "execution_count": 63,
   "metadata": {},
   "outputs": [
    {
     "data": {
      "text/plain": [
       "5×1 Matrix{Float64}:\n",
       " 1.6123022122873993\n",
       " 1.1050024006547674\n",
       " 1.4636716509333547\n",
       " 1.8387730909444315\n",
       " 1.7719688663796027"
      ]
     },
     "execution_count": 63,
     "metadata": {},
     "output_type": "execute_result"
    }
   ],
   "source": [
    "B*X"
   ]
  },
  {
   "cell_type": "code",
   "execution_count": 108,
   "metadata": {},
   "outputs": [
    {
     "data": {
      "text/plain": [
       "poweriter (generic function with 1 method)"
      ]
     },
     "execution_count": 108,
     "metadata": {},
     "output_type": "execute_result"
    }
   ],
   "source": [
    "function poweriter(A, numiter)\n",
    "\"\"\"\n",
    "Power iteration for the dominant eigenvalue.\n",
    "\n",
    "Input:\n",
    "    A           square matrix\n",
    "    numiter     #iteration\n",
    "Output:\n",
    "    γ           vector of the dominant eigenvalue approximations\n",
    "    x           final eigenvector approximation\n",
    "\"\"\"\n",
    "    n = size(A, 1)\n",
    "    x = normalize(randn(n), Inf)\n",
    "    γ = zeros(numiter)\n",
    "    for k in 1:numiter\n",
    "        y = A*x\n",
    "        m = argmax(abs.(y))\n",
    "        γ[k] = y[m] / x[m]\n",
    "        x = y / y[m]\n",
    "    end\n",
    "    return γ, x\n",
    "end"
   ]
  },
  {
   "cell_type": "code",
   "execution_count": 109,
   "metadata": {},
   "outputs": [
    {
     "name": "stderr",
     "output_type": "stream",
     "text": [
      "┌ Warning: Adjusting nev from 6 to 3\n",
      "└ @ Arpack /home/leila/.julia/packages/Arpack/pLziT/src/Arpack.jl:92\n"
     ]
    },
    {
     "data": {
      "text/plain": [
       "(2.1528672879439603 + 0.0im, 2.15168191970174)"
      ]
     },
     "execution_count": 109,
     "metadata": {},
     "output_type": "execute_result"
    }
   ],
   "source": [
    "γ, v = poweriter(B, 10);\n",
    "c, ~ = eigs(B)\n",
    "c[1] , γ[end]"
   ]
  },
  {
   "cell_type": "code",
   "execution_count": 125,
   "metadata": {},
   "outputs": [
    {
     "data": {
      "text/plain": [
       "5×5 Matrix{Float64}:\n",
       " 1.0   1.0   1.0   1.0  1.0\n",
       " 0.0  -0.75  1.0   1.0  1.0\n",
       " 0.0   0.0   0.6   1.0  1.0\n",
       " 0.0   0.0   0.0  -0.4  1.0\n",
       " 0.0   0.0   0.0   0.0  0.0"
      ]
     },
     "execution_count": 125,
     "metadata": {},
     "output_type": "execute_result"
    }
   ],
   "source": [
    "# Convergence\n",
    "λ = [1, -.75, .6, -.4, 0]\n",
    "A = UpperTriangular(ones(5,5)) + diagm(λ .- 1)"
   ]
  },
  {
   "cell_type": "code",
   "execution_count": 146,
   "metadata": {},
   "outputs": [
    {
     "data": {
      "text/plain": [
       "1.0006262122610756"
      ]
     },
     "execution_count": 146,
     "metadata": {},
     "output_type": "execute_result"
    }
   ],
   "source": [
    "iter = 40\n",
    "γ, x = poweriter(A, iter);\n",
    "λ1 = gamma[end]"
   ]
  },
  {
   "cell_type": "code",
   "execution_count": 148,
   "metadata": {},
   "outputs": [
    {
     "data": {
      "image/svg+xml": "<?xml version=\"1.0\" encoding=\"utf-8\"?>\n<svg xmlns=\"http://www.w3.org/2000/svg\" xmlns:xlink=\"http://www.w3.org/1999/xlink\" width=\"600\" height=\"400\" viewBox=\"0 0 2400 1600\">\n<defs>\n  <clipPath id=\"clip220\">\n    <rect x=\"0\" y=\"0\" width=\"2400\" height=\"1600\"/>\n  </clipPath>\n</defs>\n<path clip-path=\"url(#clip220)\" d=\"\nM0 1600 L2400 1600 L2400 0 L0 0  Z\n  \" fill=\"#ffffff\" fill-rule=\"evenodd\" fill-opacity=\"1\"/>\n<defs>\n  <clipPath id=\"clip221\">\n    <rect x=\"480\" y=\"0\" width=\"1681\" height=\"1600\"/>\n  </clipPath>\n</defs>\n<path clip-path=\"url(#clip220)\" d=\"\nM188.574 1486.45 L2352.76 1486.45 L2352.76 47.2441 L188.574 47.2441  Z\n  \" fill=\"#ffffff\" fill-rule=\"evenodd\" fill-opacity=\"1\"/>\n<defs>\n  <clipPath id=\"clip222\">\n    <rect x=\"188\" y=\"47\" width=\"2165\" height=\"1440\"/>\n  </clipPath>\n</defs>\n<polyline clip-path=\"url(#clip222)\" style=\"stroke:#000000; stroke-linecap:butt; stroke-linejoin:round; stroke-width:2; stroke-opacity:0.1; fill:none\" points=\"\n  197.474,1486.45 197.474,47.2441 \n  \"/>\n<polyline clip-path=\"url(#clip222)\" style=\"stroke:#000000; stroke-linecap:butt; stroke-linejoin:round; stroke-width:2; stroke-opacity:0.1; fill:none\" points=\"\n  720.982,1486.45 720.982,47.2441 \n  \"/>\n<polyline clip-path=\"url(#clip222)\" style=\"stroke:#000000; stroke-linecap:butt; stroke-linejoin:round; stroke-width:2; stroke-opacity:0.1; fill:none\" points=\"\n  1244.49,1486.45 1244.49,47.2441 \n  \"/>\n<polyline clip-path=\"url(#clip222)\" style=\"stroke:#000000; stroke-linecap:butt; stroke-linejoin:round; stroke-width:2; stroke-opacity:0.1; fill:none\" points=\"\n  1768,1486.45 1768,47.2441 \n  \"/>\n<polyline clip-path=\"url(#clip222)\" style=\"stroke:#000000; stroke-linecap:butt; stroke-linejoin:round; stroke-width:2; stroke-opacity:0.1; fill:none\" points=\"\n  2291.51,1486.45 2291.51,47.2441 \n  \"/>\n<polyline clip-path=\"url(#clip220)\" style=\"stroke:#000000; stroke-linecap:butt; stroke-linejoin:round; stroke-width:4; stroke-opacity:1; fill:none\" points=\"\n  188.574,1486.45 2352.76,1486.45 \n  \"/>\n<polyline clip-path=\"url(#clip220)\" style=\"stroke:#000000; stroke-linecap:butt; stroke-linejoin:round; stroke-width:4; stroke-opacity:1; fill:none\" points=\"\n  197.474,1486.45 197.474,1467.55 \n  \"/>\n<polyline clip-path=\"url(#clip220)\" style=\"stroke:#000000; stroke-linecap:butt; stroke-linejoin:round; stroke-width:4; stroke-opacity:1; fill:none\" points=\"\n  720.982,1486.45 720.982,1467.55 \n  \"/>\n<polyline clip-path=\"url(#clip220)\" style=\"stroke:#000000; stroke-linecap:butt; stroke-linejoin:round; stroke-width:4; stroke-opacity:1; fill:none\" points=\"\n  1244.49,1486.45 1244.49,1467.55 \n  \"/>\n<polyline clip-path=\"url(#clip220)\" style=\"stroke:#000000; stroke-linecap:butt; stroke-linejoin:round; stroke-width:4; stroke-opacity:1; fill:none\" points=\"\n  1768,1486.45 1768,1467.55 \n  \"/>\n<polyline clip-path=\"url(#clip220)\" style=\"stroke:#000000; stroke-linecap:butt; stroke-linejoin:round; stroke-width:4; stroke-opacity:1; fill:none\" points=\"\n  2291.51,1486.45 2291.51,1467.55 \n  \"/>\n<path clip-path=\"url(#clip220)\" d=\"M197.474 1515.64 Q193.863 1515.64 192.034 1519.2 Q190.229 1522.75 190.229 1529.87 Q190.229 1536.98 192.034 1540.55 Q193.863 1544.09 197.474 1544.09 Q201.108 1544.09 202.914 1540.55 Q204.742 1536.98 204.742 1529.87 Q204.742 1522.75 202.914 1519.2 Q201.108 1515.64 197.474 1515.64 M197.474 1511.93 Q203.284 1511.93 206.34 1516.54 Q209.418 1521.12 209.418 1529.87 Q209.418 1538.6 206.34 1543.21 Q203.284 1547.79 197.474 1547.79 Q191.664 1547.79 188.585 1543.21 Q185.53 1538.6 185.53 1529.87 Q185.53 1521.12 188.585 1516.54 Q191.664 1511.93 197.474 1511.93 Z\" fill=\"#000000\" fill-rule=\"evenodd\" fill-opacity=\"1\" /><path clip-path=\"url(#clip220)\" d=\"M695.669 1543.18 L703.308 1543.18 L703.308 1516.82 L694.998 1518.49 L694.998 1514.23 L703.262 1512.56 L707.938 1512.56 L707.938 1543.18 L715.577 1543.18 L715.577 1547.12 L695.669 1547.12 L695.669 1543.18 Z\" fill=\"#000000\" fill-rule=\"evenodd\" fill-opacity=\"1\" /><path clip-path=\"url(#clip220)\" d=\"M735.021 1515.64 Q731.41 1515.64 729.581 1519.2 Q727.776 1522.75 727.776 1529.87 Q727.776 1536.98 729.581 1540.55 Q731.41 1544.09 735.021 1544.09 Q738.655 1544.09 740.461 1540.55 Q742.29 1536.98 742.29 1529.87 Q742.29 1522.75 740.461 1519.2 Q738.655 1515.64 735.021 1515.64 M735.021 1511.93 Q740.831 1511.93 743.887 1516.54 Q746.966 1521.12 746.966 1529.87 Q746.966 1538.6 743.887 1543.21 Q740.831 1547.79 735.021 1547.79 Q729.211 1547.79 726.132 1543.21 Q723.077 1538.6 723.077 1529.87 Q723.077 1521.12 726.132 1516.54 Q729.211 1511.93 735.021 1511.93 Z\" fill=\"#000000\" fill-rule=\"evenodd\" fill-opacity=\"1\" /><path clip-path=\"url(#clip220)\" d=\"M1223.26 1543.18 L1239.58 1543.18 L1239.58 1547.12 L1217.64 1547.12 L1217.64 1543.18 Q1220.3 1540.43 1224.88 1535.8 Q1229.49 1531.15 1230.67 1529.81 Q1232.92 1527.28 1233.8 1525.55 Q1234.7 1523.79 1234.7 1522.1 Q1234.7 1519.34 1232.75 1517.61 Q1230.83 1515.87 1227.73 1515.87 Q1225.53 1515.87 1223.08 1516.63 Q1220.65 1517.4 1217.87 1518.95 L1217.87 1514.23 Q1220.69 1513.09 1223.15 1512.51 Q1225.6 1511.93 1227.64 1511.93 Q1233.01 1511.93 1236.2 1514.62 Q1239.4 1517.31 1239.4 1521.8 Q1239.4 1523.93 1238.59 1525.85 Q1237.8 1527.74 1235.69 1530.34 Q1235.11 1531.01 1232.01 1534.23 Q1228.91 1537.42 1223.26 1543.18 Z\" fill=\"#000000\" fill-rule=\"evenodd\" fill-opacity=\"1\" /><path clip-path=\"url(#clip220)\" d=\"M1259.4 1515.64 Q1255.79 1515.64 1253.96 1519.2 Q1252.15 1522.75 1252.15 1529.87 Q1252.15 1536.98 1253.96 1540.55 Q1255.79 1544.09 1259.4 1544.09 Q1263.03 1544.09 1264.84 1540.55 Q1266.67 1536.98 1266.67 1529.87 Q1266.67 1522.75 1264.84 1519.2 Q1263.03 1515.64 1259.4 1515.64 M1259.4 1511.93 Q1265.21 1511.93 1268.26 1516.54 Q1271.34 1521.12 1271.34 1529.87 Q1271.34 1538.6 1268.26 1543.21 Q1265.21 1547.79 1259.4 1547.79 Q1253.59 1547.79 1250.51 1543.21 Q1247.45 1538.6 1247.45 1529.87 Q1247.45 1521.12 1250.51 1516.54 Q1253.59 1511.93 1259.4 1511.93 Z\" fill=\"#000000\" fill-rule=\"evenodd\" fill-opacity=\"1\" /><path clip-path=\"url(#clip220)\" d=\"M1756.84 1528.49 Q1760.2 1529.2 1762.07 1531.47 Q1763.97 1533.74 1763.97 1537.07 Q1763.97 1542.19 1760.45 1544.99 Q1756.93 1547.79 1750.45 1547.79 Q1748.28 1547.79 1745.96 1547.35 Q1743.67 1546.93 1741.22 1546.08 L1741.22 1541.56 Q1743.16 1542.7 1745.47 1543.28 Q1747.79 1543.86 1750.31 1543.86 Q1754.71 1543.86 1757 1542.12 Q1759.32 1540.38 1759.32 1537.07 Q1759.32 1534.02 1757.16 1532.31 Q1755.03 1530.57 1751.22 1530.57 L1747.19 1530.57 L1747.19 1526.73 L1751.4 1526.73 Q1754.85 1526.73 1756.68 1525.36 Q1758.51 1523.97 1758.51 1521.38 Q1758.51 1518.72 1756.61 1517.31 Q1754.73 1515.87 1751.22 1515.87 Q1749.29 1515.87 1747.09 1516.29 Q1744.9 1516.7 1742.26 1517.58 L1742.26 1513.42 Q1744.92 1512.68 1747.23 1512.31 Q1749.57 1511.93 1751.63 1511.93 Q1756.96 1511.93 1760.06 1514.37 Q1763.16 1516.77 1763.16 1520.89 Q1763.16 1523.76 1761.52 1525.75 Q1759.87 1527.72 1756.84 1528.49 Z\" fill=\"#000000\" fill-rule=\"evenodd\" fill-opacity=\"1\" /><path clip-path=\"url(#clip220)\" d=\"M1782.84 1515.64 Q1779.22 1515.64 1777.4 1519.2 Q1775.59 1522.75 1775.59 1529.87 Q1775.59 1536.98 1777.4 1540.55 Q1779.22 1544.09 1782.84 1544.09 Q1786.47 1544.09 1788.28 1540.55 Q1790.1 1536.98 1790.1 1529.87 Q1790.1 1522.75 1788.28 1519.2 Q1786.47 1515.64 1782.84 1515.64 M1782.84 1511.93 Q1788.65 1511.93 1791.7 1516.54 Q1794.78 1521.12 1794.78 1529.87 Q1794.78 1538.6 1791.7 1543.21 Q1788.65 1547.79 1782.84 1547.79 Q1777.03 1547.79 1773.95 1543.21 Q1770.89 1538.6 1770.89 1529.87 Q1770.89 1521.12 1773.95 1516.54 Q1777.03 1511.93 1782.84 1511.93 Z\" fill=\"#000000\" fill-rule=\"evenodd\" fill-opacity=\"1\" /><path clip-path=\"url(#clip220)\" d=\"M2279.68 1516.63 L2267.87 1535.08 L2279.68 1535.08 L2279.68 1516.63 M2278.45 1512.56 L2284.33 1512.56 L2284.33 1535.08 L2289.26 1535.08 L2289.26 1538.97 L2284.33 1538.97 L2284.33 1547.12 L2279.68 1547.12 L2279.68 1538.97 L2264.08 1538.97 L2264.08 1534.46 L2278.45 1512.56 Z\" fill=\"#000000\" fill-rule=\"evenodd\" fill-opacity=\"1\" /><path clip-path=\"url(#clip220)\" d=\"M2306.99 1515.64 Q2303.38 1515.64 2301.55 1519.2 Q2299.75 1522.75 2299.75 1529.87 Q2299.75 1536.98 2301.55 1540.55 Q2303.38 1544.09 2306.99 1544.09 Q2310.63 1544.09 2312.43 1540.55 Q2314.26 1536.98 2314.26 1529.87 Q2314.26 1522.75 2312.43 1519.2 Q2310.63 1515.64 2306.99 1515.64 M2306.99 1511.93 Q2312.8 1511.93 2315.86 1516.54 Q2318.94 1521.12 2318.94 1529.87 Q2318.94 1538.6 2315.86 1543.21 Q2312.8 1547.79 2306.99 1547.79 Q2301.18 1547.79 2298.1 1543.21 Q2295.05 1538.6 2295.05 1529.87 Q2295.05 1521.12 2298.1 1516.54 Q2301.18 1511.93 2306.99 1511.93 Z\" fill=\"#000000\" fill-rule=\"evenodd\" fill-opacity=\"1\" /><polyline clip-path=\"url(#clip222)\" style=\"stroke:#000000; stroke-linecap:butt; stroke-linejoin:round; stroke-width:2; stroke-opacity:0.1; fill:none\" points=\"\n  188.574,870.891 2352.76,870.891 \n  \"/>\n<polyline clip-path=\"url(#clip222)\" style=\"stroke:#000000; stroke-linecap:butt; stroke-linejoin:round; stroke-width:2; stroke-opacity:0.1; fill:none\" points=\"\n  188.574,161.729 2352.76,161.729 \n  \"/>\n<polyline clip-path=\"url(#clip220)\" style=\"stroke:#000000; stroke-linecap:butt; stroke-linejoin:round; stroke-width:4; stroke-opacity:1; fill:none\" points=\"\n  188.574,1486.45 188.574,47.2441 \n  \"/>\n<polyline clip-path=\"url(#clip220)\" style=\"stroke:#000000; stroke-linecap:butt; stroke-linejoin:round; stroke-width:4; stroke-opacity:1; fill:none\" points=\"\n  188.574,870.891 207.472,870.891 \n  \"/>\n<polyline clip-path=\"url(#clip220)\" style=\"stroke:#000000; stroke-linecap:butt; stroke-linejoin:round; stroke-width:4; stroke-opacity:1; fill:none\" points=\"\n  188.574,161.729 207.472,161.729 \n  \"/>\n<path clip-path=\"url(#clip220)\" d=\"M51.6634 890.683 L59.3023 890.683 L59.3023 864.317 L50.9921 865.984 L50.9921 861.725 L59.256 860.058 L63.9319 860.058 L63.9319 890.683 L71.5707 890.683 L71.5707 894.618 L51.6634 894.618 L51.6634 890.683 Z\" fill=\"#000000\" fill-rule=\"evenodd\" fill-opacity=\"1\" /><path clip-path=\"url(#clip220)\" d=\"M91.0151 863.137 Q87.404 863.137 85.5753 866.702 Q83.7697 870.243 83.7697 877.373 Q83.7697 884.479 85.5753 888.044 Q87.404 891.586 91.0151 891.586 Q94.6493 891.586 96.4548 888.044 Q98.2835 884.479 98.2835 877.373 Q98.2835 870.243 96.4548 866.702 Q94.6493 863.137 91.0151 863.137 M91.0151 859.433 Q96.8252 859.433 99.8808 864.04 Q102.959 868.623 102.959 877.373 Q102.959 886.1 99.8808 890.706 Q96.8252 895.289 91.0151 895.289 Q85.2049 895.289 82.1262 890.706 Q79.0707 886.1 79.0707 877.373 Q79.0707 868.623 82.1262 864.04 Q85.2049 859.433 91.0151 859.433 Z\" fill=\"#000000\" fill-rule=\"evenodd\" fill-opacity=\"1\" /><path clip-path=\"url(#clip220)\" d=\"M102.959 853.534 L127.071 853.534 L127.071 856.732 L102.959 856.732 L102.959 853.534 Z\" fill=\"#000000\" fill-rule=\"evenodd\" fill-opacity=\"1\" /><path clip-path=\"url(#clip220)\" d=\"M146.782 852.067 Q149.509 852.65 151.032 854.494 Q152.574 856.337 152.574 859.045 Q152.574 863.202 149.716 865.477 Q146.857 867.753 141.591 867.753 Q139.823 867.753 137.942 867.396 Q136.08 867.057 134.086 866.361 L134.086 862.694 Q135.666 863.615 137.547 864.086 Q139.428 864.556 141.478 864.556 Q145.051 864.556 146.913 863.145 Q148.794 861.735 148.794 859.045 Q148.794 856.563 147.045 855.171 Q145.315 853.76 142.211 853.76 L138.939 853.76 L138.939 850.638 L142.362 850.638 Q145.164 850.638 146.65 849.528 Q148.136 848.4 148.136 846.293 Q148.136 844.131 146.593 842.983 Q145.07 841.817 142.211 841.817 Q140.65 841.817 138.863 842.156 Q137.077 842.494 134.933 843.209 L134.933 839.824 Q137.096 839.222 138.976 838.921 Q140.876 838.62 142.55 838.62 Q146.876 838.62 149.396 840.595 Q151.916 842.551 151.916 845.899 Q151.916 848.231 150.581 849.848 Q149.245 851.447 146.782 852.067 Z\" fill=\"#000000\" fill-rule=\"evenodd\" fill-opacity=\"1\" /><path clip-path=\"url(#clip220)\" d=\"M81.8687 181.521 L89.5075 181.521 L89.5075 155.156 L81.1974 156.822 L81.1974 152.563 L89.4612 150.896 L94.1371 150.896 L94.1371 181.521 L101.776 181.521 L101.776 185.456 L81.8687 185.456 L81.8687 181.521 Z\" fill=\"#000000\" fill-rule=\"evenodd\" fill-opacity=\"1\" /><path clip-path=\"url(#clip220)\" d=\"M121.22 153.975 Q117.609 153.975 115.781 157.54 Q113.975 161.082 113.975 168.211 Q113.975 175.318 115.781 178.882 Q117.609 182.424 121.22 182.424 Q124.855 182.424 126.66 178.882 Q128.489 175.318 128.489 168.211 Q128.489 161.082 126.66 157.54 Q124.855 153.975 121.22 153.975 M121.22 150.271 Q127.03 150.271 130.086 154.878 Q133.165 159.461 133.165 168.211 Q133.165 176.938 130.086 181.544 Q127.03 186.128 121.22 186.128 Q115.41 186.128 112.331 181.544 Q109.276 176.938 109.276 168.211 Q109.276 159.461 112.331 154.878 Q115.41 150.271 121.22 150.271 Z\" fill=\"#000000\" fill-rule=\"evenodd\" fill-opacity=\"1\" /><path clip-path=\"url(#clip220)\" d=\"M142.87 132.467 Q139.936 132.467 138.45 135.364 Q136.983 138.241 136.983 144.034 Q136.983 149.808 138.45 152.705 Q139.936 155.582 142.87 155.582 Q145.822 155.582 147.289 152.705 Q148.775 149.808 148.775 144.034 Q148.775 138.241 147.289 135.364 Q145.822 132.467 142.87 132.467 M142.87 129.458 Q147.59 129.458 150.073 133.201 Q152.574 136.925 152.574 144.034 Q152.574 151.125 150.073 154.867 Q147.59 158.591 142.87 158.591 Q138.149 158.591 135.647 154.867 Q133.165 151.125 133.165 144.034 Q133.165 136.925 135.647 133.201 Q138.149 129.458 142.87 129.458 Z\" fill=\"#000000\" fill-rule=\"evenodd\" fill-opacity=\"1\" /><polyline clip-path=\"url(#clip222)\" style=\"stroke:#009af9; stroke-linecap:butt; stroke-linejoin:round; stroke-width:4; stroke-opacity:1; fill:none\" points=\"\n  249.825,87.9763 302.176,277.309 354.526,186.802 406.877,726.518 459.228,327.428 511.579,534.677 563.929,419.981 616.28,551.141 668.631,497.774 720.982,589.739 \n  773.333,568.403 825.683,637.216 878.034,634.862 930.385,689.333 982.736,698.703 1035.09,744.123 1087.44,760.855 1139.79,800.524 1192.14,821.911 1244.49,857.914 \n  1296.84,882.258 1349.19,915.923 1401.54,942.147 1453.89,974.319 1506.24,1001.74 1558.59,1032.96 1610.95,1061.15 1663.3,1091.76 1715.65,1120.43 1768,1150.65 \n  1820.35,1179.63 1872.7,1209.61 1925.05,1238.79 1977.4,1268.6 2029.75,1297.91 2082.1,1327.63 2134.45,1357.02 2186.8,1386.67 2239.15,1416.11 2291.51,1445.72 \n  \n  \"/>\n<path clip-path=\"url(#clip220)\" d=\"\nM1987.72 198.898 L2280.62 198.898 L2280.62 95.2176 L1987.72 95.2176  Z\n  \" fill=\"#ffffff\" fill-rule=\"evenodd\" fill-opacity=\"1\"/>\n<polyline clip-path=\"url(#clip220)\" style=\"stroke:#000000; stroke-linecap:butt; stroke-linejoin:round; stroke-width:4; stroke-opacity:1; fill:none\" points=\"\n  1987.72,198.898 2280.62,198.898 2280.62,95.2176 1987.72,95.2176 1987.72,198.898 \n  \"/>\n<polyline clip-path=\"url(#clip220)\" style=\"stroke:#009af9; stroke-linecap:butt; stroke-linejoin:round; stroke-width:4; stroke-opacity:1; fill:none\" points=\"\n  2011.77,147.058 2156.05,147.058 \n  \"/>\n<path clip-path=\"url(#clip220)\" d=\"M2193.94 166.745 Q2192.13 171.375 2190.42 172.787 Q2188.7 174.199 2185.83 174.199 L2182.43 174.199 L2182.43 170.634 L2184.93 170.634 Q2186.69 170.634 2187.66 169.8 Q2188.63 168.967 2189.82 165.865 L2190.58 163.921 L2180.09 138.412 L2184.61 138.412 L2192.71 158.689 L2200.81 138.412 L2205.32 138.412 L2193.94 166.745 Z\" fill=\"#000000\" fill-rule=\"evenodd\" fill-opacity=\"1\" /><path clip-path=\"url(#clip220)\" d=\"M2212.62 160.402 L2220.26 160.402 L2220.26 134.037 L2211.95 135.703 L2211.95 131.444 L2220.21 129.778 L2224.88 129.778 L2224.88 160.402 L2232.52 160.402 L2232.52 164.338 L2212.62 164.338 L2212.62 160.402 Z\" fill=\"#000000\" fill-rule=\"evenodd\" fill-opacity=\"1\" /></svg>\n"
     },
     "execution_count": 148,
     "metadata": {},
     "output_type": "execute_result"
    }
   ],
   "source": [
    "err = 1 .- γ # λ1 .- γ;\n",
    "plot(1:iter, abs.(err), yaxis=:log)"
   ]
  },
  {
   "cell_type": "code",
   "execution_count": 149,
   "metadata": {},
   "outputs": [
    {
     "data": {
      "text/plain": [
       "(-0.75, -0.7494639146132678)"
      ]
     },
     "execution_count": 149,
     "metadata": {},
     "output_type": "execute_result"
    }
   ],
   "source": [
    "# This is how power iteration should converge asymptotically\n",
    "λ[2] / λ[1] , err[40] / err[39]"
   ]
  },
  {
   "cell_type": "code",
   "execution_count": null,
   "metadata": {},
   "outputs": [],
   "source": []
  }
 ],
 "metadata": {
  "kernelspec": {
   "display_name": "Julia 1.6.2",
   "language": "julia",
   "name": "julia-1.6"
  },
  "language_info": {
   "file_extension": ".jl",
   "mimetype": "application/julia",
   "name": "julia",
   "version": "1.6.2"
  },
  "orig_nbformat": 4,
  "vscode": {
   "interpreter": {
    "hash": "916dbcbb3f70747c44a77c7bcd40155683ae19c65e1c03b4aa3499c5328201f1"
   }
  }
 },
 "nbformat": 4,
 "nbformat_minor": 2
}
