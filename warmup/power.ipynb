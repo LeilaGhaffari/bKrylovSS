{
 "cells": [
  {
   "cell_type": "code",
   "execution_count": 1,
   "metadata": {},
   "outputs": [],
   "source": [
    "using LinearAlgebra\n",
    "using Arpack\n",
    "using Plots"
   ]
  },
  {
   "cell_type": "code",
   "execution_count": 2,
   "metadata": {},
   "outputs": [
    {
     "data": {
      "text/plain": [
       "5×1 Matrix{Float64}:\n",
       " 0.8434432682072673\n",
       " 0.6340318727776325\n",
       " 0.013116923377485379\n",
       " 0.27962957079850437\n",
       " 0.824480604429868"
      ]
     },
     "execution_count": 2,
     "metadata": {},
     "output_type": "execute_result"
    }
   ],
   "source": [
    "n = 5\n",
    "iter = 20\n",
    "x = rand(n, 1)"
   ]
  },
  {
   "cell_type": "code",
   "execution_count": 3,
   "metadata": {},
   "outputs": [
    {
     "data": {
      "text/plain": [
       "5×5 Matrix{Float64}:\n",
       " 0.2615  0.3692  0.0154  0.1231  0.2308\n",
       " 0.3538  0.0769  0.1077  0.2154  0.2462\n",
       " 0.0615  0.0923  0.2     0.3077  0.3385\n",
       " 0.1538  0.1846  0.2923  0.3231  0.0462\n",
       " 0.1692  0.2769  0.3846  0.0308  0.1385"
      ]
     },
     "execution_count": 3,
     "metadata": {},
     "output_type": "execute_result"
    }
   ],
   "source": [
    "A =[\n",
    "    0.2615    0.3692    0.0154    0.1231    0.2308;\n",
    "    0.3538    0.0769    0.1077    0.2154    0.2462;\n",
    "    0.0615    0.0923    0.2000    0.3077    0.3385;\n",
    "    0.1538    0.1846    0.2923    0.3231    0.0462;\n",
    "    0.1692    0.2769    0.3846    0.0308    0.1385\n",
    "]"
   ]
  },
  {
   "cell_type": "code",
   "execution_count": 4,
   "metadata": {},
   "outputs": [],
   "source": [
    "for i in 1:iter\n",
    "    x = A*x\n",
    "end"
   ]
  },
  {
   "cell_type": "code",
   "execution_count": 5,
   "metadata": {},
   "outputs": [
    {
     "data": {
      "text/plain": [
       "5×1 Matrix{Float64}:\n",
       " 0.5189153334874308\n",
       " 0.5189153334226303\n",
       " 0.5189153332916967\n",
       " 0.5189153333754618\n",
       " 0.5189153334332267"
      ]
     },
     "execution_count": 5,
     "metadata": {},
     "output_type": "execute_result"
    }
   ],
   "source": [
    "x"
   ]
  },
  {
   "cell_type": "code",
   "execution_count": 6,
   "metadata": {},
   "outputs": [
    {
     "data": {
      "text/plain": [
       "5×1 Matrix{Float64}:\n",
       " 0.5189153334341984\n",
       " 0.518915333423904\n",
       " 0.5189153333895019\n",
       " 0.5189153333795742\n",
       " 0.5189153333832524"
      ]
     },
     "execution_count": 6,
     "metadata": {},
     "output_type": "execute_result"
    }
   ],
   "source": [
    "A*x"
   ]
  },
  {
   "cell_type": "code",
   "execution_count": 7,
   "metadata": {},
   "outputs": [
    {
     "name": "stderr",
     "output_type": "stream",
     "text": [
      "┌ Warning: Adjusting nev from 6 to 3\n",
      "└ @ Arpack /home/leila/.julia/packages/Arpack/pLziT/src/Arpack.jl:92\n"
     ]
    },
    {
     "data": {
      "text/plain": [
       "3-element Vector{ComplexF64}:\n",
       "                  1.0 + 0.0im\n",
       " -0.32732159246273773 + 0.0im\n",
       "   0.3273215924627376 + 0.0im"
      ]
     },
     "execution_count": 7,
     "metadata": {},
     "output_type": "execute_result"
    }
   ],
   "source": [
    "a, b = eigs(A)\n",
    "a"
   ]
  },
  {
   "cell_type": "code",
   "execution_count": 8,
   "metadata": {},
   "outputs": [
    {
     "data": {
      "text/plain": [
       "5×3 Matrix{ComplexF64}:\n",
       " 0.447214+0.0im  0.0976218+0.0im    0.678073+0.0im\n",
       " 0.447214+0.0im   0.352626+0.0im    0.322336+0.0im\n",
       " 0.447214+0.0im   0.550129+0.0im   -0.550029+0.0im\n",
       " 0.447214+0.0im  -0.322236+0.0im   -0.352526+0.0im\n",
       " 0.447214+0.0im  -0.677973+0.0im  -0.0975221+0.0im"
      ]
     },
     "execution_count": 8,
     "metadata": {},
     "output_type": "execute_result"
    }
   ],
   "source": [
    "b"
   ]
  },
  {
   "cell_type": "code",
   "execution_count": 13,
   "metadata": {},
   "outputs": [
    {
     "data": {
      "text/plain": [
       "poweriter (generic function with 1 method)"
      ]
     },
     "execution_count": 13,
     "metadata": {},
     "output_type": "execute_result"
    }
   ],
   "source": [
    "function poweriter(A, numiter)\n",
    "\"\"\"\n",
    "Power iteration for the dominant eigenvalue.\n",
    "\n",
    "Input:\n",
    "    A           square matrix\n",
    "    numiter     #iteration\n",
    "Output:\n",
    "    γ           vector of the dominant eigenvalue approximations\n",
    "    x           final eigenvector approximation\n",
    "\"\"\"\n",
    "    n = size(A, 1)\n",
    "    x = normalize(randn(n), Inf)\n",
    "    γ = zeros(numiter)\n",
    "    for k in 1:numiter\n",
    "        y = A*x\n",
    "        m = argmax(abs.(y))\n",
    "        γ[k] = y[m] / x[m]\n",
    "        x = y / y[m]\n",
    "    end\n",
    "    return γ, x\n",
    "end"
   ]
  },
  {
   "cell_type": "code",
   "execution_count": 14,
   "metadata": {},
   "outputs": [
    {
     "name": "stderr",
     "output_type": "stream",
     "text": [
      "┌ Warning: Adjusting nev from 6 to 3\n",
      "└ @ Arpack /home/leila/.julia/packages/Arpack/pLziT/src/Arpack.jl:92\n"
     ]
    },
    {
     "data": {
      "text/plain": [
       "(2.21526417157825 + 0.0im, 2.215433938982214)"
      ]
     },
     "execution_count": 14,
     "metadata": {},
     "output_type": "execute_result"
    }
   ],
   "source": [
    "γ, v = poweriter(B, 10);\n",
    "c, ~ = eigs(B)\n",
    "c[1] , γ[end]"
   ]
  },
  {
   "cell_type": "code",
   "execution_count": 15,
   "metadata": {},
   "outputs": [
    {
     "data": {
      "text/plain": [
       "5×5 Matrix{Float64}:\n",
       " 1.0   1.0   1.0   1.0  1.0\n",
       " 0.0  -0.75  1.0   1.0  1.0\n",
       " 0.0   0.0   0.6   1.0  1.0\n",
       " 0.0   0.0   0.0  -0.4  1.0\n",
       " 0.0   0.0   0.0   0.0  0.0"
      ]
     },
     "execution_count": 15,
     "metadata": {},
     "output_type": "execute_result"
    }
   ],
   "source": [
    "# Convergence\n",
    "λ = [1, -.75, .6, -.4, 0]\n",
    "A = UpperTriangular(ones(5,5)) + diagm(λ .- 1)"
   ]
  },
  {
   "cell_type": "code",
   "execution_count": 31,
   "metadata": {},
   "outputs": [
    {
     "data": {
      "text/plain": [
       "1.0000045365050145"
      ]
     },
     "execution_count": 31,
     "metadata": {},
     "output_type": "execute_result"
    }
   ],
   "source": [
    "iter = 40\n",
    "γ, x = poweriter(A, iter);\n",
    "λ1 = γ[end]"
   ]
  },
  {
   "cell_type": "code",
   "execution_count": 32,
   "metadata": {},
   "outputs": [
    {
     "data": {
      "image/svg+xml": [
       "<?xml version=\"1.0\" encoding=\"utf-8\"?>\n",
       "<svg xmlns=\"http://www.w3.org/2000/svg\" xmlns:xlink=\"http://www.w3.org/1999/xlink\" width=\"600\" height=\"400\" viewBox=\"0 0 2400 1600\">\n",
       "<defs>\n",
       "  <clipPath id=\"clip560\">\n",
       "    <rect x=\"0\" y=\"0\" width=\"2400\" height=\"1600\"/>\n",
       "  </clipPath>\n",
       "</defs>\n",
       "<path clip-path=\"url(#clip560)\" d=\"\n",
       "M0 1600 L2400 1600 L2400 0 L0 0  Z\n",
       "  \" fill=\"#ffffff\" fill-rule=\"evenodd\" fill-opacity=\"1\"/>\n",
       "<defs>\n",
       "  <clipPath id=\"clip561\">\n",
       "    <rect x=\"480\" y=\"0\" width=\"1681\" height=\"1600\"/>\n",
       "  </clipPath>\n",
       "</defs>\n",
       "<path clip-path=\"url(#clip560)\" d=\"\n",
       "M188.574 1486.45 L2352.76 1486.45 L2352.76 47.2441 L188.574 47.2441  Z\n",
       "  \" fill=\"#ffffff\" fill-rule=\"evenodd\" fill-opacity=\"1\"/>\n",
       "<defs>\n",
       "  <clipPath id=\"clip562\">\n",
       "    <rect x=\"188\" y=\"47\" width=\"2165\" height=\"1440\"/>\n",
       "  </clipPath>\n",
       "</defs>\n",
       "<polyline clip-path=\"url(#clip562)\" style=\"stroke:#000000; stroke-linecap:butt; stroke-linejoin:round; stroke-width:2; stroke-opacity:0.1; fill:none\" points=\"\n",
       "  197.474,1486.45 197.474,47.2441 \n",
       "  \"/>\n",
       "<polyline clip-path=\"url(#clip562)\" style=\"stroke:#000000; stroke-linecap:butt; stroke-linejoin:round; stroke-width:2; stroke-opacity:0.1; fill:none\" points=\"\n",
       "  720.982,1486.45 720.982,47.2441 \n",
       "  \"/>\n",
       "<polyline clip-path=\"url(#clip562)\" style=\"stroke:#000000; stroke-linecap:butt; stroke-linejoin:round; stroke-width:2; stroke-opacity:0.1; fill:none\" points=\"\n",
       "  1244.49,1486.45 1244.49,47.2441 \n",
       "  \"/>\n",
       "<polyline clip-path=\"url(#clip562)\" style=\"stroke:#000000; stroke-linecap:butt; stroke-linejoin:round; stroke-width:2; stroke-opacity:0.1; fill:none\" points=\"\n",
       "  1768,1486.45 1768,47.2441 \n",
       "  \"/>\n",
       "<polyline clip-path=\"url(#clip562)\" style=\"stroke:#000000; stroke-linecap:butt; stroke-linejoin:round; stroke-width:2; stroke-opacity:0.1; fill:none\" points=\"\n",
       "  2291.51,1486.45 2291.51,47.2441 \n",
       "  \"/>\n",
       "<polyline clip-path=\"url(#clip560)\" style=\"stroke:#000000; stroke-linecap:butt; stroke-linejoin:round; stroke-width:4; stroke-opacity:1; fill:none\" points=\"\n",
       "  188.574,1486.45 2352.76,1486.45 \n",
       "  \"/>\n",
       "<polyline clip-path=\"url(#clip560)\" style=\"stroke:#000000; stroke-linecap:butt; stroke-linejoin:round; stroke-width:4; stroke-opacity:1; fill:none\" points=\"\n",
       "  197.474,1486.45 197.474,1467.55 \n",
       "  \"/>\n",
       "<polyline clip-path=\"url(#clip560)\" style=\"stroke:#000000; stroke-linecap:butt; stroke-linejoin:round; stroke-width:4; stroke-opacity:1; fill:none\" points=\"\n",
       "  720.982,1486.45 720.982,1467.55 \n",
       "  \"/>\n",
       "<polyline clip-path=\"url(#clip560)\" style=\"stroke:#000000; stroke-linecap:butt; stroke-linejoin:round; stroke-width:4; stroke-opacity:1; fill:none\" points=\"\n",
       "  1244.49,1486.45 1244.49,1467.55 \n",
       "  \"/>\n",
       "<polyline clip-path=\"url(#clip560)\" style=\"stroke:#000000; stroke-linecap:butt; stroke-linejoin:round; stroke-width:4; stroke-opacity:1; fill:none\" points=\"\n",
       "  1768,1486.45 1768,1467.55 \n",
       "  \"/>\n",
       "<polyline clip-path=\"url(#clip560)\" style=\"stroke:#000000; stroke-linecap:butt; stroke-linejoin:round; stroke-width:4; stroke-opacity:1; fill:none\" points=\"\n",
       "  2291.51,1486.45 2291.51,1467.55 \n",
       "  \"/>\n",
       "<path clip-path=\"url(#clip560)\" d=\"M197.474 1517.37 Q193.863 1517.37 192.034 1520.93 Q190.229 1524.47 190.229 1531.6 Q190.229 1538.71 192.034 1542.27 Q193.863 1545.82 197.474 1545.82 Q201.108 1545.82 202.914 1542.27 Q204.742 1538.71 204.742 1531.6 Q204.742 1524.47 202.914 1520.93 Q201.108 1517.37 197.474 1517.37 M197.474 1513.66 Q203.284 1513.66 206.34 1518.27 Q209.418 1522.85 209.418 1531.6 Q209.418 1540.33 206.34 1544.94 Q203.284 1549.52 197.474 1549.52 Q191.664 1549.52 188.585 1544.94 Q185.53 1540.33 185.53 1531.6 Q185.53 1522.85 188.585 1518.27 Q191.664 1513.66 197.474 1513.66 Z\" fill=\"#000000\" fill-rule=\"evenodd\" fill-opacity=\"1\" /><path clip-path=\"url(#clip560)\" d=\"M695.669 1544.91 L703.308 1544.91 L703.308 1518.55 L694.998 1520.21 L694.998 1515.95 L703.262 1514.29 L707.938 1514.29 L707.938 1544.91 L715.577 1544.91 L715.577 1548.85 L695.669 1548.85 L695.669 1544.91 Z\" fill=\"#000000\" fill-rule=\"evenodd\" fill-opacity=\"1\" /><path clip-path=\"url(#clip560)\" d=\"M735.021 1517.37 Q731.41 1517.37 729.581 1520.93 Q727.776 1524.47 727.776 1531.6 Q727.776 1538.71 729.581 1542.27 Q731.41 1545.82 735.021 1545.82 Q738.655 1545.82 740.461 1542.27 Q742.29 1538.71 742.29 1531.6 Q742.29 1524.47 740.461 1520.93 Q738.655 1517.37 735.021 1517.37 M735.021 1513.66 Q740.831 1513.66 743.887 1518.27 Q746.966 1522.85 746.966 1531.6 Q746.966 1540.33 743.887 1544.94 Q740.831 1549.52 735.021 1549.52 Q729.211 1549.52 726.132 1544.94 Q723.077 1540.33 723.077 1531.6 Q723.077 1522.85 726.132 1518.27 Q729.211 1513.66 735.021 1513.66 Z\" fill=\"#000000\" fill-rule=\"evenodd\" fill-opacity=\"1\" /><path clip-path=\"url(#clip560)\" d=\"M1223.26 1544.91 L1239.58 1544.91 L1239.58 1548.85 L1217.64 1548.85 L1217.64 1544.91 Q1220.3 1542.16 1224.88 1537.53 Q1229.49 1532.88 1230.67 1531.53 Q1232.92 1529.01 1233.8 1527.27 Q1234.7 1525.51 1234.7 1523.82 Q1234.7 1521.07 1232.75 1519.33 Q1230.83 1517.6 1227.73 1517.6 Q1225.53 1517.6 1223.08 1518.36 Q1220.65 1519.13 1217.87 1520.68 L1217.87 1515.95 Q1220.69 1514.82 1223.15 1514.24 Q1225.6 1513.66 1227.64 1513.66 Q1233.01 1513.66 1236.2 1516.35 Q1239.4 1519.03 1239.4 1523.52 Q1239.4 1525.65 1238.59 1527.57 Q1237.8 1529.47 1235.69 1532.07 Q1235.11 1532.74 1232.01 1535.95 Q1228.91 1539.15 1223.26 1544.91 Z\" fill=\"#000000\" fill-rule=\"evenodd\" fill-opacity=\"1\" /><path clip-path=\"url(#clip560)\" d=\"M1259.4 1517.37 Q1255.79 1517.37 1253.96 1520.93 Q1252.15 1524.47 1252.15 1531.6 Q1252.15 1538.71 1253.96 1542.27 Q1255.79 1545.82 1259.4 1545.82 Q1263.03 1545.82 1264.84 1542.27 Q1266.67 1538.71 1266.67 1531.6 Q1266.67 1524.47 1264.84 1520.93 Q1263.03 1517.37 1259.4 1517.37 M1259.4 1513.66 Q1265.21 1513.66 1268.26 1518.27 Q1271.34 1522.85 1271.34 1531.6 Q1271.34 1540.33 1268.26 1544.94 Q1265.21 1549.52 1259.4 1549.52 Q1253.59 1549.52 1250.51 1544.94 Q1247.45 1540.33 1247.45 1531.6 Q1247.45 1522.85 1250.51 1518.27 Q1253.59 1513.66 1259.4 1513.66 Z\" fill=\"#000000\" fill-rule=\"evenodd\" fill-opacity=\"1\" /><path clip-path=\"url(#clip560)\" d=\"M1756.84 1530.21 Q1760.2 1530.93 1762.07 1533.2 Q1763.97 1535.47 1763.97 1538.8 Q1763.97 1543.92 1760.45 1546.72 Q1756.93 1549.52 1750.45 1549.52 Q1748.28 1549.52 1745.96 1549.08 Q1743.67 1548.66 1741.22 1547.81 L1741.22 1543.29 Q1743.16 1544.43 1745.47 1545.01 Q1747.79 1545.58 1750.31 1545.58 Q1754.71 1545.58 1757 1543.85 Q1759.32 1542.11 1759.32 1538.8 Q1759.32 1535.75 1757.16 1534.03 Q1755.03 1532.3 1751.22 1532.3 L1747.19 1532.3 L1747.19 1528.45 L1751.4 1528.45 Q1754.85 1528.45 1756.68 1527.09 Q1758.51 1525.7 1758.51 1523.11 Q1758.51 1520.45 1756.61 1519.03 Q1754.73 1517.6 1751.22 1517.6 Q1749.29 1517.6 1747.09 1518.01 Q1744.9 1518.43 1742.26 1519.31 L1742.26 1515.14 Q1744.92 1514.4 1747.23 1514.03 Q1749.57 1513.66 1751.63 1513.66 Q1756.96 1513.66 1760.06 1516.09 Q1763.16 1518.5 1763.16 1522.62 Q1763.16 1525.49 1761.52 1527.48 Q1759.87 1529.45 1756.84 1530.21 Z\" fill=\"#000000\" fill-rule=\"evenodd\" fill-opacity=\"1\" /><path clip-path=\"url(#clip560)\" d=\"M1782.84 1517.37 Q1779.22 1517.37 1777.4 1520.93 Q1775.59 1524.47 1775.59 1531.6 Q1775.59 1538.71 1777.4 1542.27 Q1779.22 1545.82 1782.84 1545.82 Q1786.47 1545.82 1788.28 1542.27 Q1790.1 1538.71 1790.1 1531.6 Q1790.1 1524.47 1788.28 1520.93 Q1786.47 1517.37 1782.84 1517.37 M1782.84 1513.66 Q1788.65 1513.66 1791.7 1518.27 Q1794.78 1522.85 1794.78 1531.6 Q1794.78 1540.33 1791.7 1544.94 Q1788.65 1549.52 1782.84 1549.52 Q1777.03 1549.52 1773.95 1544.94 Q1770.89 1540.33 1770.89 1531.6 Q1770.89 1522.85 1773.95 1518.27 Q1777.03 1513.66 1782.84 1513.66 Z\" fill=\"#000000\" fill-rule=\"evenodd\" fill-opacity=\"1\" /><path clip-path=\"url(#clip560)\" d=\"M2279.68 1518.36 L2267.87 1536.81 L2279.68 1536.81 L2279.68 1518.36 M2278.45 1514.29 L2284.33 1514.29 L2284.33 1536.81 L2289.26 1536.81 L2289.26 1540.7 L2284.33 1540.7 L2284.33 1548.85 L2279.68 1548.85 L2279.68 1540.7 L2264.08 1540.7 L2264.08 1536.19 L2278.45 1514.29 Z\" fill=\"#000000\" fill-rule=\"evenodd\" fill-opacity=\"1\" /><path clip-path=\"url(#clip560)\" d=\"M2306.99 1517.37 Q2303.38 1517.37 2301.55 1520.93 Q2299.75 1524.47 2299.75 1531.6 Q2299.75 1538.71 2301.55 1542.27 Q2303.38 1545.82 2306.99 1545.82 Q2310.63 1545.82 2312.43 1542.27 Q2314.26 1538.71 2314.26 1531.6 Q2314.26 1524.47 2312.43 1520.93 Q2310.63 1517.37 2306.99 1517.37 M2306.99 1513.66 Q2312.8 1513.66 2315.86 1518.27 Q2318.94 1522.85 2318.94 1531.6 Q2318.94 1540.33 2315.86 1544.94 Q2312.8 1549.52 2306.99 1549.52 Q2301.18 1549.52 2298.1 1544.94 Q2295.05 1540.33 2295.05 1531.6 Q2295.05 1522.85 2298.1 1518.27 Q2301.18 1513.66 2306.99 1513.66 Z\" fill=\"#000000\" fill-rule=\"evenodd\" fill-opacity=\"1\" /><polyline clip-path=\"url(#clip562)\" style=\"stroke:#000000; stroke-linecap:butt; stroke-linejoin:round; stroke-width:2; stroke-opacity:0.1; fill:none\" points=\"\n",
       "  188.574,901.632 2352.76,901.632 \n",
       "  \"/>\n",
       "<polyline clip-path=\"url(#clip562)\" style=\"stroke:#000000; stroke-linecap:butt; stroke-linejoin:round; stroke-width:2; stroke-opacity:0.1; fill:none\" points=\"\n",
       "  188.574,205.064 2352.76,205.064 \n",
       "  \"/>\n",
       "<polyline clip-path=\"url(#clip560)\" style=\"stroke:#000000; stroke-linecap:butt; stroke-linejoin:round; stroke-width:4; stroke-opacity:1; fill:none\" points=\"\n",
       "  188.574,1486.45 188.574,47.2441 \n",
       "  \"/>\n",
       "<polyline clip-path=\"url(#clip560)\" style=\"stroke:#000000; stroke-linecap:butt; stroke-linejoin:round; stroke-width:4; stroke-opacity:1; fill:none\" points=\"\n",
       "  188.574,901.632 207.472,901.632 \n",
       "  \"/>\n",
       "<polyline clip-path=\"url(#clip560)\" style=\"stroke:#000000; stroke-linecap:butt; stroke-linejoin:round; stroke-width:4; stroke-opacity:1; fill:none\" points=\"\n",
       "  188.574,205.064 207.472,205.064 \n",
       "  \"/>\n",
       "<path clip-path=\"url(#clip560)\" d=\"M51.6634 921.424 L59.3023 921.424 L59.3023 895.059 L50.9921 896.725 L50.9921 892.466 L59.256 890.799 L63.9319 890.799 L63.9319 921.424 L71.5707 921.424 L71.5707 925.359 L51.6634 925.359 L51.6634 921.424 Z\" fill=\"#000000\" fill-rule=\"evenodd\" fill-opacity=\"1\" /><path clip-path=\"url(#clip560)\" d=\"M91.0151 893.878 Q87.404 893.878 85.5753 897.443 Q83.7697 900.984 83.7697 908.114 Q83.7697 915.22 85.5753 918.785 Q87.404 922.327 91.0151 922.327 Q94.6493 922.327 96.4548 918.785 Q98.2835 915.22 98.2835 908.114 Q98.2835 900.984 96.4548 897.443 Q94.6493 893.878 91.0151 893.878 M91.0151 890.174 Q96.8252 890.174 99.8808 894.781 Q102.959 899.364 102.959 908.114 Q102.959 916.841 99.8808 921.447 Q96.8252 926.031 91.0151 926.031 Q85.2049 926.031 82.1262 921.447 Q79.0707 916.841 79.0707 908.114 Q79.0707 899.364 82.1262 894.781 Q85.2049 890.174 91.0151 890.174 Z\" fill=\"#000000\" fill-rule=\"evenodd\" fill-opacity=\"1\" /><path clip-path=\"url(#clip560)\" d=\"M102.959 884.276 L127.071 884.276 L127.071 887.473 L102.959 887.473 L102.959 884.276 Z\" fill=\"#000000\" fill-rule=\"evenodd\" fill-opacity=\"1\" /><path clip-path=\"url(#clip560)\" d=\"M146.782 882.809 Q149.509 883.392 151.032 885.235 Q152.574 887.078 152.574 889.786 Q152.574 893.943 149.716 896.219 Q146.857 898.494 141.591 898.494 Q139.823 898.494 137.942 898.137 Q136.08 897.798 134.086 897.103 L134.086 893.435 Q135.666 894.357 137.547 894.827 Q139.428 895.297 141.478 895.297 Q145.051 895.297 146.913 893.886 Q148.794 892.476 148.794 889.786 Q148.794 887.304 147.045 885.912 Q145.315 884.501 142.211 884.501 L138.939 884.501 L138.939 881.379 L142.362 881.379 Q145.164 881.379 146.65 880.27 Q148.136 879.141 148.136 877.035 Q148.136 874.872 146.593 873.724 Q145.07 872.558 142.211 872.558 Q140.65 872.558 138.863 872.897 Q137.077 873.235 134.933 873.95 L134.933 870.565 Q137.096 869.963 138.976 869.662 Q140.876 869.361 142.55 869.361 Q146.876 869.361 149.396 871.336 Q151.916 873.292 151.916 876.64 Q151.916 878.972 150.581 880.589 Q149.245 882.188 146.782 882.809 Z\" fill=\"#000000\" fill-rule=\"evenodd\" fill-opacity=\"1\" /><path clip-path=\"url(#clip560)\" d=\"M81.8687 224.857 L89.5075 224.857 L89.5075 198.491 L81.1974 200.158 L81.1974 195.898 L89.4612 194.232 L94.1371 194.232 L94.1371 224.857 L101.776 224.857 L101.776 228.792 L81.8687 228.792 L81.8687 224.857 Z\" fill=\"#000000\" fill-rule=\"evenodd\" fill-opacity=\"1\" /><path clip-path=\"url(#clip560)\" d=\"M121.22 197.31 Q117.609 197.31 115.781 200.875 Q113.975 204.417 113.975 211.546 Q113.975 218.653 115.781 222.218 Q117.609 225.759 121.22 225.759 Q124.855 225.759 126.66 222.218 Q128.489 218.653 128.489 211.546 Q128.489 204.417 126.66 200.875 Q124.855 197.31 121.22 197.31 M121.22 193.607 Q127.03 193.607 130.086 198.213 Q133.165 202.796 133.165 211.546 Q133.165 220.273 130.086 224.88 Q127.03 229.463 121.22 229.463 Q115.41 229.463 112.331 224.88 Q109.276 220.273 109.276 211.546 Q109.276 202.796 112.331 198.213 Q115.41 193.607 121.22 193.607 Z\" fill=\"#000000\" fill-rule=\"evenodd\" fill-opacity=\"1\" /><path clip-path=\"url(#clip560)\" d=\"M142.87 175.803 Q139.936 175.803 138.45 178.699 Q136.983 181.577 136.983 187.369 Q136.983 193.143 138.45 196.04 Q139.936 198.917 142.87 198.917 Q145.822 198.917 147.289 196.04 Q148.775 193.143 148.775 187.369 Q148.775 181.577 147.289 178.699 Q145.822 175.803 142.87 175.803 M142.87 172.793 Q147.59 172.793 150.073 176.536 Q152.574 180.26 152.574 187.369 Q152.574 194.46 150.073 198.203 Q147.59 201.927 142.87 201.927 Q138.149 201.927 135.647 198.203 Q133.165 194.46 133.165 187.369 Q133.165 180.26 135.647 176.536 Q138.149 172.793 142.87 172.793 Z\" fill=\"#000000\" fill-rule=\"evenodd\" fill-opacity=\"1\" /><polyline clip-path=\"url(#clip562)\" style=\"stroke:#009af9; stroke-linecap:butt; stroke-linejoin:round; stroke-width:4; stroke-opacity:1; fill:none\" points=\"\n",
       "  249.825,131.294 302.176,87.9763 354.526,402.304 406.877,264.366 459.228,611.783 511.579,385.973 563.929,564.383 616.28,472.635 668.631,589.341 720.982,547.041 \n",
       "  773.333,630.337 825.683,615.236 878.034,678.485 930.385,679.76 982.736,730.522 1035.09,741.972 1087.44,784.84 1139.79,802.695 1192.14,840.545 1244.49,862.455 \n",
       "  1296.84,897.106 1349.19,921.591 1401.54,954.203 1453.89,980.327 1506.24,1011.64 1558.59,1038.81 1610.95,1069.28 1663.3,1097.12 1715.65,1127.07 1768,1155.32 \n",
       "  1820.35,1184.93 1872.7,1213.46 1925.05,1242.86 1977.4,1271.56 2029.75,1300.81 2082.1,1329.63 2134.45,1358.79 2186.8,1387.68 2239.15,1416.79 2291.51,1445.72 \n",
       "  \n",
       "  \"/>\n",
       "<path clip-path=\"url(#clip560)\" d=\"\n",
       "M1987.72 198.898 L2280.62 198.898 L2280.62 95.2176 L1987.72 95.2176  Z\n",
       "  \" fill=\"#ffffff\" fill-rule=\"evenodd\" fill-opacity=\"1\"/>\n",
       "<polyline clip-path=\"url(#clip560)\" style=\"stroke:#000000; stroke-linecap:butt; stroke-linejoin:round; stroke-width:4; stroke-opacity:1; fill:none\" points=\"\n",
       "  1987.72,198.898 2280.62,198.898 2280.62,95.2176 1987.72,95.2176 1987.72,198.898 \n",
       "  \"/>\n",
       "<polyline clip-path=\"url(#clip560)\" style=\"stroke:#009af9; stroke-linecap:butt; stroke-linejoin:round; stroke-width:4; stroke-opacity:1; fill:none\" points=\"\n",
       "  2011.77,147.058 2156.05,147.058 \n",
       "  \"/>\n",
       "<path clip-path=\"url(#clip560)\" d=\"M2193.94 166.745 Q2192.13 171.375 2190.42 172.787 Q2188.7 174.199 2185.83 174.199 L2182.43 174.199 L2182.43 170.634 L2184.93 170.634 Q2186.69 170.634 2187.66 169.8 Q2188.63 168.967 2189.82 165.865 L2190.58 163.921 L2180.09 138.412 L2184.61 138.412 L2192.71 158.689 L2200.81 138.412 L2205.32 138.412 L2193.94 166.745 Z\" fill=\"#000000\" fill-rule=\"evenodd\" fill-opacity=\"1\" /><path clip-path=\"url(#clip560)\" d=\"M2212.62 160.402 L2220.26 160.402 L2220.26 134.037 L2211.95 135.703 L2211.95 131.444 L2220.21 129.778 L2224.88 129.778 L2224.88 160.402 L2232.52 160.402 L2232.52 164.338 L2212.62 164.338 L2212.62 160.402 Z\" fill=\"#000000\" fill-rule=\"evenodd\" fill-opacity=\"1\" /></svg>\n"
      ]
     },
     "execution_count": 32,
     "metadata": {},
     "output_type": "execute_result"
    }
   ],
   "source": [
    "err = 1 .- γ # λ1 .- γ;\n",
    "plot(1:iter, abs.(err), yaxis=:log)"
   ]
  },
  {
   "cell_type": "code",
   "execution_count": 33,
   "metadata": {},
   "outputs": [
    {
     "data": {
      "text/plain": [
       "(-0.75, -0.7505952274161848)"
      ]
     },
     "execution_count": 33,
     "metadata": {},
     "output_type": "execute_result"
    }
   ],
   "source": [
    "# This is how power iteration should converge asymptotically\n",
    "λ[2] / λ[1] , err[40] / err[39]"
   ]
  },
  {
   "cell_type": "code",
   "execution_count": null,
   "metadata": {},
   "outputs": [],
   "source": []
  }
 ],
 "metadata": {
  "kernelspec": {
   "display_name": "Julia 1.8.0",
   "language": "julia",
   "name": "julia-1.8"
  },
  "language_info": {
   "file_extension": ".jl",
   "mimetype": "application/julia",
   "name": "julia",
   "version": "1.8.0"
  },
  "orig_nbformat": 4,
  "vscode": {
   "interpreter": {
    "hash": "916dbcbb3f70747c44a77c7bcd40155683ae19c65e1c03b4aa3499c5328201f1"
   }
  }
 },
 "nbformat": 4,
 "nbformat_minor": 2
}
