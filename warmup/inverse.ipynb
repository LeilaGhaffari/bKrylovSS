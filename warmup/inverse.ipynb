{
 "cells": [
  {
   "cell_type": "code",
   "execution_count": 1,
   "metadata": {},
   "outputs": [],
   "source": [
    "using LinearAlgebra\n",
    "using Arpack\n",
    "using Plots"
   ]
  },
  {
   "cell_type": "code",
   "execution_count": 2,
   "metadata": {},
   "outputs": [
    {
     "data": {
      "text/plain": [
       "inviter (generic function with 1 method)"
      ]
     },
     "execution_count": 2,
     "metadata": {},
     "output_type": "execute_result"
    }
   ],
   "source": [
    "function inviter(A, s, numiter)\n",
    "    n = size(A, 1)\n",
    "    x = normalize(rand(n), Inf)\n",
    "    B = A - s * I\n",
    "    Bfact = lu(B)\n",
    "    γ = zeros(numiter)\n",
    "    for k in 1:numiter\n",
    "        y = Bfact.U \\ (Bfact.L \\ x)\n",
    "        m = argmax(abs.(y))\n",
    "        γ[k] = x[m] / y[m] + s\n",
    "        x = y / y[m]\n",
    "    end\n",
    "    return γ, x\n",
    "end"
   ]
  },
  {
   "cell_type": "code",
   "execution_count": 3,
   "metadata": {},
   "outputs": [],
   "source": [
    "λ = [1, -.75, .6, -.4, 0]\n",
    "A = UpperTriangular(ones(5,5)) + diagm(λ .- 1);"
   ]
  },
  {
   "cell_type": "code",
   "execution_count": 4,
   "metadata": {},
   "outputs": [],
   "source": [
    "s = .7\n",
    "iter = 30\n",
    "γ, v = inviter(A, s, iter);"
   ]
  },
  {
   "cell_type": "code",
   "execution_count": 5,
   "metadata": {},
   "outputs": [
    {
     "data": {
      "image/svg+xml": "<?xml version=\"1.0\" encoding=\"utf-8\"?>\n<svg xmlns=\"http://www.w3.org/2000/svg\" xmlns:xlink=\"http://www.w3.org/1999/xlink\" width=\"600\" height=\"400\" viewBox=\"0 0 2400 1600\">\n<defs>\n  <clipPath id=\"clip940\">\n    <rect x=\"0\" y=\"0\" width=\"2400\" height=\"1600\"/>\n  </clipPath>\n</defs>\n<path clip-path=\"url(#clip940)\" d=\"\nM0 1600 L2400 1600 L2400 0 L0 0  Z\n  \" fill=\"#ffffff\" fill-rule=\"evenodd\" fill-opacity=\"1\"/>\n<defs>\n  <clipPath id=\"clip941\">\n    <rect x=\"480\" y=\"0\" width=\"1681\" height=\"1600\"/>\n  </clipPath>\n</defs>\n<path clip-path=\"url(#clip940)\" d=\"\nM213.607 1486.45 L2352.76 1486.45 L2352.76 47.2441 L213.607 47.2441  Z\n  \" fill=\"#ffffff\" fill-rule=\"evenodd\" fill-opacity=\"1\"/>\n<defs>\n  <clipPath id=\"clip942\">\n    <rect x=\"213\" y=\"47\" width=\"2140\" height=\"1440\"/>\n  </clipPath>\n</defs>\n<polyline clip-path=\"url(#clip942)\" style=\"stroke:#000000; stroke-linecap:butt; stroke-linejoin:round; stroke-width:2; stroke-opacity:0.1; fill:none\" points=\"\n  562.444,1486.45 562.444,47.2441 \n  \"/>\n<polyline clip-path=\"url(#clip942)\" style=\"stroke:#000000; stroke-linecap:butt; stroke-linejoin:round; stroke-width:2; stroke-opacity:0.1; fill:none\" points=\"\n  922.813,1486.45 922.813,47.2441 \n  \"/>\n<polyline clip-path=\"url(#clip942)\" style=\"stroke:#000000; stroke-linecap:butt; stroke-linejoin:round; stroke-width:2; stroke-opacity:0.1; fill:none\" points=\"\n  1283.18,1486.45 1283.18,47.2441 \n  \"/>\n<polyline clip-path=\"url(#clip942)\" style=\"stroke:#000000; stroke-linecap:butt; stroke-linejoin:round; stroke-width:2; stroke-opacity:0.1; fill:none\" points=\"\n  1643.55,1486.45 1643.55,47.2441 \n  \"/>\n<polyline clip-path=\"url(#clip942)\" style=\"stroke:#000000; stroke-linecap:butt; stroke-linejoin:round; stroke-width:2; stroke-opacity:0.1; fill:none\" points=\"\n  2003.92,1486.45 2003.92,47.2441 \n  \"/>\n<polyline clip-path=\"url(#clip940)\" style=\"stroke:#000000; stroke-linecap:butt; stroke-linejoin:round; stroke-width:4; stroke-opacity:1; fill:none\" points=\"\n  213.607,1486.45 2352.76,1486.45 \n  \"/>\n<polyline clip-path=\"url(#clip940)\" style=\"stroke:#000000; stroke-linecap:butt; stroke-linejoin:round; stroke-width:4; stroke-opacity:1; fill:none\" points=\"\n  562.444,1486.45 562.444,1467.55 \n  \"/>\n<polyline clip-path=\"url(#clip940)\" style=\"stroke:#000000; stroke-linecap:butt; stroke-linejoin:round; stroke-width:4; stroke-opacity:1; fill:none\" points=\"\n  922.813,1486.45 922.813,1467.55 \n  \"/>\n<polyline clip-path=\"url(#clip940)\" style=\"stroke:#000000; stroke-linecap:butt; stroke-linejoin:round; stroke-width:4; stroke-opacity:1; fill:none\" points=\"\n  1283.18,1486.45 1283.18,1467.55 \n  \"/>\n<polyline clip-path=\"url(#clip940)\" style=\"stroke:#000000; stroke-linecap:butt; stroke-linejoin:round; stroke-width:4; stroke-opacity:1; fill:none\" points=\"\n  1643.55,1486.45 1643.55,1467.55 \n  \"/>\n<polyline clip-path=\"url(#clip940)\" style=\"stroke:#000000; stroke-linecap:butt; stroke-linejoin:round; stroke-width:4; stroke-opacity:1; fill:none\" points=\"\n  2003.92,1486.45 2003.92,1467.55 \n  \"/>\n<path clip-path=\"url(#clip940)\" d=\"M552.722 1512.56 L571.079 1512.56 L571.079 1516.5 L557.005 1516.5 L557.005 1524.97 Q558.023 1524.62 559.042 1524.46 Q560.06 1524.27 561.079 1524.27 Q566.866 1524.27 570.245 1527.44 Q573.625 1530.62 573.625 1536.03 Q573.625 1541.61 570.153 1544.71 Q566.68 1547.79 560.361 1547.79 Q558.185 1547.79 555.917 1547.42 Q553.671 1547.05 551.264 1546.31 L551.264 1541.61 Q553.347 1542.74 555.569 1543.3 Q557.792 1543.86 560.268 1543.86 Q564.273 1543.86 566.611 1541.75 Q568.949 1539.64 568.949 1536.03 Q568.949 1532.42 566.611 1530.31 Q564.273 1528.21 560.268 1528.21 Q558.393 1528.21 556.518 1528.62 Q554.667 1529.04 552.722 1529.92 L552.722 1512.56 Z\" fill=\"#000000\" fill-rule=\"evenodd\" fill-opacity=\"1\" /><path clip-path=\"url(#clip940)\" d=\"M897.501 1543.18 L905.14 1543.18 L905.14 1516.82 L896.829 1518.49 L896.829 1514.23 L905.093 1512.56 L909.769 1512.56 L909.769 1543.18 L917.408 1543.18 L917.408 1547.12 L897.501 1547.12 L897.501 1543.18 Z\" fill=\"#000000\" fill-rule=\"evenodd\" fill-opacity=\"1\" /><path clip-path=\"url(#clip940)\" d=\"M936.852 1515.64 Q933.241 1515.64 931.413 1519.2 Q929.607 1522.75 929.607 1529.87 Q929.607 1536.98 931.413 1540.55 Q933.241 1544.09 936.852 1544.09 Q940.487 1544.09 942.292 1540.55 Q944.121 1536.98 944.121 1529.87 Q944.121 1522.75 942.292 1519.2 Q940.487 1515.64 936.852 1515.64 M936.852 1511.93 Q942.662 1511.93 945.718 1516.54 Q948.797 1521.12 948.797 1529.87 Q948.797 1538.6 945.718 1543.21 Q942.662 1547.79 936.852 1547.79 Q931.042 1547.79 927.963 1543.21 Q924.908 1538.6 924.908 1529.87 Q924.908 1521.12 927.963 1516.54 Q931.042 1511.93 936.852 1511.93 Z\" fill=\"#000000\" fill-rule=\"evenodd\" fill-opacity=\"1\" /><path clip-path=\"url(#clip940)\" d=\"M1258.37 1543.18 L1266.01 1543.18 L1266.01 1516.82 L1257.7 1518.49 L1257.7 1514.23 L1265.96 1512.56 L1270.64 1512.56 L1270.64 1543.18 L1278.27 1543.18 L1278.27 1547.12 L1258.37 1547.12 L1258.37 1543.18 Z\" fill=\"#000000\" fill-rule=\"evenodd\" fill-opacity=\"1\" /><path clip-path=\"url(#clip940)\" d=\"M1287.77 1512.56 L1306.12 1512.56 L1306.12 1516.5 L1292.05 1516.5 L1292.05 1524.97 Q1293.07 1524.62 1294.08 1524.46 Q1295.1 1524.27 1296.12 1524.27 Q1301.91 1524.27 1305.29 1527.44 Q1308.67 1530.62 1308.67 1536.03 Q1308.67 1541.61 1305.2 1544.71 Q1301.72 1547.79 1295.4 1547.79 Q1293.23 1547.79 1290.96 1547.42 Q1288.71 1547.05 1286.31 1546.31 L1286.31 1541.61 Q1288.39 1542.74 1290.61 1543.3 Q1292.83 1543.86 1295.31 1543.86 Q1299.32 1543.86 1301.65 1541.75 Q1303.99 1539.64 1303.99 1536.03 Q1303.99 1532.42 1301.65 1530.31 Q1299.32 1528.21 1295.31 1528.21 Q1293.44 1528.21 1291.56 1528.62 Q1289.71 1529.04 1287.77 1529.92 L1287.77 1512.56 Z\" fill=\"#000000\" fill-rule=\"evenodd\" fill-opacity=\"1\" /><path clip-path=\"url(#clip940)\" d=\"M1622.32 1543.18 L1638.64 1543.18 L1638.64 1547.12 L1616.7 1547.12 L1616.7 1543.18 Q1619.36 1540.43 1623.94 1535.8 Q1628.55 1531.15 1629.73 1529.81 Q1631.98 1527.28 1632.86 1525.55 Q1633.76 1523.79 1633.76 1522.1 Q1633.76 1519.34 1631.81 1517.61 Q1629.89 1515.87 1626.79 1515.87 Q1624.59 1515.87 1622.14 1516.63 Q1619.71 1517.4 1616.93 1518.95 L1616.93 1514.23 Q1619.75 1513.09 1622.21 1512.51 Q1624.66 1511.93 1626.7 1511.93 Q1632.07 1511.93 1635.26 1514.62 Q1638.46 1517.31 1638.46 1521.8 Q1638.46 1523.93 1637.65 1525.85 Q1636.86 1527.74 1634.75 1530.34 Q1634.18 1531.01 1631.07 1534.23 Q1627.97 1537.42 1622.32 1543.18 Z\" fill=\"#000000\" fill-rule=\"evenodd\" fill-opacity=\"1\" /><path clip-path=\"url(#clip940)\" d=\"M1658.46 1515.64 Q1654.85 1515.64 1653.02 1519.2 Q1651.21 1522.75 1651.21 1529.87 Q1651.21 1536.98 1653.02 1540.55 Q1654.85 1544.09 1658.46 1544.09 Q1662.09 1544.09 1663.9 1540.55 Q1665.73 1536.98 1665.73 1529.87 Q1665.73 1522.75 1663.9 1519.2 Q1662.09 1515.64 1658.46 1515.64 M1658.46 1511.93 Q1664.27 1511.93 1667.32 1516.54 Q1670.4 1521.12 1670.4 1529.87 Q1670.4 1538.6 1667.32 1543.21 Q1664.27 1547.79 1658.46 1547.79 Q1652.65 1547.79 1649.57 1543.21 Q1646.51 1538.6 1646.51 1529.87 Q1646.51 1521.12 1649.57 1516.54 Q1652.65 1511.93 1658.46 1511.93 Z\" fill=\"#000000\" fill-rule=\"evenodd\" fill-opacity=\"1\" /><path clip-path=\"url(#clip940)\" d=\"M1983.19 1543.18 L1999.51 1543.18 L1999.51 1547.12 L1977.57 1547.12 L1977.57 1543.18 Q1980.23 1540.43 1984.81 1535.8 Q1989.42 1531.15 1990.6 1529.81 Q1992.84 1527.28 1993.72 1525.55 Q1994.63 1523.79 1994.63 1522.1 Q1994.63 1519.34 1992.68 1517.61 Q1990.76 1515.87 1987.66 1515.87 Q1985.46 1515.87 1983 1516.63 Q1980.57 1517.4 1977.8 1518.95 L1977.8 1514.23 Q1980.62 1513.09 1983.07 1512.51 Q1985.53 1511.93 1987.56 1511.93 Q1992.94 1511.93 1996.13 1514.62 Q1999.32 1517.31 1999.32 1521.8 Q1999.32 1523.93 1998.51 1525.85 Q1997.73 1527.74 1995.62 1530.34 Q1995.04 1531.01 1991.94 1534.23 Q1988.84 1537.42 1983.19 1543.18 Z\" fill=\"#000000\" fill-rule=\"evenodd\" fill-opacity=\"1\" /><path clip-path=\"url(#clip940)\" d=\"M2009.37 1512.56 L2027.73 1512.56 L2027.73 1516.5 L2013.65 1516.5 L2013.65 1524.97 Q2014.67 1524.62 2015.69 1524.46 Q2016.71 1524.27 2017.73 1524.27 Q2023.51 1524.27 2026.89 1527.44 Q2030.27 1530.62 2030.27 1536.03 Q2030.27 1541.61 2026.8 1544.71 Q2023.33 1547.79 2017.01 1547.79 Q2014.83 1547.79 2012.56 1547.42 Q2010.32 1547.05 2007.91 1546.31 L2007.91 1541.61 Q2010 1542.74 2012.22 1543.3 Q2014.44 1543.86 2016.92 1543.86 Q2020.92 1543.86 2023.26 1541.75 Q2025.6 1539.64 2025.6 1536.03 Q2025.6 1532.42 2023.26 1530.31 Q2020.92 1528.21 2016.92 1528.21 Q2015.04 1528.21 2013.17 1528.62 Q2011.31 1529.04 2009.37 1529.92 L2009.37 1512.56 Z\" fill=\"#000000\" fill-rule=\"evenodd\" fill-opacity=\"1\" /><polyline clip-path=\"url(#clip942)\" style=\"stroke:#000000; stroke-linecap:butt; stroke-linejoin:round; stroke-width:2; stroke-opacity:0.1; fill:none\" points=\"\n  213.607,1012.08 2352.76,1012.08 \n  \"/>\n<polyline clip-path=\"url(#clip942)\" style=\"stroke:#000000; stroke-linecap:butt; stroke-linejoin:round; stroke-width:2; stroke-opacity:0.1; fill:none\" points=\"\n  213.607,499.537 2352.76,499.537 \n  \"/>\n<polyline clip-path=\"url(#clip940)\" style=\"stroke:#000000; stroke-linecap:butt; stroke-linejoin:round; stroke-width:4; stroke-opacity:1; fill:none\" points=\"\n  213.607,1486.45 213.607,47.2441 \n  \"/>\n<polyline clip-path=\"url(#clip940)\" style=\"stroke:#000000; stroke-linecap:butt; stroke-linejoin:round; stroke-width:4; stroke-opacity:1; fill:none\" points=\"\n  213.607,1012.08 232.505,1012.08 \n  \"/>\n<polyline clip-path=\"url(#clip940)\" style=\"stroke:#000000; stroke-linecap:butt; stroke-linejoin:round; stroke-width:4; stroke-opacity:1; fill:none\" points=\"\n  213.607,499.537 232.505,499.537 \n  \"/>\n<path clip-path=\"url(#clip940)\" d=\"M51.6634 1031.87 L59.3023 1031.87 L59.3023 1005.5 L50.9921 1007.17 L50.9921 1002.91 L59.256 1001.24 L63.9319 1001.24 L63.9319 1031.87 L71.5707 1031.87 L71.5707 1035.8 L51.6634 1035.8 L51.6634 1031.87 Z\" fill=\"#000000\" fill-rule=\"evenodd\" fill-opacity=\"1\" /><path clip-path=\"url(#clip940)\" d=\"M91.0151 1004.32 Q87.404 1004.32 85.5753 1007.89 Q83.7697 1011.43 83.7697 1018.56 Q83.7697 1025.66 85.5753 1029.23 Q87.404 1032.77 91.0151 1032.77 Q94.6493 1032.77 96.4548 1029.23 Q98.2835 1025.66 98.2835 1018.56 Q98.2835 1011.43 96.4548 1007.89 Q94.6493 1004.32 91.0151 1004.32 M91.0151 1000.62 Q96.8252 1000.62 99.8808 1005.22 Q102.959 1009.81 102.959 1018.56 Q102.959 1027.28 99.8808 1031.89 Q96.8252 1036.47 91.0151 1036.47 Q85.2049 1036.47 82.1262 1031.89 Q79.0707 1027.28 79.0707 1018.56 Q79.0707 1009.81 82.1262 1005.22 Q85.2049 1000.62 91.0151 1000.62 Z\" fill=\"#000000\" fill-rule=\"evenodd\" fill-opacity=\"1\" /><path clip-path=\"url(#clip940)\" d=\"M102.959 994.719 L127.071 994.719 L127.071 997.917 L102.959 997.917 L102.959 994.719 Z\" fill=\"#000000\" fill-rule=\"evenodd\" fill-opacity=\"1\" /><path clip-path=\"url(#clip940)\" d=\"M135.929 1005.2 L142.136 1005.2 L142.136 983.773 L135.384 985.128 L135.384 981.667 L142.098 980.313 L145.898 980.313 L145.898 1005.2 L152.104 1005.2 L152.104 1008.39 L135.929 1008.39 L135.929 1005.2 Z\" fill=\"#000000\" fill-rule=\"evenodd\" fill-opacity=\"1\" /><path clip-path=\"url(#clip940)\" d=\"M167.903 982.814 Q164.969 982.814 163.483 985.711 Q162.016 988.588 162.016 994.381 Q162.016 1000.15 163.483 1003.05 Q164.969 1005.93 167.903 1005.93 Q170.855 1005.93 172.322 1003.05 Q173.808 1000.15 173.808 994.381 Q173.808 988.588 172.322 985.711 Q170.855 982.814 167.903 982.814 M167.903 979.805 Q172.623 979.805 175.106 983.548 Q177.607 987.272 177.607 994.381 Q177.607 1001.47 175.106 1005.21 Q172.623 1008.94 167.903 1008.94 Q163.182 1008.94 160.68 1005.21 Q158.198 1001.47 158.198 994.381 Q158.198 987.272 160.68 983.548 Q163.182 979.805 167.903 979.805 Z\" fill=\"#000000\" fill-rule=\"evenodd\" fill-opacity=\"1\" /><path clip-path=\"url(#clip940)\" d=\"M76.9787 519.329 L84.6175 519.329 L84.6175 492.963 L76.3074 494.63 L76.3074 490.371 L84.5712 488.704 L89.2471 488.704 L89.2471 519.329 L96.886 519.329 L96.886 523.264 L76.9787 523.264 L76.9787 519.329 Z\" fill=\"#000000\" fill-rule=\"evenodd\" fill-opacity=\"1\" /><path clip-path=\"url(#clip940)\" d=\"M116.33 491.783 Q112.719 491.783 110.891 495.348 Q109.085 498.889 109.085 506.019 Q109.085 513.125 110.891 516.69 Q112.719 520.232 116.33 520.232 Q119.965 520.232 121.77 516.69 Q123.599 513.125 123.599 506.019 Q123.599 498.889 121.77 495.348 Q119.965 491.783 116.33 491.783 M116.33 488.079 Q122.14 488.079 125.196 492.686 Q128.275 497.269 128.275 506.019 Q128.275 514.746 125.196 519.352 Q122.14 523.935 116.33 523.935 Q110.52 523.935 107.441 519.352 Q104.386 514.746 104.386 506.019 Q104.386 497.269 107.441 492.686 Q110.52 488.079 116.33 488.079 Z\" fill=\"#000000\" fill-rule=\"evenodd\" fill-opacity=\"1\" /><path clip-path=\"url(#clip940)\" d=\"M128.275 482.181 L152.386 482.181 L152.386 485.378 L128.275 485.378 L128.275 482.181 Z\" fill=\"#000000\" fill-rule=\"evenodd\" fill-opacity=\"1\" /><path clip-path=\"url(#clip940)\" d=\"M160.624 467.774 L175.539 467.774 L175.539 470.971 L164.103 470.971 L164.103 477.855 Q164.931 477.573 165.759 477.441 Q166.586 477.29 167.414 477.29 Q172.116 477.29 174.862 479.867 Q177.607 482.444 177.607 486.845 Q177.607 491.378 174.786 493.898 Q171.965 496.399 166.831 496.399 Q165.063 496.399 163.22 496.098 Q161.395 495.797 159.439 495.195 L159.439 491.378 Q161.132 492.299 162.937 492.75 Q164.743 493.202 166.755 493.202 Q170.009 493.202 171.909 491.49 Q173.808 489.779 173.808 486.845 Q173.808 483.911 171.909 482.199 Q170.009 480.488 166.755 480.488 Q165.232 480.488 163.709 480.826 Q162.204 481.165 160.624 481.88 L160.624 467.774 Z\" fill=\"#000000\" fill-rule=\"evenodd\" fill-opacity=\"1\" /><polyline clip-path=\"url(#clip942)\" style=\"stroke:#009af9; stroke-linecap:butt; stroke-linejoin:round; stroke-width:4; stroke-opacity:1; fill:none\" points=\"\n  274.149,87.9763 346.223,138.061 418.297,185.717 490.371,235.765 562.444,284.025 634.518,333.266 706.592,382.014 778.666,430.997 850.739,479.872 922.813,528.796 \n  994.887,577.698 1066.96,626.609 1139.03,675.517 1211.11,724.426 1283.18,773.334 1355.26,822.243 1427.33,871.152 1499.4,920.06 1571.48,968.969 1643.55,1017.88 \n  1715.62,1066.78 1787.7,1115.7 1859.77,1164.58 1931.85,1213.57 2003.92,1262.25 2075.99,1311.85 2148.07,1358.73 2220.14,1414.03 2292.21,1445.72 \n  \"/>\n<path clip-path=\"url(#clip940)\" d=\"\nM1991.34 198.898 L2281.45 198.898 L2281.45 95.2176 L1991.34 95.2176  Z\n  \" fill=\"#ffffff\" fill-rule=\"evenodd\" fill-opacity=\"1\"/>\n<polyline clip-path=\"url(#clip940)\" style=\"stroke:#000000; stroke-linecap:butt; stroke-linejoin:round; stroke-width:4; stroke-opacity:1; fill:none\" points=\"\n  1991.34,198.898 2281.45,198.898 2281.45,95.2176 1991.34,95.2176 1991.34,198.898 \n  \"/>\n<polyline clip-path=\"url(#clip940)\" style=\"stroke:#009af9; stroke-linecap:butt; stroke-linejoin:round; stroke-width:4; stroke-opacity:1; fill:none\" points=\"\n  2015.11,147.058 2157.72,147.058 \n  \"/>\n<path clip-path=\"url(#clip940)\" d=\"M2195.33 166.745 Q2193.52 171.375 2191.81 172.787 Q2190.1 174.199 2187.22 174.199 L2183.82 174.199 L2183.82 170.634 L2186.32 170.634 Q2188.08 170.634 2189.05 169.8 Q2190.03 168.967 2191.21 165.865 L2191.97 163.921 L2181.48 138.412 L2186 138.412 L2194.1 158.689 L2202.2 138.412 L2206.72 138.412 L2195.33 166.745 Z\" fill=\"#000000\" fill-rule=\"evenodd\" fill-opacity=\"1\" /><path clip-path=\"url(#clip940)\" d=\"M2214.01 160.402 L2221.65 160.402 L2221.65 134.037 L2213.34 135.703 L2213.34 131.444 L2221.6 129.778 L2226.28 129.778 L2226.28 160.402 L2233.91 160.402 L2233.91 164.338 L2214.01 164.338 L2214.01 160.402 Z\" fill=\"#000000\" fill-rule=\"evenodd\" fill-opacity=\"1\" /></svg>\n"
     },
     "execution_count": 5,
     "metadata": {},
     "output_type": "execute_result"
    }
   ],
   "source": [
    "γinv = γ[end]\n",
    "err = abs.(γinv .- γ);\n",
    "plot(1:iter-1, err[1:end-1], yaxis=:log)"
   ]
  },
  {
   "cell_type": "code",
   "execution_count": 6,
   "metadata": {},
   "outputs": [
    {
     "data": {
      "text/plain": [
       "true"
      ]
     },
     "execution_count": 6,
     "metadata": {},
     "output_type": "execute_result"
    }
   ],
   "source": [
    "# This algorithm finds the eigenvalue of A that is closest to s\n",
    "γ[end] ≈ λ[3]"
   ]
  },
  {
   "cell_type": "code",
   "execution_count": 12,
   "metadata": {},
   "outputs": [
    {
     "data": {
      "text/plain": [
       "0.32823025107164727"
      ]
     },
     "execution_count": 12,
     "metadata": {},
     "output_type": "execute_result"
    }
   ],
   "source": [
    "Observed_rate = err[26] / err[25]"
   ]
  },
  {
   "cell_type": "code",
   "execution_count": 17,
   "metadata": {},
   "outputs": [
    {
     "data": {
      "text/plain": [
       "-0.3333333333333332"
      ]
     },
     "execution_count": 17,
     "metadata": {},
     "output_type": "execute_result"
    }
   ],
   "source": [
    "# λ[3] is the closest eigenvalue to s and λ[1] is the next closest\n",
    "theoretical_rate = (λ[3] - s) / (λ[1] - s)"
   ]
  }
 ],
 "metadata": {
  "kernelspec": {
   "display_name": "Julia 1.6.2",
   "language": "julia",
   "name": "julia-1.6"
  },
  "language_info": {
   "file_extension": ".jl",
   "mimetype": "application/julia",
   "name": "julia",
   "version": "1.6.2"
  },
  "orig_nbformat": 4,
  "vscode": {
   "interpreter": {
    "hash": "916dbcbb3f70747c44a77c7bcd40155683ae19c65e1c03b4aa3499c5328201f1"
   }
  }
 },
 "nbformat": 4,
 "nbformat_minor": 2
}
