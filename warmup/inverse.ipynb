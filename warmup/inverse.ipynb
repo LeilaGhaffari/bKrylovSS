{
 "cells": [
  {
   "cell_type": "code",
   "execution_count": 3,
   "metadata": {},
   "outputs": [],
   "source": [
    "using LinearAlgebra\n",
    "using Arpack\n",
    "using Plots"
   ]
  },
  {
   "cell_type": "code",
   "execution_count": 35,
   "metadata": {},
   "outputs": [
    {
     "data": {
      "text/plain": [
       "inviter (generic function with 1 method)"
      ]
     },
     "execution_count": 35,
     "metadata": {},
     "output_type": "execute_result"
    }
   ],
   "source": [
    "function inviter(A, s, numiter)\n",
    "    n = size(A, 1)\n",
    "    x = normalize(rand(n), Inf)\n",
    "    B = A - s * I\n",
    "    Bfact = lu(B)\n",
    "    γ = zeros(numiter)\n",
    "    for k in 1:numiter\n",
    "        y = Bfact.U \\ (Bfact.L \\ x)\n",
    "        m = argmax(abs.(y))\n",
    "        γ[k] = x[m] / y[m] + s\n",
    "        x = y / y[m]\n",
    "    end\n",
    "    return γ, x\n",
    "end"
   ]
  },
  {
   "cell_type": "code",
   "execution_count": 40,
   "metadata": {},
   "outputs": [],
   "source": [
    "λ = [1, -.75, .6, -.4, 0]\n",
    "A = UpperTriangular(ones(5,5)) + diagm(λ .- 1);"
   ]
  },
  {
   "cell_type": "code",
   "execution_count": 41,
   "metadata": {},
   "outputs": [],
   "source": [
    "s = .7\n",
    "iter = 30\n",
    "γ, v = inviter(A, s, iter);"
   ]
  },
  {
   "cell_type": "code",
   "execution_count": 48,
   "metadata": {},
   "outputs": [
    {
     "data": {
      "image/svg+xml": "<?xml version=\"1.0\" encoding=\"utf-8\"?>\n<svg xmlns=\"http://www.w3.org/2000/svg\" xmlns:xlink=\"http://www.w3.org/1999/xlink\" width=\"600\" height=\"400\" viewBox=\"0 0 2400 1600\">\n<defs>\n  <clipPath id=\"clip740\">\n    <rect x=\"0\" y=\"0\" width=\"2400\" height=\"1600\"/>\n  </clipPath>\n</defs>\n<path clip-path=\"url(#clip740)\" d=\"\nM0 1600 L2400 1600 L2400 0 L0 0  Z\n  \" fill=\"#ffffff\" fill-rule=\"evenodd\" fill-opacity=\"1\"/>\n<defs>\n  <clipPath id=\"clip741\">\n    <rect x=\"480\" y=\"0\" width=\"1681\" height=\"1600\"/>\n  </clipPath>\n</defs>\n<path clip-path=\"url(#clip740)\" d=\"\nM213.607 1486.45 L2352.76 1486.45 L2352.76 47.2441 L213.607 47.2441  Z\n  \" fill=\"#ffffff\" fill-rule=\"evenodd\" fill-opacity=\"1\"/>\n<defs>\n  <clipPath id=\"clip742\">\n    <rect x=\"213\" y=\"47\" width=\"2140\" height=\"1440\"/>\n  </clipPath>\n</defs>\n<polyline clip-path=\"url(#clip742)\" style=\"stroke:#000000; stroke-linecap:butt; stroke-linejoin:round; stroke-width:2; stroke-opacity:0.1; fill:none\" points=\"\n  562.444,1486.45 562.444,47.2441 \n  \"/>\n<polyline clip-path=\"url(#clip742)\" style=\"stroke:#000000; stroke-linecap:butt; stroke-linejoin:round; stroke-width:2; stroke-opacity:0.1; fill:none\" points=\"\n  922.813,1486.45 922.813,47.2441 \n  \"/>\n<polyline clip-path=\"url(#clip742)\" style=\"stroke:#000000; stroke-linecap:butt; stroke-linejoin:round; stroke-width:2; stroke-opacity:0.1; fill:none\" points=\"\n  1283.18,1486.45 1283.18,47.2441 \n  \"/>\n<polyline clip-path=\"url(#clip742)\" style=\"stroke:#000000; stroke-linecap:butt; stroke-linejoin:round; stroke-width:2; stroke-opacity:0.1; fill:none\" points=\"\n  1643.55,1486.45 1643.55,47.2441 \n  \"/>\n<polyline clip-path=\"url(#clip742)\" style=\"stroke:#000000; stroke-linecap:butt; stroke-linejoin:round; stroke-width:2; stroke-opacity:0.1; fill:none\" points=\"\n  2003.92,1486.45 2003.92,47.2441 \n  \"/>\n<polyline clip-path=\"url(#clip740)\" style=\"stroke:#000000; stroke-linecap:butt; stroke-linejoin:round; stroke-width:4; stroke-opacity:1; fill:none\" points=\"\n  213.607,1486.45 2352.76,1486.45 \n  \"/>\n<polyline clip-path=\"url(#clip740)\" style=\"stroke:#000000; stroke-linecap:butt; stroke-linejoin:round; stroke-width:4; stroke-opacity:1; fill:none\" points=\"\n  562.444,1486.45 562.444,1467.55 \n  \"/>\n<polyline clip-path=\"url(#clip740)\" style=\"stroke:#000000; stroke-linecap:butt; stroke-linejoin:round; stroke-width:4; stroke-opacity:1; fill:none\" points=\"\n  922.813,1486.45 922.813,1467.55 \n  \"/>\n<polyline clip-path=\"url(#clip740)\" style=\"stroke:#000000; stroke-linecap:butt; stroke-linejoin:round; stroke-width:4; stroke-opacity:1; fill:none\" points=\"\n  1283.18,1486.45 1283.18,1467.55 \n  \"/>\n<polyline clip-path=\"url(#clip740)\" style=\"stroke:#000000; stroke-linecap:butt; stroke-linejoin:round; stroke-width:4; stroke-opacity:1; fill:none\" points=\"\n  1643.55,1486.45 1643.55,1467.55 \n  \"/>\n<polyline clip-path=\"url(#clip740)\" style=\"stroke:#000000; stroke-linecap:butt; stroke-linejoin:round; stroke-width:4; stroke-opacity:1; fill:none\" points=\"\n  2003.92,1486.45 2003.92,1467.55 \n  \"/>\n<path clip-path=\"url(#clip740)\" d=\"M552.722 1512.56 L571.079 1512.56 L571.079 1516.5 L557.005 1516.5 L557.005 1524.97 Q558.023 1524.62 559.042 1524.46 Q560.06 1524.27 561.079 1524.27 Q566.866 1524.27 570.245 1527.44 Q573.625 1530.62 573.625 1536.03 Q573.625 1541.61 570.153 1544.71 Q566.68 1547.79 560.361 1547.79 Q558.185 1547.79 555.917 1547.42 Q553.671 1547.05 551.264 1546.31 L551.264 1541.61 Q553.347 1542.74 555.569 1543.3 Q557.792 1543.86 560.268 1543.86 Q564.273 1543.86 566.611 1541.75 Q568.949 1539.64 568.949 1536.03 Q568.949 1532.42 566.611 1530.31 Q564.273 1528.21 560.268 1528.21 Q558.393 1528.21 556.518 1528.62 Q554.667 1529.04 552.722 1529.92 L552.722 1512.56 Z\" fill=\"#000000\" fill-rule=\"evenodd\" fill-opacity=\"1\" /><path clip-path=\"url(#clip740)\" d=\"M897.501 1543.18 L905.14 1543.18 L905.14 1516.82 L896.829 1518.49 L896.829 1514.23 L905.093 1512.56 L909.769 1512.56 L909.769 1543.18 L917.408 1543.18 L917.408 1547.12 L897.501 1547.12 L897.501 1543.18 Z\" fill=\"#000000\" fill-rule=\"evenodd\" fill-opacity=\"1\" /><path clip-path=\"url(#clip740)\" d=\"M936.852 1515.64 Q933.241 1515.64 931.413 1519.2 Q929.607 1522.75 929.607 1529.87 Q929.607 1536.98 931.413 1540.55 Q933.241 1544.09 936.852 1544.09 Q940.487 1544.09 942.292 1540.55 Q944.121 1536.98 944.121 1529.87 Q944.121 1522.75 942.292 1519.2 Q940.487 1515.64 936.852 1515.64 M936.852 1511.93 Q942.662 1511.93 945.718 1516.54 Q948.797 1521.12 948.797 1529.87 Q948.797 1538.6 945.718 1543.21 Q942.662 1547.79 936.852 1547.79 Q931.042 1547.79 927.963 1543.21 Q924.908 1538.6 924.908 1529.87 Q924.908 1521.12 927.963 1516.54 Q931.042 1511.93 936.852 1511.93 Z\" fill=\"#000000\" fill-rule=\"evenodd\" fill-opacity=\"1\" /><path clip-path=\"url(#clip740)\" d=\"M1258.37 1543.18 L1266.01 1543.18 L1266.01 1516.82 L1257.7 1518.49 L1257.7 1514.23 L1265.96 1512.56 L1270.64 1512.56 L1270.64 1543.18 L1278.27 1543.18 L1278.27 1547.12 L1258.37 1547.12 L1258.37 1543.18 Z\" fill=\"#000000\" fill-rule=\"evenodd\" fill-opacity=\"1\" /><path clip-path=\"url(#clip740)\" d=\"M1287.77 1512.56 L1306.12 1512.56 L1306.12 1516.5 L1292.05 1516.5 L1292.05 1524.97 Q1293.07 1524.62 1294.08 1524.46 Q1295.1 1524.27 1296.12 1524.27 Q1301.91 1524.27 1305.29 1527.44 Q1308.67 1530.62 1308.67 1536.03 Q1308.67 1541.61 1305.2 1544.71 Q1301.72 1547.79 1295.4 1547.79 Q1293.23 1547.79 1290.96 1547.42 Q1288.71 1547.05 1286.31 1546.31 L1286.31 1541.61 Q1288.39 1542.74 1290.61 1543.3 Q1292.83 1543.86 1295.31 1543.86 Q1299.32 1543.86 1301.65 1541.75 Q1303.99 1539.64 1303.99 1536.03 Q1303.99 1532.42 1301.65 1530.31 Q1299.32 1528.21 1295.31 1528.21 Q1293.44 1528.21 1291.56 1528.62 Q1289.71 1529.04 1287.77 1529.92 L1287.77 1512.56 Z\" fill=\"#000000\" fill-rule=\"evenodd\" fill-opacity=\"1\" /><path clip-path=\"url(#clip740)\" d=\"M1622.32 1543.18 L1638.64 1543.18 L1638.64 1547.12 L1616.7 1547.12 L1616.7 1543.18 Q1619.36 1540.43 1623.94 1535.8 Q1628.55 1531.15 1629.73 1529.81 Q1631.98 1527.28 1632.86 1525.55 Q1633.76 1523.79 1633.76 1522.1 Q1633.76 1519.34 1631.81 1517.61 Q1629.89 1515.87 1626.79 1515.87 Q1624.59 1515.87 1622.14 1516.63 Q1619.71 1517.4 1616.93 1518.95 L1616.93 1514.23 Q1619.75 1513.09 1622.21 1512.51 Q1624.66 1511.93 1626.7 1511.93 Q1632.07 1511.93 1635.26 1514.62 Q1638.46 1517.31 1638.46 1521.8 Q1638.46 1523.93 1637.65 1525.85 Q1636.86 1527.74 1634.75 1530.34 Q1634.18 1531.01 1631.07 1534.23 Q1627.97 1537.42 1622.32 1543.18 Z\" fill=\"#000000\" fill-rule=\"evenodd\" fill-opacity=\"1\" /><path clip-path=\"url(#clip740)\" d=\"M1658.46 1515.64 Q1654.85 1515.64 1653.02 1519.2 Q1651.21 1522.75 1651.21 1529.87 Q1651.21 1536.98 1653.02 1540.55 Q1654.85 1544.09 1658.46 1544.09 Q1662.09 1544.09 1663.9 1540.55 Q1665.73 1536.98 1665.73 1529.87 Q1665.73 1522.75 1663.9 1519.2 Q1662.09 1515.64 1658.46 1515.64 M1658.46 1511.93 Q1664.27 1511.93 1667.32 1516.54 Q1670.4 1521.12 1670.4 1529.87 Q1670.4 1538.6 1667.32 1543.21 Q1664.27 1547.79 1658.46 1547.79 Q1652.65 1547.79 1649.57 1543.21 Q1646.51 1538.6 1646.51 1529.87 Q1646.51 1521.12 1649.57 1516.54 Q1652.65 1511.93 1658.46 1511.93 Z\" fill=\"#000000\" fill-rule=\"evenodd\" fill-opacity=\"1\" /><path clip-path=\"url(#clip740)\" d=\"M1983.19 1543.18 L1999.51 1543.18 L1999.51 1547.12 L1977.57 1547.12 L1977.57 1543.18 Q1980.23 1540.43 1984.81 1535.8 Q1989.42 1531.15 1990.6 1529.81 Q1992.84 1527.28 1993.72 1525.55 Q1994.63 1523.79 1994.63 1522.1 Q1994.63 1519.34 1992.68 1517.61 Q1990.76 1515.87 1987.66 1515.87 Q1985.46 1515.87 1983 1516.63 Q1980.57 1517.4 1977.8 1518.95 L1977.8 1514.23 Q1980.62 1513.09 1983.07 1512.51 Q1985.53 1511.93 1987.56 1511.93 Q1992.94 1511.93 1996.13 1514.62 Q1999.32 1517.31 1999.32 1521.8 Q1999.32 1523.93 1998.51 1525.85 Q1997.73 1527.74 1995.62 1530.34 Q1995.04 1531.01 1991.94 1534.23 Q1988.84 1537.42 1983.19 1543.18 Z\" fill=\"#000000\" fill-rule=\"evenodd\" fill-opacity=\"1\" /><path clip-path=\"url(#clip740)\" d=\"M2009.37 1512.56 L2027.73 1512.56 L2027.73 1516.5 L2013.65 1516.5 L2013.65 1524.97 Q2014.67 1524.62 2015.69 1524.46 Q2016.71 1524.27 2017.73 1524.27 Q2023.51 1524.27 2026.89 1527.44 Q2030.27 1530.62 2030.27 1536.03 Q2030.27 1541.61 2026.8 1544.71 Q2023.33 1547.79 2017.01 1547.79 Q2014.83 1547.79 2012.56 1547.42 Q2010.32 1547.05 2007.91 1546.31 L2007.91 1541.61 Q2010 1542.74 2012.22 1543.3 Q2014.44 1543.86 2016.92 1543.86 Q2020.92 1543.86 2023.26 1541.75 Q2025.6 1539.64 2025.6 1536.03 Q2025.6 1532.42 2023.26 1530.31 Q2020.92 1528.21 2016.92 1528.21 Q2015.04 1528.21 2013.17 1528.62 Q2011.31 1529.04 2009.37 1529.92 L2009.37 1512.56 Z\" fill=\"#000000\" fill-rule=\"evenodd\" fill-opacity=\"1\" /><polyline clip-path=\"url(#clip742)\" style=\"stroke:#000000; stroke-linecap:butt; stroke-linejoin:round; stroke-width:2; stroke-opacity:0.1; fill:none\" points=\"\n  213.607,1012.38 2352.76,1012.38 \n  \"/>\n<polyline clip-path=\"url(#clip742)\" style=\"stroke:#000000; stroke-linecap:butt; stroke-linejoin:round; stroke-width:2; stroke-opacity:0.1; fill:none\" points=\"\n  213.607,499.223 2352.76,499.223 \n  \"/>\n<polyline clip-path=\"url(#clip740)\" style=\"stroke:#000000; stroke-linecap:butt; stroke-linejoin:round; stroke-width:4; stroke-opacity:1; fill:none\" points=\"\n  213.607,1486.45 213.607,47.2441 \n  \"/>\n<polyline clip-path=\"url(#clip740)\" style=\"stroke:#000000; stroke-linecap:butt; stroke-linejoin:round; stroke-width:4; stroke-opacity:1; fill:none\" points=\"\n  213.607,1012.38 232.505,1012.38 \n  \"/>\n<polyline clip-path=\"url(#clip740)\" style=\"stroke:#000000; stroke-linecap:butt; stroke-linejoin:round; stroke-width:4; stroke-opacity:1; fill:none\" points=\"\n  213.607,499.223 232.505,499.223 \n  \"/>\n<path clip-path=\"url(#clip740)\" d=\"M51.6634 1032.18 L59.3023 1032.18 L59.3023 1005.81 L50.9921 1007.48 L50.9921 1003.22 L59.256 1001.55 L63.9319 1001.55 L63.9319 1032.18 L71.5707 1032.18 L71.5707 1036.11 L51.6634 1036.11 L51.6634 1032.18 Z\" fill=\"#000000\" fill-rule=\"evenodd\" fill-opacity=\"1\" /><path clip-path=\"url(#clip740)\" d=\"M91.0151 1004.63 Q87.404 1004.63 85.5753 1008.19 Q83.7697 1011.74 83.7697 1018.87 Q83.7697 1025.97 85.5753 1029.54 Q87.404 1033.08 91.0151 1033.08 Q94.6493 1033.08 96.4548 1029.54 Q98.2835 1025.97 98.2835 1018.87 Q98.2835 1011.74 96.4548 1008.19 Q94.6493 1004.63 91.0151 1004.63 M91.0151 1000.93 Q96.8252 1000.93 99.8808 1005.53 Q102.959 1010.12 102.959 1018.87 Q102.959 1027.59 99.8808 1032.2 Q96.8252 1036.78 91.0151 1036.78 Q85.2049 1036.78 82.1262 1032.2 Q79.0707 1027.59 79.0707 1018.87 Q79.0707 1010.12 82.1262 1005.53 Q85.2049 1000.93 91.0151 1000.93 Z\" fill=\"#000000\" fill-rule=\"evenodd\" fill-opacity=\"1\" /><path clip-path=\"url(#clip740)\" d=\"M102.959 995.027 L127.071 995.027 L127.071 998.224 L102.959 998.224 L102.959 995.027 Z\" fill=\"#000000\" fill-rule=\"evenodd\" fill-opacity=\"1\" /><path clip-path=\"url(#clip740)\" d=\"M135.929 1005.5 L142.136 1005.5 L142.136 984.081 L135.384 985.435 L135.384 981.974 L142.098 980.62 L145.898 980.62 L145.898 1005.5 L152.104 1005.5 L152.104 1008.7 L135.929 1008.7 L135.929 1005.5 Z\" fill=\"#000000\" fill-rule=\"evenodd\" fill-opacity=\"1\" /><path clip-path=\"url(#clip740)\" d=\"M167.903 983.122 Q164.969 983.122 163.483 986.018 Q162.016 988.896 162.016 994.689 Q162.016 1000.46 163.483 1003.36 Q164.969 1006.24 167.903 1006.24 Q170.855 1006.24 172.322 1003.36 Q173.808 1000.46 173.808 994.689 Q173.808 988.896 172.322 986.018 Q170.855 983.122 167.903 983.122 M167.903 980.113 Q172.623 980.113 175.106 983.855 Q177.607 987.579 177.607 994.689 Q177.607 1001.78 175.106 1005.52 Q172.623 1009.25 167.903 1009.25 Q163.182 1009.25 160.68 1005.52 Q158.198 1001.78 158.198 994.689 Q158.198 987.579 160.68 983.855 Q163.182 980.113 167.903 980.113 Z\" fill=\"#000000\" fill-rule=\"evenodd\" fill-opacity=\"1\" /><path clip-path=\"url(#clip740)\" d=\"M76.9787 519.015 L84.6175 519.015 L84.6175 492.65 L76.3074 494.316 L76.3074 490.057 L84.5712 488.391 L89.2471 488.391 L89.2471 519.015 L96.886 519.015 L96.886 522.951 L76.9787 522.951 L76.9787 519.015 Z\" fill=\"#000000\" fill-rule=\"evenodd\" fill-opacity=\"1\" /><path clip-path=\"url(#clip740)\" d=\"M116.33 491.469 Q112.719 491.469 110.891 495.034 Q109.085 498.576 109.085 505.705 Q109.085 512.812 110.891 516.377 Q112.719 519.918 116.33 519.918 Q119.965 519.918 121.77 516.377 Q123.599 512.812 123.599 505.705 Q123.599 498.576 121.77 495.034 Q119.965 491.469 116.33 491.469 M116.33 487.766 Q122.14 487.766 125.196 492.372 Q128.275 496.955 128.275 505.705 Q128.275 514.432 125.196 519.039 Q122.14 523.622 116.33 523.622 Q110.52 523.622 107.441 519.039 Q104.386 514.432 104.386 505.705 Q104.386 496.955 107.441 492.372 Q110.52 487.766 116.33 487.766 Z\" fill=\"#000000\" fill-rule=\"evenodd\" fill-opacity=\"1\" /><path clip-path=\"url(#clip740)\" d=\"M128.275 481.867 L152.386 481.867 L152.386 485.064 L128.275 485.064 L128.275 481.867 Z\" fill=\"#000000\" fill-rule=\"evenodd\" fill-opacity=\"1\" /><path clip-path=\"url(#clip740)\" d=\"M160.624 467.46 L175.539 467.46 L175.539 470.657 L164.103 470.657 L164.103 477.541 Q164.931 477.259 165.759 477.127 Q166.586 476.977 167.414 476.977 Q172.116 476.977 174.862 479.554 Q177.607 482.13 177.607 486.531 Q177.607 491.064 174.786 493.584 Q171.965 496.086 166.831 496.086 Q165.063 496.086 163.22 495.785 Q161.395 495.484 159.439 494.882 L159.439 491.064 Q161.132 491.985 162.937 492.437 Q164.743 492.888 166.755 492.888 Q170.009 492.888 171.909 491.177 Q173.808 489.465 173.808 486.531 Q173.808 483.597 171.909 481.886 Q170.009 480.174 166.755 480.174 Q165.232 480.174 163.709 480.513 Q162.204 480.851 160.624 481.566 L160.624 467.46 Z\" fill=\"#000000\" fill-rule=\"evenodd\" fill-opacity=\"1\" /><polyline clip-path=\"url(#clip742)\" style=\"stroke:#009af9; stroke-linecap:butt; stroke-linejoin:round; stroke-width:4; stroke-opacity:1; fill:none\" points=\"\n  274.149,87.9763 346.223,135.459 418.297,184.491 490.371,234.033 562.444,282.602 634.518,331.796 706.592,380.649 778.666,429.672 850.739,478.614 922.813,527.594 \n  994.887,576.556 1066.96,625.527 1139.03,674.494 1211.11,723.462 1283.18,772.43 1355.26,821.398 1427.33,870.366 1499.4,919.334 1571.48,968.301 1643.55,1017.27 \n  1715.62,1066.24 1787.7,1115.21 1859.77,1164.15 1931.85,1213.2 2003.92,1261.93 2075.99,1311.61 2148.07,1358.51 2220.14,1414 2292.21,1445.72 \n  \"/>\n<path clip-path=\"url(#clip740)\" d=\"\nM1991.34 198.898 L2281.45 198.898 L2281.45 95.2176 L1991.34 95.2176  Z\n  \" fill=\"#ffffff\" fill-rule=\"evenodd\" fill-opacity=\"1\"/>\n<polyline clip-path=\"url(#clip740)\" style=\"stroke:#000000; stroke-linecap:butt; stroke-linejoin:round; stroke-width:4; stroke-opacity:1; fill:none\" points=\"\n  1991.34,198.898 2281.45,198.898 2281.45,95.2176 1991.34,95.2176 1991.34,198.898 \n  \"/>\n<polyline clip-path=\"url(#clip740)\" style=\"stroke:#009af9; stroke-linecap:butt; stroke-linejoin:round; stroke-width:4; stroke-opacity:1; fill:none\" points=\"\n  2015.11,147.058 2157.72,147.058 \n  \"/>\n<path clip-path=\"url(#clip740)\" d=\"M2195.33 166.745 Q2193.52 171.375 2191.81 172.787 Q2190.1 174.199 2187.22 174.199 L2183.82 174.199 L2183.82 170.634 L2186.32 170.634 Q2188.08 170.634 2189.05 169.8 Q2190.03 168.967 2191.21 165.865 L2191.97 163.921 L2181.48 138.412 L2186 138.412 L2194.1 158.689 L2202.2 138.412 L2206.72 138.412 L2195.33 166.745 Z\" fill=\"#000000\" fill-rule=\"evenodd\" fill-opacity=\"1\" /><path clip-path=\"url(#clip740)\" d=\"M2214.01 160.402 L2221.65 160.402 L2221.65 134.037 L2213.34 135.703 L2213.34 131.444 L2221.6 129.778 L2226.28 129.778 L2226.28 160.402 L2233.91 160.402 L2233.91 164.338 L2214.01 164.338 L2214.01 160.402 Z\" fill=\"#000000\" fill-rule=\"evenodd\" fill-opacity=\"1\" /></svg>\n"
     },
     "execution_count": 48,
     "metadata": {},
     "output_type": "execute_result"
    }
   ],
   "source": [
    "γinv = γ[end]\n",
    "err = abs.(γinv .- γ);\n",
    "plot(1:iter-1, err[1:end-1], yaxis=:log)"
   ]
  },
  {
   "cell_type": "code",
   "execution_count": 73,
   "metadata": {},
   "outputs": [
    {
     "data": {
      "text/plain": [
       "true"
      ]
     },
     "execution_count": 73,
     "metadata": {},
     "output_type": "execute_result"
    }
   ],
   "source": [
    "# This algorithm finds the eigenvalue of A that is closest to s\n",
    "γ[end] ≈ λ[3]"
   ]
  },
  {
   "cell_type": "code",
   "execution_count": null,
   "metadata": {},
   "outputs": [],
   "source": []
  }
 ],
 "metadata": {
  "kernelspec": {
   "display_name": "Julia 1.6.2",
   "language": "julia",
   "name": "julia-1.6"
  },
  "language_info": {
   "file_extension": ".jl",
   "mimetype": "application/julia",
   "name": "julia",
   "version": "1.6.2"
  },
  "orig_nbformat": 4,
  "vscode": {
   "interpreter": {
    "hash": "916dbcbb3f70747c44a77c7bcd40155683ae19c65e1c03b4aa3499c5328201f1"
   }
  }
 },
 "nbformat": 4,
 "nbformat_minor": 2
}
