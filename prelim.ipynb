{
 "cells": [
  {
   "cell_type": "markdown",
   "metadata": {},
   "source": [
    "# Preliminaries\n",
    "1. Krylov subspace methods\n",
    "1. Techniques for solving Shifted Linear Systems\n",
    "1. Subspace recycling techniques"
   ]
  },
  {
   "cell_type": "markdown",
   "metadata": {},
   "source": [
    "## 1. Krylov subspace methods\n",
    "\n",
    "### Krylov subspace for unshifted system\n",
    "\n",
    "$\\boldsymbol{Ax} = \\boldsymbol b \\xrightarrow[\\texttt{ON basis}]{\\texttt{Arnoldi}} \\mathcal{K}_j(\\boldsymbol A , \\boldsymbol u) = \\texttt{span} \\{ \\boldsymbol u, \\boldsymbol{Au}, ..., \\boldsymbol A^{j-1} \\boldsymbol u \\}$ \n",
    "\n",
    "<small>ON = Orthonormal</small>"
   ]
  },
  {
   "cell_type": "markdown",
   "metadata": {},
   "source": [
    "### Arnoldi relation:\n",
    "$\\boldsymbol{A} \\boldsymbol{V}_j = \\boldsymbol{V}_{j+1} \\boldsymbol{\\overline{H}}_j$\n",
    "\n",
    "where\n",
    "\n",
    "$\\boldsymbol{\\overline{H}}_j \\in \\mathbb C^{(j+1) \\times j}$ (upper Hessenberg matrix)\n",
    "\n",
    "$\\boldsymbol{\\overline{V}}_j \\in \\mathbb C^{n \\times j}$ (matrix with orthonormal columns)\n",
    "\n",
    "$\\boldsymbol x_0 := $  initial approximation to the solution (maybe random)\n",
    "\n",
    "$\\boldsymbol r_0 = b - \\boldsymbol A \\boldsymbol x_0 := $  initial residual\n",
    "\n",
    "$\\boldsymbol x_j = \\boldsymbol x_0 + \\boldsymbol t_j$ @ iteration $j$, where $\\boldsymbol t_j \\in  \\mathcal{K}_j (\\boldsymbol A, \\boldsymbol r_0)$:\n",
    "\n",
    "$\\boldsymbol t_j :=$ *correction*\n",
    "\n",
    "$\\mathcal{K}_j (\\boldsymbol A, \\boldsymbol r_0) := $ *search space*\n"
   ]
  },
  {
   "cell_type": "markdown",
   "metadata": {},
   "source": [
    "### GMRES:\n",
    "\n",
    "$\\boldsymbol b - \\boldsymbol A (\\boldsymbol x_0 + \\boldsymbol t_j) \\bot  \\boldsymbol A \\mathcal{K}_j (\\boldsymbol A, \\boldsymbol r_0)$\n",
    "\n",
    "$\\boldsymbol t_j = \\underset{\\boldsymbol t \\in \\mathcal{K}_j (\\boldsymbol A, \\boldsymbol r_0)}{\\texttt{argmin}}  \\lVert \\boldsymbol b - \\boldsymbol A (\\boldsymbol x_0 + \\boldsymbol t) \\rVert \\rightarrow$ this is equivalent to solving a $(j+1) \\times j$ minimization problem: \n",
    "\n",
    "$\\boldsymbol y_j = \\underset{\\boldsymbol y \\in \\mathbb C^j}{\\texttt{argmin}}  \\left\\lVert \\overline{H}_j \\boldsymbol y - \\left\\lVert \\boldsymbol r_0 \\right\\rVert  \\mathbf e_1^{(j+1)} \\right\\rVert$ $\\rightarrow$ $\\boldsymbol x_j = \\boldsymbol x_0 + \\boldsymbol V_j \\boldsymbol y_j$\n",
    "\n",
    "where $\\mathbf e_J^{(i)} :=$ the $J$ th Cartisian basis vector in $\\mathbb C^i$\n",
    "\n",
    "GMRES(m) = `restarted GMRES` : run an $m$ -step cycle of the GMRES method and compute and approximation $\\boldsymbol x_m$\n"
   ]
  },
  {
   "cell_type": "markdown",
   "metadata": {},
   "source": [
    "### Full Orthogonalization Method (FOM)\n",
    "\n",
    "$\\boldsymbol b - \\boldsymbol A (\\boldsymbol x_0 + \\boldsymbol t_j) \\bot  \\boldsymbol A \\mathcal{K}_j (\\boldsymbol A, \\boldsymbol r_0)$\n",
    "\n",
    "which is equivalent to solving a $j \\times j$ linear system $\\boldsymbol H_j \\mathbf y_j = \\beta \\mathbf e_1^{(j)}$"
   ]
  },
  {
   "cell_type": "markdown",
   "metadata": {},
   "source": []
  }
 ],
 "metadata": {
  "kernelspec": {
   "display_name": "Julia 1.6.2",
   "language": "julia",
   "name": "julia-1.6"
  },
  "language_info": {
   "file_extension": ".jl",
   "mimetype": "application/julia",
   "name": "julia",
   "version": "1.6.2"
  },
  "orig_nbformat": 4,
  "vscode": {
   "interpreter": {
    "hash": "916dbcbb3f70747c44a77c7bcd40155683ae19c65e1c03b4aa3499c5328201f1"
   }
  }
 },
 "nbformat": 4,
 "nbformat_minor": 2
}
