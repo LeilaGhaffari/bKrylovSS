{
 "cells": [
  {
   "cell_type": "markdown",
   "metadata": {},
   "source": [
    "# Preliminaries\n",
    "1. Krylov subspace methods\n",
    "1. Techniques for solving Shifted Linear Systems\n",
    "1. Subspace recycling techniques"
   ]
  },
  {
   "cell_type": "markdown",
   "metadata": {},
   "source": [
    "## Krylov subspace methods\n",
    "\n",
    "### Krylov subspace for unshifted system\n",
    "\n",
    "$\\mathbf{Ax} = \\mathbf b \\xrightarrow[\\texttt{ON basis}]{\\texttt{Arnoldi}} \\mathcal{K}_j(\\mathbf A , \\mathbf u) = \\texttt{span} \\{ \\mathbf u, \\mathbf{Au}, ..., \\mathbf A^{j-1} \\mathbf u \\}$ \n",
    "\n",
    "<small>ON = Orthonormal</small>"
   ]
  },
  {
   "cell_type": "markdown",
   "metadata": {},
   "source": [
    "### Arnoldi relation:\n",
    "$\\mathbf{A} \\mathbf{V}_j = \\mathbf{V}_{j+1} \\mathbf{\\overline{H}}_j$\n",
    "\n",
    "where\n",
    "\n",
    "$\\mathbf{\\overline{H}}_j \\in \\mathbb C^{(j+1) \\times j}$ (upper Hessenberg matrix)\n",
    "\n",
    "$\\mathbf{\\overline{V}}_j \\in \\mathbb C^{n \\times j}$ (matrix with orthonormal columns)\n",
    "\n",
    "$\\mathbf x_0 := $  initial approximation to the solution (maybe random)\n",
    "\n",
    "$\\mathbf r_0 = b - \\mathbf A \\mathbf x_0 := $  initial residual\n",
    "\n",
    "$\\mathbf x_j = \\mathbf x_0 + \\mathbf t_j$ @ iteration $j$, where $\\mathbf t_j \\in  \\mathcal{K}_j (\\mathbf A, \\mathbf r_0)$:\n",
    "\n",
    "$\\mathbf t_j :=$ *correction*\n",
    "\n",
    "$\\mathcal{K}_j (\\mathbf A, \\mathbf r_0) := $ *search space*\n"
   ]
  },
  {
   "cell_type": "markdown",
   "metadata": {},
   "source": [
    "### GMRES:\n",
    "\n",
    "$\\mathbf b - \\mathbf A (\\mathbf x_0 + \\mathbf t_j) \\bot  \\mathbf A \\mathcal{K}_j (\\mathbf A, \\mathbf r_0)$\n",
    "\n",
    "$\\mathbf t_j = \\underset{\\mathbf t \\in \\mathcal{K}_j (\\mathbf A, \\mathbf r_0)}{\\texttt{argmin}}  \\lVert \\mathbf b - \\mathbf A (\\mathbf x_0 + \\mathbf t) \\rVert \\rightarrow$ this is equivalent to solving a $(j+1) \\times j$ minimization problem: \n",
    "\n",
    "$\\mathbf y_j = \\underset{\\mathbf y \\in \\mathbb C^j}{\\texttt{argmin}}  \\left\\lVert \\overline{H}_j \\mathbf y - \\left\\lVert \\mathbf r_0 \\right\\rVert  \\mathbf e_1^{(j+1)} \\right\\rVert$ $\\rightarrow$ $\\mathbf x_j = \\mathbf x_0 + \\mathbf V_j \\mathbf y_j$\n",
    "\n",
    "where $\\mathbf e_J^{(i)} :=$ the $J$ th Cartisian basis vector in $\\mathbb C^i$\n",
    "\n",
    "GMRES(m) = `restarted GMRES` : run an $m$ -step cycle of the GMRES method and compute and approximation $\\mathbf x_m$\n"
   ]
  },
  {
   "cell_type": "markdown",
   "metadata": {},
   "source": [
    "### Full Orthogonalization Method (FOM)\n",
    "\n",
    "$\\mathbf b - \\mathbf A (\\mathbf x_0 + \\mathbf t_j) \\bot  \\mathbf A \\mathcal{K}_j (\\mathbf A, \\mathbf r_0)$\n",
    "\n",
    "which is equivalent to solving a $j \\times j$ linear system $\\mathbf H_j \\mathbf y_j = \\beta \\mathbf e_1^{(j)}$\n",
    "\n",
    "and where $\\mathbf H_j \\in \\mathbb C^{j \\times j}$ is obtained by deleting the last row of $\\mathbf{\\overline{H}}_j$\n",
    "\n",
    "FOM(m) = `restarted FOM`"
   ]
  },
  {
   "cell_type": "markdown",
   "metadata": {},
   "source": [
    "```\n",
    "Note!\n",
    "The focus of the paper is the augmentation techniques, Subspace recycling with GMRES (rGMRES or GCRO-DR)."
   ]
  },
  {
   "cell_type": "markdown",
   "metadata": {},
   "source": [
    "## Recycling GMRES [44]\n",
    "\n"
   ]
  },
  {
   "cell_type": "markdown",
   "metadata": {},
   "source": []
  }
 ],
 "metadata": {
  "kernelspec": {
   "display_name": "Julia 1.6.2",
   "language": "julia",
   "name": "julia-1.6"
  },
  "language_info": {
   "file_extension": ".jl",
   "mimetype": "application/julia",
   "name": "julia",
   "version": "1.6.2"
  },
  "orig_nbformat": 4,
  "vscode": {
   "interpreter": {
    "hash": "916dbcbb3f70747c44a77c7bcd40155683ae19c65e1c03b4aa3499c5328201f1"
   }
  }
 },
 "nbformat": 4,
 "nbformat_minor": 2
}
