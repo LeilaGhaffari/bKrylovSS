{
 "cells": [
  {
   "cell_type": "code",
   "execution_count": 8,
   "metadata": {},
   "outputs": [],
   "source": [
    "using LinearAlgebra\n",
    "using SparseArrays\n",
    "using Plots"
   ]
  },
  {
   "cell_type": "code",
   "execution_count": 9,
   "metadata": {},
   "outputs": [
    {
     "data": {
      "text/plain": [
       "arnoldi (generic function with 1 method)"
      ]
     },
     "execution_count": 9,
     "metadata": {},
     "output_type": "execute_result"
    }
   ],
   "source": [
    "# Arnoldi process\n",
    "#  u = some starting vector\n",
    "function arnoldi(A, u, m)\n",
    "    n = size(A, 1)\n",
    "    Q = zeros(n, m+1)\n",
    "    H = zeros(m+1, m)\n",
    "    Q[:, 1] = u / norm(u)\n",
    "    for j in 1:m\n",
    "        v = A*Q[:, j]\n",
    "        for i in 1:j\n",
    "            H[i, j] = Q[:, i]' * v\n",
    "            v -= H[i, j] * Q[:, i]\n",
    "        end\n",
    "        H[j+1, j] = norm(v)\n",
    "        Q[:, j+1] = v / H[j+1, j]\n",
    "    end\n",
    "    Q, H\n",
    "end"
   ]
  },
  {
   "cell_type": "code",
   "execution_count": 25,
   "metadata": {},
   "outputs": [
    {
     "data": {
      "text/plain": [
       "6×6 Matrix{Float64}:\n",
       "  0.724337    0.919167   1.37817     0.772346    0.253863  -0.290629\n",
       " -0.57407     0.995886   0.204357    0.93085     0.492811  -1.38994\n",
       "  1.08338    -1.35028   -0.479225    1.21038    -0.393244  -0.764453\n",
       " -0.0504221  -0.489123  -0.376163   -0.560132   -0.750691   0.0631187\n",
       " -0.743372    0.644115   0.0900297   0.778577   -0.766169   0.470771\n",
       " -0.363684   -0.163071   2.35076    -0.0244885   0.484369  -0.320801"
      ]
     },
     "execution_count": 25,
     "metadata": {},
     "output_type": "execute_result"
    }
   ],
   "source": [
    "n = 6\n",
    "M = 2\n",
    "L = 2\n",
    "σ =  [i+10 for i in 1:L]\n",
    "b = randn(n, 1)\n",
    "A = randn(n, n)"
   ]
  },
  {
   "cell_type": "code",
   "execution_count": 37,
   "metadata": {},
   "outputs": [],
   "source": [
    "Q, H = arnoldi(A, b, M);"
   ]
  },
  {
   "cell_type": "code",
   "execution_count": 38,
   "metadata": {},
   "outputs": [
    {
     "data": {
      "text/plain": [
       "6×3 Matrix{Float64}:\n",
       "  0.304611  -0.309989    0.781604\n",
       " -0.354201  -0.0301539   0.240772\n",
       " -0.244494   0.750485    0.408992\n",
       " -0.222838   0.386696   -0.10901\n",
       " -0.474051  -0.303725   -0.254321\n",
       " -0.669025  -0.313029    0.295445"
      ]
     },
     "execution_count": 38,
     "metadata": {},
     "output_type": "execute_result"
    }
   ],
   "source": [
    "Q"
   ]
  },
  {
   "cell_type": "code",
   "execution_count": 39,
   "metadata": {},
   "outputs": [
    {
     "data": {
      "text/plain": [
       "3×2 Matrix{Float64}:\n",
       " 0.0943196  -1.52263\n",
       " 1.83434    -1.11288\n",
       " 0.0         1.55245"
      ]
     },
     "execution_count": 39,
     "metadata": {},
     "output_type": "execute_result"
    }
   ],
   "source": [
    "H"
   ]
  },
  {
   "cell_type": "code",
   "execution_count": 40,
   "metadata": {},
   "outputs": [],
   "source": [
    "res = zeros(M, 1)\n",
    "# least square w/GMRES\n",
    "for m in 1:M\n",
    "    s = vcat(norm(b), zeros(m, 1))\n",
    "    z = H[1:m+1, 1:m] \\ s\n",
    "    x = Q[:, 1:m] * z\n",
    "    res[m] = norm(b - A*x)\n",
    "end"
   ]
  },
  {
   "cell_type": "code",
   "execution_count": null,
   "metadata": {},
   "outputs": [],
   "source": []
  }
 ],
 "metadata": {
  "kernelspec": {
   "display_name": "Julia 1.6.2",
   "language": "julia",
   "name": "julia-1.6"
  },
  "language_info": {
   "file_extension": ".jl",
   "mimetype": "application/julia",
   "name": "julia",
   "version": "1.6.2"
  },
  "orig_nbformat": 4,
  "vscode": {
   "interpreter": {
    "hash": "916dbcbb3f70747c44a77c7bcd40155683ae19c65e1c03b4aa3499c5328201f1"
   }
  }
 },
 "nbformat": 4,
 "nbformat_minor": 2
}
