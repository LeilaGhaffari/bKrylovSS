{
 "cells": [
  {
   "cell_type": "code",
   "execution_count": 1,
   "metadata": {},
   "outputs": [],
   "source": [
    "using LinearAlgebra\n",
    "using SparseArrays\n",
    "using Plots"
   ]
  },
  {
   "cell_type": "code",
   "execution_count": 2,
   "metadata": {},
   "outputs": [
    {
     "data": {
      "text/plain": [
       "arnoldi (generic function with 1 method)"
      ]
     },
     "execution_count": 2,
     "metadata": {},
     "output_type": "execute_result"
    }
   ],
   "source": [
    "# Arnoldi process\n",
    "function arnoldi(A, u, m)\n",
    "    n = size(A, 1)\n",
    "    Q = zeros(n, m+1)\n",
    "    H = zeros(m+1, m)\n",
    "    Q[:, 1] = u / norm(u)\n",
    "    for j in 1:m\n",
    "        v = A*Q[:, j]\n",
    "        for i in 1:j\n",
    "            H[i, j] = Q[:, i]' * v\n",
    "            v -= H[i, j] * Q[:, i]\n",
    "        end\n",
    "        H[j+1, j] = norm(v)\n",
    "        Q[:, j+1] = v / H[j+1, j]\n",
    "    end\n",
    "    Q, H\n",
    "end"
   ]
  },
  {
   "cell_type": "code",
   "execution_count": 3,
   "metadata": {},
   "outputs": [],
   "source": [
    "n = 100\n",
    "M = 40\n",
    "L = 4\n",
    "#^^^^^^^^^^^^^^^^^^^^^^^#\n",
    "#  A*X_σ - X_σ * D = B  #\n",
    "#_______________________#\n",
    "# LHS\n",
    "#   A\n",
    "λ =  [i+10 for i in 1:n]\n",
    "a = randn(n, n)\n",
    "A = UpperTriangular(a) - diagm(diag(a)) + diagm(λ)\n",
    "#   Shift\n",
    "σ =  rand(1:9, L)\n",
    "D = diagm(σ)\n",
    "#   X_σ \n",
    "X_σ = zeros(n, L) \n",
    "# RHS\n",
    "B = randn(n, L);"
   ]
  },
  {
   "cell_type": "code",
   "execution_count": 4,
   "metadata": {},
   "outputs": [],
   "source": [
    "R = zeros(M, L)\n",
    "for l=1:L\n",
    "    lhs = A - D[l, l]*I\n",
    "    b = B[:, l]\n",
    "    Q, H = arnoldi(lhs, b, M)\n",
    "    for m in 1:M\n",
    "        s = vcat(norm(b), zeros(m, 1))\n",
    "        z = H[1:m+1, 1:m] \\ s\n",
    "        x = Q[:, 1:m] * z\n",
    "        R[m, l] = norm(b - lhs*x)\n",
    "        X_σ[:, l] = x\n",
    "    end\n",
    "end"
   ]
  },
  {
   "cell_type": "code",
   "execution_count": 5,
   "metadata": {},
   "outputs": [
    {
     "data": {
      "text/plain": [
       "4-element Vector{Float64}:\n",
       " 1.4600722544352963e-9\n",
       " 1.091110085982547e-8\n",
       " 7.939020655220514e-9\n",
       " 1.3401529795477136e-6"
      ]
     },
     "execution_count": 5,
     "metadata": {},
     "output_type": "execute_result"
    }
   ],
   "source": [
    "R[end, :]"
   ]
  },
  {
   "cell_type": "code",
   "execution_count": null,
   "metadata": {},
   "outputs": [],
   "source": []
  }
 ],
 "metadata": {
  "kernelspec": {
   "display_name": "Julia 1.6.2",
   "language": "julia",
   "name": "julia-1.6"
  },
  "language_info": {
   "file_extension": ".jl",
   "mimetype": "application/julia",
   "name": "julia",
   "version": "1.6.2"
  },
  "orig_nbformat": 4,
  "vscode": {
   "interpreter": {
    "hash": "916dbcbb3f70747c44a77c7bcd40155683ae19c65e1c03b4aa3499c5328201f1"
   }
  }
 },
 "nbformat": 4,
 "nbformat_minor": 2
}
